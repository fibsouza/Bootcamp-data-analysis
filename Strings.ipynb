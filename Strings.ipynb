{
  "nbformat": 4,
  "nbformat_minor": 0,
  "metadata": {
    "kernelspec": {
      "display_name": "Python 3",
      "language": "python",
      "name": "python3"
    },
    "language_info": {
      "codemirror_mode": {
        "name": "ipython",
        "version": 3
      },
      "file_extension": ".py",
      "mimetype": "text/x-python",
      "name": "python",
      "nbconvert_exporter": "python",
      "pygments_lexer": "ipython3",
      "version": "3.7.4"
    },
    "colab": {
      "name": "Strings.ipynb",
      "provenance": [],
      "collapsed_sections": [],
      "include_colab_link": true
    }
  },
  "cells": [
    {
      "cell_type": "markdown",
      "metadata": {
        "id": "view-in-github",
        "colab_type": "text"
      },
      "source": [
        "<a href=\"https://colab.research.google.com/github/fibsouza/Bootcamp-data-analysis/blob/master/Strings.ipynb\" target=\"_parent\"><img src=\"https://colab.research.google.com/assets/colab-badge.svg\" alt=\"Open In Colab\"/></a>"
      ]
    },
    {
      "cell_type": "markdown",
      "metadata": {
        "id": "Y4qfPUWR5mAp",
        "colab_type": "text"
      },
      "source": [
        "# Objetivo \n",
        "\n",
        "\n",
        "Manipulação de strings com Python"
      ]
    },
    {
      "cell_type": "markdown",
      "metadata": {
        "id": "6QNvBxR5_--f",
        "colab_type": "text"
      },
      "source": [
        "## Indexação"
      ]
    },
    {
      "cell_type": "code",
      "metadata": {
        "id": "ISVOzSPKAJRM",
        "colab_type": "code",
        "colab": {
          "base_uri": "https://localhost:8080/",
          "height": 35
        },
        "outputId": "70bcb950-5a69-48ec-aa36-859b63e60a11"
      },
      "source": [
        "Texto = \"Olá pessoal! Estamos prontos pra começar?\"\n",
        "\n",
        "Texto[:12]"
      ],
      "execution_count": 33,
      "outputs": [
        {
          "output_type": "execute_result",
          "data": {
            "application/vnd.google.colaboratory.intrinsic": {
              "type": "string"
            },
            "text/plain": [
              "'Olá pessoal!'"
            ]
          },
          "metadata": {
            "tags": []
          },
          "execution_count": 33
        }
      ]
    },
    {
      "cell_type": "code",
      "metadata": {
        "id": "yS86o7neAZ6L",
        "colab_type": "code",
        "colab": {
          "base_uri": "https://localhost:8080/",
          "height": 35
        },
        "outputId": "e11f4eb1-2f2a-40c1-82cb-99db83c16207"
      },
      "source": [
        "Texto[-8:-1]"
      ],
      "execution_count": 37,
      "outputs": [
        {
          "output_type": "execute_result",
          "data": {
            "application/vnd.google.colaboratory.intrinsic": {
              "type": "string"
            },
            "text/plain": [
              "'começar'"
            ]
          },
          "metadata": {
            "tags": []
          },
          "execution_count": 37
        }
      ]
    },
    {
      "cell_type": "markdown",
      "metadata": {
        "id": "M2sHnTuj56Ts",
        "colab_type": "text"
      },
      "source": [
        "## Formatação da fonte"
      ]
    },
    {
      "cell_type": "code",
      "metadata": {
        "id": "y8rsl5D75a7k",
        "colab_type": "code",
        "colab": {
          "base_uri": "https://localhost:8080/",
          "height": 35
        },
        "outputId": "c2e12f2e-b67e-4976-c38a-a4982ae9a806"
      },
      "source": [
        "A = \"heLLO\"\n",
        "A.lower()"
      ],
      "execution_count": 5,
      "outputs": [
        {
          "output_type": "execute_result",
          "data": {
            "application/vnd.google.colaboratory.intrinsic": {
              "type": "string"
            },
            "text/plain": [
              "'hello'"
            ]
          },
          "metadata": {
            "tags": []
          },
          "execution_count": 5
        }
      ]
    },
    {
      "cell_type": "code",
      "metadata": {
        "id": "_FAFvWwB5a7t",
        "colab_type": "code",
        "colab": {
          "base_uri": "https://localhost:8080/",
          "height": 35
        },
        "outputId": "22e0c0f6-fadb-4e34-f6ec-ca348e8cfda0"
      },
      "source": [
        "B = 'olá amigos, viemos receber notícias!'\n",
        "B.upper()"
      ],
      "execution_count": 8,
      "outputs": [
        {
          "output_type": "execute_result",
          "data": {
            "application/vnd.google.colaboratory.intrinsic": {
              "type": "string"
            },
            "text/plain": [
              "'OLÁ AMIGOS, VIEMOS RECEBER NOTÍCIAS!'"
            ]
          },
          "metadata": {
            "tags": []
          },
          "execution_count": 8
        }
      ]
    },
    {
      "cell_type": "code",
      "metadata": {
        "id": "cvJo7BG95a73",
        "colab_type": "code",
        "colab": {
          "base_uri": "https://localhost:8080/",
          "height": 35
        },
        "outputId": "1d885220-5710-4237-a83c-819921c999ff"
      },
      "source": [
        "#Apenas a primeira posição da strings será capitalizada\n",
        "B.capitalize()"
      ],
      "execution_count": 9,
      "outputs": [
        {
          "output_type": "execute_result",
          "data": {
            "application/vnd.google.colaboratory.intrinsic": {
              "type": "string"
            },
            "text/plain": [
              "'Olá amigos, viemos receber notícias!'"
            ]
          },
          "metadata": {
            "tags": []
          },
          "execution_count": 9
        }
      ]
    },
    {
      "cell_type": "code",
      "metadata": {
        "id": "8yP5Sehh5a79",
        "colab_type": "code",
        "colab": {
          "base_uri": "https://localhost:8080/",
          "height": 35
        },
        "outputId": "0252c0b3-3bda-4adc-e110-1e072e2bba78"
      },
      "source": [
        "#Irá capitalizar a primeira posição de cada palavra , não só da primeira palavra\n",
        "B.title()"
      ],
      "execution_count": 10,
      "outputs": [
        {
          "output_type": "execute_result",
          "data": {
            "application/vnd.google.colaboratory.intrinsic": {
              "type": "string"
            },
            "text/plain": [
              "'Olá Amigos, Viemos Receber Notícias!'"
            ]
          },
          "metadata": {
            "tags": []
          },
          "execution_count": 10
        }
      ]
    },
    {
      "cell_type": "markdown",
      "metadata": {
        "id": "INWRhE2l_3hj",
        "colab_type": "text"
      },
      "source": [
        "\n",
        "\n",
        "---\n",
        "\n"
      ]
    },
    {
      "cell_type": "markdown",
      "metadata": {
        "id": "U0dY5NOG6I3q",
        "colab_type": "text"
      },
      "source": [
        "# Strings são imutáveis"
      ]
    },
    {
      "cell_type": "code",
      "metadata": {
        "id": "NSQWtAcp6MqV",
        "colab_type": "code",
        "colab": {
          "base_uri": "https://localhost:8080/",
          "height": 33
        },
        "outputId": "55f1b983-83af-4411-f2df-85b2db29bf98"
      },
      "source": [
        "x = 'Meu nome é Joana'\n",
        "x.title() , x"
      ],
      "execution_count": 3,
      "outputs": [
        {
          "output_type": "execute_result",
          "data": {
            "text/plain": [
              "('Meu Nome É Joana', 'Meu nome é Joana')"
            ]
          },
          "metadata": {
            "tags": []
          },
          "execution_count": 3
        }
      ]
    },
    {
      "cell_type": "markdown",
      "metadata": {
        "id": "Cb25HApx5a8G",
        "colab_type": "text"
      },
      "source": [
        "\n",
        "\n",
        "---\n",
        "\n"
      ]
    },
    {
      "cell_type": "markdown",
      "metadata": {
        "id": "E8aMWxeQ5a8H",
        "colab_type": "text"
      },
      "source": [
        "## Concatenar"
      ]
    },
    {
      "cell_type": "code",
      "metadata": {
        "id": "VSvZK7th5a8J",
        "colab_type": "code",
        "colab": {
          "base_uri": "https://localhost:8080/",
          "height": 35
        },
        "outputId": "ed489974-7908-4bac-96fe-482e01d7da4a"
      },
      "source": [
        "#É possível concater strings diretamente\n",
        "\"Olá\"+\"amigos\""
      ],
      "execution_count": 12,
      "outputs": [
        {
          "output_type": "execute_result",
          "data": {
            "application/vnd.google.colaboratory.intrinsic": {
              "type": "string"
            },
            "text/plain": [
              "'Oláamigos'"
            ]
          },
          "metadata": {
            "tags": []
          },
          "execution_count": 12
        }
      ]
    },
    {
      "cell_type": "code",
      "metadata": {
        "id": "ajnKcdJb79nI",
        "colab_type": "code",
        "colab": {
          "base_uri": "https://localhost:8080/",
          "height": 35
        },
        "outputId": "cde41d8d-b86b-4b72-8649-e113f76e7d48"
      },
      "source": [
        "#É possível concatenar variaveis e strings diretamente\n",
        "\n",
        "label = \"Label\"\n",
        "valor = \"Valor detalhado\"\n",
        "\n",
        "label+ \": \"+valor"
      ],
      "execution_count": 13,
      "outputs": [
        {
          "output_type": "execute_result",
          "data": {
            "application/vnd.google.colaboratory.intrinsic": {
              "type": "string"
            },
            "text/plain": [
              "'Label: Valor detalhado'"
            ]
          },
          "metadata": {
            "tags": []
          },
          "execution_count": 13
        }
      ]
    },
    {
      "cell_type": "code",
      "metadata": {
        "id": "OxczYqZl83PG",
        "colab_type": "code",
        "colab": {
          "base_uri": "https://localhost:8080/",
          "height": 35
        },
        "outputId": "af9633eb-53b2-4697-b915-bd0356b10415"
      },
      "source": [
        "#Mas note que não poderá concatenar tipo numérico com string diretamente \n",
        "\n",
        "nome = \"Franciele \"\n",
        "idade = 28\n",
        "#nome + idade --> TypeError\n",
        "\n",
        "#para corrigir isso, use o conversor para string\n",
        "nome + str(idade)"
      ],
      "execution_count": 17,
      "outputs": [
        {
          "output_type": "execute_result",
          "data": {
            "application/vnd.google.colaboratory.intrinsic": {
              "type": "string"
            },
            "text/plain": [
              "'Franciele 28'"
            ]
          },
          "metadata": {
            "tags": []
          },
          "execution_count": 17
        }
      ]
    },
    {
      "cell_type": "markdown",
      "metadata": {
        "id": "ycxANFLd9hCL",
        "colab_type": "text"
      },
      "source": [
        "\n",
        "\n",
        "---\n",
        "\n"
      ]
    },
    {
      "cell_type": "markdown",
      "metadata": {
        "id": "1RXp89UN5a8P",
        "colab_type": "text"
      },
      "source": [
        "## Operações com strings"
      ]
    },
    {
      "cell_type": "code",
      "metadata": {
        "id": "6Gd0o-1R5a8R",
        "colab_type": "code",
        "colab": {
          "base_uri": "https://localhost:8080/",
          "height": 35
        },
        "outputId": "4c1d2412-6771-4f0f-920d-43c770a5b232"
      },
      "source": [
        "\"123\"*3"
      ],
      "execution_count": 18,
      "outputs": [
        {
          "output_type": "execute_result",
          "data": {
            "application/vnd.google.colaboratory.intrinsic": {
              "type": "string"
            },
            "text/plain": [
              "'123123123'"
            ]
          },
          "metadata": {
            "tags": []
          },
          "execution_count": 18
        }
      ]
    },
    {
      "cell_type": "code",
      "metadata": {
        "id": "-Sqd0bLZ5a8Z",
        "colab_type": "code",
        "colab": {
          "base_uri": "https://localhost:8080/",
          "height": 35
        },
        "outputId": "74d361be-f031-4693-bf17-af4fd917b3bc"
      },
      "source": [
        "\"----//----\"*6"
      ],
      "execution_count": 20,
      "outputs": [
        {
          "output_type": "execute_result",
          "data": {
            "application/vnd.google.colaboratory.intrinsic": {
              "type": "string"
            },
            "text/plain": [
              "'----//--------//--------//--------//--------//--------//----'"
            ]
          },
          "metadata": {
            "tags": []
          },
          "execution_count": 20
        }
      ]
    },
    {
      "cell_type": "markdown",
      "metadata": {
        "id": "Gmg-6sLc-CfC",
        "colab_type": "text"
      },
      "source": [
        "## Remover caracteres"
      ]
    },
    {
      "cell_type": "markdown",
      "metadata": {
        "id": "4Qir6W5m5a8i",
        "colab_type": "text"
      },
      "source": [
        "<b> strip(s[, chars])</b> : Return a copy of the string with leading and trailing characters removed. If chars is omitted or None, whitespace characters are removed."
      ]
    },
    {
      "cell_type": "code",
      "metadata": {
        "id": "S4h2WgKF5a8j",
        "colab_type": "code",
        "colab": {
          "base_uri": "https://localhost:8080/",
          "height": 35
        },
        "outputId": "5a20ce22-49bf-497a-a09e-30748fe96460"
      },
      "source": [
        "C = \"       Extras\\n\"\n",
        "print(C)"
      ],
      "execution_count": 22,
      "outputs": [
        {
          "output_type": "execute_result",
          "data": {
            "application/vnd.google.colaboratory.intrinsic": {
              "type": "string"
            },
            "text/plain": [
              "'       Extras\\n'"
            ]
          },
          "metadata": {
            "tags": []
          },
          "execution_count": 22
        }
      ]
    },
    {
      "cell_type": "code",
      "metadata": {
        "id": "HhSSAg1P5a8w",
        "colab_type": "code",
        "colab": {
          "base_uri": "https://localhost:8080/",
          "height": 35
        },
        "outputId": "b24e3b12-9b4a-4d1f-f59a-2fe6b824acd7"
      },
      "source": [
        "C.strip()"
      ],
      "execution_count": 23,
      "outputs": [
        {
          "output_type": "execute_result",
          "data": {
            "application/vnd.google.colaboratory.intrinsic": {
              "type": "string"
            },
            "text/plain": [
              "'Extras'"
            ]
          },
          "metadata": {
            "tags": []
          },
          "execution_count": 23
        }
      ]
    },
    {
      "cell_type": "code",
      "metadata": {
        "id": "4JGtZtzJ5a84",
        "colab_type": "code",
        "colab": {
          "base_uri": "https://localhost:8080/",
          "height": 33
        },
        "outputId": "9d59059c-71e9-4b37-b852-40b3cbefb010"
      },
      "source": [
        "D = \"**    SHHSSHHHH\"\n",
        "print(D)"
      ],
      "execution_count": 24,
      "outputs": [
        {
          "output_type": "stream",
          "text": [
            "**    SHHSSHHHH\n"
          ],
          "name": "stdout"
        }
      ]
    },
    {
      "cell_type": "code",
      "metadata": {
        "id": "aR8-5p8Z5a9B",
        "colab_type": "code",
        "colab": {
          "base_uri": "https://localhost:8080/",
          "height": 35
        },
        "outputId": "943042ef-27c1-4554-c462-c0b70feee824"
      },
      "source": [
        "D.strip(\"*\").strip()"
      ],
      "execution_count": 25,
      "outputs": [
        {
          "output_type": "execute_result",
          "data": {
            "application/vnd.google.colaboratory.intrinsic": {
              "type": "string"
            },
            "text/plain": [
              "'SHHSSHHHH'"
            ]
          },
          "metadata": {
            "tags": []
          },
          "execution_count": 25
        }
      ]
    },
    {
      "cell_type": "markdown",
      "metadata": {
        "id": "oS8DVIBq-l9_",
        "colab_type": "text"
      },
      "source": [
        "\n",
        "\n",
        "---\n",
        "\n",
        "\n",
        "\n",
        "---\n",
        "\n"
      ]
    },
    {
      "cell_type": "markdown",
      "metadata": {
        "id": "O3mi3egZ5a9Q",
        "colab_type": "text"
      },
      "source": [
        "## Split\n",
        "\n",
        "Por default, utiliza espaço vazio para cortar a string caso nada seja informado no parâmetro"
      ]
    },
    {
      "cell_type": "code",
      "metadata": {
        "id": "7OYM4Ise5a9S",
        "colab_type": "code",
        "colab": {}
      },
      "source": [
        "E = \"Vamos cortar essa string em partes\""
      ],
      "execution_count": 26,
      "outputs": []
    },
    {
      "cell_type": "code",
      "metadata": {
        "id": "yAx_uf3O5a9Y",
        "colab_type": "code",
        "colab": {
          "base_uri": "https://localhost:8080/",
          "height": 33
        },
        "outputId": "61985353-8f7e-41b4-c783-889cf2e4476b"
      },
      "source": [
        "E.split()"
      ],
      "execution_count": 27,
      "outputs": [
        {
          "output_type": "execute_result",
          "data": {
            "text/plain": [
              "['Vamos', 'cortar', 'essa', 'string', 'em', 'partes']"
            ]
          },
          "metadata": {
            "tags": []
          },
          "execution_count": 27
        }
      ]
    },
    {
      "cell_type": "code",
      "metadata": {
        "id": "HX4vGjQt5a9g",
        "colab_type": "code",
        "colab": {}
      },
      "source": [
        "F = \"Maça, Banana, Laranja, Pera\""
      ],
      "execution_count": 28,
      "outputs": []
    },
    {
      "cell_type": "code",
      "metadata": {
        "id": "gQ7iOonG5a9o",
        "colab_type": "code",
        "colab": {
          "base_uri": "https://localhost:8080/",
          "height": 33
        },
        "outputId": "e7b0a69c-a11c-465c-d538-d6e1ecdfb0b5"
      },
      "source": [
        "F.split(\",\")"
      ],
      "execution_count": 29,
      "outputs": [
        {
          "output_type": "execute_result",
          "data": {
            "text/plain": [
              "['Maça', ' Banana', ' Laranja', ' Pera']"
            ]
          },
          "metadata": {
            "tags": []
          },
          "execution_count": 29
        }
      ]
    },
    {
      "cell_type": "markdown",
      "metadata": {
        "id": "PSTLuMAp_khu",
        "colab_type": "text"
      },
      "source": [
        "\n",
        "\n",
        "---\n",
        "\n",
        "\n",
        "\n",
        "---\n",
        "\n"
      ]
    },
    {
      "cell_type": "markdown",
      "metadata": {
        "id": "H3XZGJIO5a9w",
        "colab_type": "text"
      },
      "source": [
        "##Slicing"
      ]
    },
    {
      "cell_type": "code",
      "metadata": {
        "id": "OUPw2BGo5a9x",
        "colab_type": "code",
        "colab": {}
      },
      "source": [
        "G = \"Olá pessoal! Estamos prontos pra começar?\""
      ],
      "execution_count": 30,
      "outputs": []
    },
    {
      "cell_type": "code",
      "metadata": {
        "id": "AQYnzFI25a92",
        "colab_type": "code",
        "colab": {
          "base_uri": "https://localhost:8080/",
          "height": 35
        },
        "outputId": "463a1507-cca6-4fe4-faf0-ebd04b555cac"
      },
      "source": [
        "G[-1]"
      ],
      "execution_count": 31,
      "outputs": [
        {
          "output_type": "execute_result",
          "data": {
            "application/vnd.google.colaboratory.intrinsic": {
              "type": "string"
            },
            "text/plain": [
              "'?'"
            ]
          },
          "metadata": {
            "tags": []
          },
          "execution_count": 31
        }
      ]
    },
    {
      "cell_type": "code",
      "metadata": {
        "id": "Klwv2htX5a9-",
        "colab_type": "code",
        "colab": {},
        "outputId": "ff3851f4-556c-48a5-f14e-ad75c265c2ac"
      },
      "source": [
        "str_2[2:5] "
      ],
      "execution_count": null,
      "outputs": [
        {
          "output_type": "execute_result",
          "data": {
            "text/plain": [
              "'a s'"
            ]
          },
          "metadata": {
            "tags": []
          },
          "execution_count": 55
        }
      ]
    },
    {
      "cell_type": "code",
      "metadata": {
        "id": "zEa81AWp5a-C",
        "colab_type": "code",
        "colab": {},
        "outputId": "4224227e-8d4d-4322-d1bb-4cf8d48bf6b9"
      },
      "source": [
        "str_2[-4:-1]"
      ],
      "execution_count": null,
      "outputs": [
        {
          "output_type": "execute_result",
          "data": {
            "text/plain": [
              "'rin'"
            ]
          },
          "metadata": {
            "tags": []
          },
          "execution_count": 56
        }
      ]
    },
    {
      "cell_type": "markdown",
      "metadata": {
        "id": "HflzSzv75a-I",
        "colab_type": "text"
      },
      "source": [
        "<b> Substring Testing</b>"
      ]
    },
    {
      "cell_type": "code",
      "metadata": {
        "id": "PC9P5YRM5a-J",
        "colab_type": "code",
        "colab": {}
      },
      "source": [
        "word = \"Hello\""
      ],
      "execution_count": null,
      "outputs": []
    },
    {
      "cell_type": "code",
      "metadata": {
        "id": "kHEW4hK25a-R",
        "colab_type": "code",
        "colab": {},
        "outputId": "3c2717eb-6388-4fc8-c2b1-958f74b3a40c"
      },
      "source": [
        "\"He\" in word"
      ],
      "execution_count": null,
      "outputs": [
        {
          "output_type": "execute_result",
          "data": {
            "text/plain": [
              "True"
            ]
          },
          "metadata": {
            "tags": []
          },
          "execution_count": 59
        }
      ]
    },
    {
      "cell_type": "code",
      "metadata": {
        "id": "1Rcm_dwE5a-Z",
        "colab_type": "code",
        "colab": {},
        "outputId": "bc772397-6bf9-4951-88cc-a3fdc4711590"
      },
      "source": [
        "\"HE\" in word"
      ],
      "execution_count": null,
      "outputs": [
        {
          "output_type": "execute_result",
          "data": {
            "text/plain": [
              "False"
            ]
          },
          "metadata": {
            "tags": []
          },
          "execution_count": 60
        }
      ]
    },
    {
      "cell_type": "code",
      "metadata": {
        "id": "X8DIxG7Q5a-g",
        "colab_type": "code",
        "colab": {},
        "outputId": "fc263c4c-9b88-474c-be2c-346af2b09c8e"
      },
      "source": [
        "word.find(\"pl\")"
      ],
      "execution_count": null,
      "outputs": [
        {
          "output_type": "execute_result",
          "data": {
            "text/plain": [
              "-1"
            ]
          },
          "metadata": {
            "tags": []
          },
          "execution_count": 62
        }
      ]
    },
    {
      "cell_type": "code",
      "metadata": {
        "id": "g1kYOHPj5a-m",
        "colab_type": "code",
        "colab": {},
        "outputId": "ada33cd5-0e00-449b-8ac3-a271fd10a51d"
      },
      "source": [
        "word.find(\"el\")"
      ],
      "execution_count": null,
      "outputs": [
        {
          "output_type": "execute_result",
          "data": {
            "text/plain": [
              "1"
            ]
          },
          "metadata": {
            "tags": []
          },
          "execution_count": 63
        }
      ]
    },
    {
      "cell_type": "markdown",
      "metadata": {
        "id": "9l_lwxHj5a-s",
        "colab_type": "text"
      },
      "source": [
        "<b> Slicing </b>"
      ]
    },
    {
      "cell_type": "code",
      "metadata": {
        "id": "rNi0dkmX5a-t",
        "colab_type": "code",
        "colab": {}
      },
      "source": [
        "palavra = \"PALAVRA\""
      ],
      "execution_count": null,
      "outputs": []
    },
    {
      "cell_type": "code",
      "metadata": {
        "id": "IfWypZVV5a-0",
        "colab_type": "code",
        "colab": {},
        "outputId": "538f7ca5-f005-4cb2-9931-0f8f78ec1237"
      },
      "source": [
        "palavra[1]"
      ],
      "execution_count": null,
      "outputs": [
        {
          "output_type": "execute_result",
          "data": {
            "text/plain": [
              "'A'"
            ]
          },
          "metadata": {
            "tags": []
          },
          "execution_count": 66
        }
      ]
    },
    {
      "cell_type": "code",
      "metadata": {
        "id": "91aOClq95a--",
        "colab_type": "code",
        "colab": {},
        "outputId": "84eacb28-7c32-4120-ca23-68b3c83f34c8"
      },
      "source": [
        "palavra[-4:-1]"
      ],
      "execution_count": null,
      "outputs": [
        {
          "output_type": "execute_result",
          "data": {
            "text/plain": [
              "'AVR'"
            ]
          },
          "metadata": {
            "tags": []
          },
          "execution_count": 68
        }
      ]
    },
    {
      "cell_type": "code",
      "metadata": {
        "id": "tvizORr05a_T",
        "colab_type": "code",
        "colab": {},
        "outputId": "12dbc916-b7d3-4fad-82b8-fa3902c3f369"
      },
      "source": [
        "palavra[1:6]"
      ],
      "execution_count": null,
      "outputs": [
        {
          "output_type": "execute_result",
          "data": {
            "text/plain": [
              "'ALAVR'"
            ]
          },
          "metadata": {
            "tags": []
          },
          "execution_count": 69
        }
      ]
    },
    {
      "cell_type": "code",
      "metadata": {
        "id": "iVAnqFV65a_h",
        "colab_type": "code",
        "colab": {},
        "outputId": "5a01e5fc-3af8-4be5-fe5a-f63b78612381"
      },
      "source": [
        "palavra.find(\"AL\")"
      ],
      "execution_count": null,
      "outputs": [
        {
          "output_type": "execute_result",
          "data": {
            "text/plain": [
              "1"
            ]
          },
          "metadata": {
            "tags": []
          },
          "execution_count": 81
        }
      ]
    },
    {
      "cell_type": "code",
      "metadata": {
        "id": "Ft29phzs5a_p",
        "colab_type": "code",
        "colab": {}
      },
      "source": [
        "word = '1245632'"
      ],
      "execution_count": null,
      "outputs": []
    },
    {
      "cell_type": "code",
      "metadata": {
        "id": "-ZBfOhV65a_v",
        "colab_type": "code",
        "colab": {}
      },
      "source": [
        "n = int(number)"
      ],
      "execution_count": null,
      "outputs": []
    },
    {
      "cell_type": "code",
      "metadata": {
        "id": "J12XrfUH5a_1",
        "colab_type": "code",
        "colab": {},
        "outputId": "2c45fed5-01a6-4e58-ed99-6ee28acced30"
      },
      "source": [
        "print(n)"
      ],
      "execution_count": null,
      "outputs": [
        {
          "output_type": "stream",
          "text": [
            "1245632\n"
          ],
          "name": "stdout"
        }
      ]
    },
    {
      "cell_type": "code",
      "metadata": {
        "id": "Cn92OVcj5a_8",
        "colab_type": "code",
        "colab": {},
        "outputId": "e466a8ce-468f-4418-a1f7-b757f5867956"
      },
      "source": [
        "float(n)"
      ],
      "execution_count": null,
      "outputs": [
        {
          "output_type": "execute_result",
          "data": {
            "text/plain": [
              "1245632.0"
            ]
          },
          "metadata": {
            "tags": []
          },
          "execution_count": 87
        }
      ]
    },
    {
      "cell_type": "code",
      "metadata": {
        "id": "lTCyPBjB5bAJ",
        "colab_type": "code",
        "colab": {}
      },
      "source": [
        "word = 'Hi'"
      ],
      "execution_count": null,
      "outputs": []
    },
    {
      "cell_type": "code",
      "metadata": {
        "id": "O4D0e0x45bAX",
        "colab_type": "code",
        "colab": {}
      },
      "source": [
        "int(word)"
      ],
      "execution_count": null,
      "outputs": []
    },
    {
      "cell_type": "code",
      "metadata": {
        "id": "TvhLV8N05bAd",
        "colab_type": "code",
        "colab": {}
      },
      "source": [
        "statement = 'We love {0}{1}{2}'"
      ],
      "execution_count": null,
      "outputs": []
    },
    {
      "cell_type": "code",
      "metadata": {
        "id": "vbY-s0WH5bAj",
        "colab_type": "code",
        "colab": {},
        "outputId": "5f442823-8e7c-4422-f400-391139f266ea"
      },
      "source": [
        "statement.format('java, ', 'python ', 'and ruby')"
      ],
      "execution_count": null,
      "outputs": [
        {
          "output_type": "execute_result",
          "data": {
            "text/plain": [
              "'We love java, python and ruby'"
            ]
          },
          "metadata": {
            "tags": []
          },
          "execution_count": 95
        }
      ]
    },
    {
      "cell_type": "code",
      "metadata": {
        "id": "5X0IkEvb5bAs",
        "colab_type": "code",
        "colab": {}
      },
      "source": [
        "state_0 = 'As pessoas envolvidas são:\\n'"
      ],
      "execution_count": null,
      "outputs": []
    },
    {
      "cell_type": "code",
      "metadata": {
        "id": "5YNtTsNf5bAx",
        "colab_type": "code",
        "colab": {}
      },
      "source": [
        "state_1 = state_0 + \" 1- {1}\\n 2- {2}\\n 3- {0}\".format('Helena', 'João', 'Cristina')"
      ],
      "execution_count": null,
      "outputs": []
    },
    {
      "cell_type": "code",
      "metadata": {
        "id": "H2R2txKj5bBA",
        "colab_type": "code",
        "colab": {},
        "outputId": "13041330-1b36-42b6-feb8-a9acd268edc3"
      },
      "source": [
        "print(state_1)"
      ],
      "execution_count": null,
      "outputs": [
        {
          "output_type": "stream",
          "text": [
            "As pessoas envolvidas são: \n",
            " 1- João\n",
            " 2- Cristina\n",
            " 3- Helena\n"
          ],
          "name": "stdout"
        }
      ]
    },
    {
      "cell_type": "code",
      "metadata": {
        "id": "sw46GXnC5bBH",
        "colab_type": "code",
        "colab": {}
      },
      "source": [
        ""
      ],
      "execution_count": null,
      "outputs": []
    }
  ]
}