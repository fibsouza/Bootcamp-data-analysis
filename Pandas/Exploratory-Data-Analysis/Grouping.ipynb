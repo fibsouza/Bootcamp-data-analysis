{
  "nbformat": 4,
  "nbformat_minor": 0,
  "metadata": {
    "colab": {
      "name": "Grouping.ipynb",
      "provenance": [],
      "collapsed_sections": []
    },
    "kernelspec": {
      "name": "python3",
      "display_name": "Python 3"
    }
  },
  "cells": [
    {
      "cell_type": "markdown",
      "metadata": {
        "id": "lCSzBflmIrAQ",
        "colab_type": "text"
      },
      "source": [
        "# Grouping"
      ]
    },
    {
      "cell_type": "markdown",
      "metadata": {
        "id": "hAzCC3MzItWn",
        "colab_type": "text"
      },
      "source": [
        "## The method groupby()\n",
        "\n",
        "The group by method is used on categorical variables, groups the data into subsets according\n",
        "to the different categories of that variable.\n",
        "You can group by a single variable or you can group by multiple variables by passing in multiple variable names.\n",
        "\n",
        "\n",
        "As an example, let’s say we are interested in finding the average annual spend and observe how they differ between different types of 'age_binned' and 'annual spend binned'"
      ]
    },
    {
      "cell_type": "code",
      "metadata": {
        "id": "RMj5VpYcIoUK",
        "colab_type": "code",
        "colab": {
          "base_uri": "https://localhost:8080/",
          "height": 306
        },
        "outputId": "7500745f-9ec0-4753-b6c2-f0539ce943bd"
      },
      "source": [
        "#Settings for the next examples\n",
        "import pandas as pd\n",
        "import matplotlib.pyplot as plt\n",
        "\n",
        "\n",
        "#Loading the dataset example\n",
        "file = '/content/drive/My Drive/Colab Notebooks/Data/df_purchases_profile.csv'\n",
        "df_purchase = pd.read_csv(file)\n",
        "df_purchase"
      ],
      "execution_count": 2,
      "outputs": [
        {
          "output_type": "execute_result",
          "data": {
            "text/html": [
              "<div>\n",
              "<style scoped>\n",
              "    .dataframe tbody tr th:only-of-type {\n",
              "        vertical-align: middle;\n",
              "    }\n",
              "\n",
              "    .dataframe tbody tr th {\n",
              "        vertical-align: top;\n",
              "    }\n",
              "\n",
              "    .dataframe thead th {\n",
              "        text-align: right;\n",
              "    }\n",
              "</style>\n",
              "<table border=\"1\" class=\"dataframe\">\n",
              "  <thead>\n",
              "    <tr style=\"text-align: right;\">\n",
              "      <th></th>\n",
              "      <th>annual spend</th>\n",
              "      <th>age</th>\n",
              "      <th>distance_to_store_Km</th>\n",
              "      <th>onsite</th>\n",
              "      <th>online</th>\n",
              "      <th>age_binned</th>\n",
              "      <th>annual spend binned</th>\n",
              "    </tr>\n",
              "  </thead>\n",
              "  <tbody>\n",
              "    <tr>\n",
              "      <th>0</th>\n",
              "      <td>1000</td>\n",
              "      <td>20</td>\n",
              "      <td>20</td>\n",
              "      <td>1</td>\n",
              "      <td>50</td>\n",
              "      <td>Young</td>\n",
              "      <td>high</td>\n",
              "    </tr>\n",
              "    <tr>\n",
              "      <th>1</th>\n",
              "      <td>1200</td>\n",
              "      <td>13</td>\n",
              "      <td>10</td>\n",
              "      <td>2</td>\n",
              "      <td>20</td>\n",
              "      <td>Young</td>\n",
              "      <td>high</td>\n",
              "    </tr>\n",
              "    <tr>\n",
              "      <th>2</th>\n",
              "      <td>150</td>\n",
              "      <td>35</td>\n",
              "      <td>100</td>\n",
              "      <td>5</td>\n",
              "      <td>30</td>\n",
              "      <td>Middle-age</td>\n",
              "      <td>low</td>\n",
              "    </tr>\n",
              "    <tr>\n",
              "      <th>3</th>\n",
              "      <td>400</td>\n",
              "      <td>60</td>\n",
              "      <td>3</td>\n",
              "      <td>20</td>\n",
              "      <td>1</td>\n",
              "      <td>Elderly</td>\n",
              "      <td>medium</td>\n",
              "    </tr>\n",
              "    <tr>\n",
              "      <th>4</th>\n",
              "      <td>80</td>\n",
              "      <td>40</td>\n",
              "      <td>5</td>\n",
              "      <td>5</td>\n",
              "      <td>4</td>\n",
              "      <td>Middle-age</td>\n",
              "      <td>low</td>\n",
              "    </tr>\n",
              "    <tr>\n",
              "      <th>5</th>\n",
              "      <td>500</td>\n",
              "      <td>42</td>\n",
              "      <td>1</td>\n",
              "      <td>15</td>\n",
              "      <td>5</td>\n",
              "      <td>Middle-age</td>\n",
              "      <td>medium</td>\n",
              "    </tr>\n",
              "    <tr>\n",
              "      <th>6</th>\n",
              "      <td>450</td>\n",
              "      <td>65</td>\n",
              "      <td>2</td>\n",
              "      <td>2</td>\n",
              "      <td>2</td>\n",
              "      <td>Elderly</td>\n",
              "      <td>medium</td>\n",
              "    </tr>\n",
              "    <tr>\n",
              "      <th>7</th>\n",
              "      <td>120</td>\n",
              "      <td>18</td>\n",
              "      <td>1</td>\n",
              "      <td>1</td>\n",
              "      <td>5</td>\n",
              "      <td>Young</td>\n",
              "      <td>low</td>\n",
              "    </tr>\n",
              "    <tr>\n",
              "      <th>8</th>\n",
              "      <td>950</td>\n",
              "      <td>15</td>\n",
              "      <td>30</td>\n",
              "      <td>5</td>\n",
              "      <td>25</td>\n",
              "      <td>Young</td>\n",
              "      <td>high</td>\n",
              "    </tr>\n",
              "  </tbody>\n",
              "</table>\n",
              "</div>"
            ],
            "text/plain": [
              "   annual spend  age  ...  age_binned  annual spend binned\n",
              "0          1000   20  ...       Young                 high\n",
              "1          1200   13  ...       Young                 high\n",
              "2           150   35  ...  Middle-age                  low\n",
              "3           400   60  ...     Elderly               medium\n",
              "4            80   40  ...  Middle-age                  low\n",
              "5           500   42  ...  Middle-age               medium\n",
              "6           450   65  ...     Elderly               medium\n",
              "7           120   18  ...       Young                  low\n",
              "8           950   15  ...       Young                 high\n",
              "\n",
              "[9 rows x 7 columns]"
            ]
          },
          "metadata": {
            "tags": []
          },
          "execution_count": 2
        }
      ]
    },
    {
      "cell_type": "code",
      "metadata": {
        "id": "NcZLCyMWK7YL",
        "colab_type": "code",
        "colab": {
          "base_uri": "https://localhost:8080/",
          "height": 191
        },
        "outputId": "bbca5c2b-facf-4265-9716-9e0c3fd5e47d"
      },
      "source": [
        "#Sort out just datas you want to handle\n",
        "df_purchase_grouped = df_purchase[['age_binned', 'annual spend binned', 'annual spend']]\n",
        "\n",
        "#Grouping by 'age_binned' and  'annual spend binned' returning the mean of 'annual spend' by using aggregating function mean()\n",
        "df_purchase_grouped = df_purchase_grouped.groupby(['age_binned', 'annual spend binned'], as_index=False).mean()\n",
        "df_purchase_grouped"
      ],
      "execution_count": 3,
      "outputs": [
        {
          "output_type": "execute_result",
          "data": {
            "text/html": [
              "<div>\n",
              "<style scoped>\n",
              "    .dataframe tbody tr th:only-of-type {\n",
              "        vertical-align: middle;\n",
              "    }\n",
              "\n",
              "    .dataframe tbody tr th {\n",
              "        vertical-align: top;\n",
              "    }\n",
              "\n",
              "    .dataframe thead th {\n",
              "        text-align: right;\n",
              "    }\n",
              "</style>\n",
              "<table border=\"1\" class=\"dataframe\">\n",
              "  <thead>\n",
              "    <tr style=\"text-align: right;\">\n",
              "      <th></th>\n",
              "      <th>age_binned</th>\n",
              "      <th>annual spend binned</th>\n",
              "      <th>annual spend</th>\n",
              "    </tr>\n",
              "  </thead>\n",
              "  <tbody>\n",
              "    <tr>\n",
              "      <th>0</th>\n",
              "      <td>Elderly</td>\n",
              "      <td>medium</td>\n",
              "      <td>425</td>\n",
              "    </tr>\n",
              "    <tr>\n",
              "      <th>1</th>\n",
              "      <td>Middle-age</td>\n",
              "      <td>low</td>\n",
              "      <td>115</td>\n",
              "    </tr>\n",
              "    <tr>\n",
              "      <th>2</th>\n",
              "      <td>Middle-age</td>\n",
              "      <td>medium</td>\n",
              "      <td>500</td>\n",
              "    </tr>\n",
              "    <tr>\n",
              "      <th>3</th>\n",
              "      <td>Young</td>\n",
              "      <td>high</td>\n",
              "      <td>1050</td>\n",
              "    </tr>\n",
              "    <tr>\n",
              "      <th>4</th>\n",
              "      <td>Young</td>\n",
              "      <td>low</td>\n",
              "      <td>120</td>\n",
              "    </tr>\n",
              "  </tbody>\n",
              "</table>\n",
              "</div>"
            ],
            "text/plain": [
              "   age_binned annual spend binned  annual spend\n",
              "0     Elderly              medium           425\n",
              "1  Middle-age                 low           115\n",
              "2  Middle-age              medium           500\n",
              "3       Young                high          1050\n",
              "4       Young                 low           120"
            ]
          },
          "metadata": {
            "tags": []
          },
          "execution_count": 3
        }
      ]
    },
    {
      "cell_type": "markdown",
      "metadata": {
        "id": "xYMa_KM1Br21",
        "colab_type": "text"
      },
      "source": [
        "## The method **pivot()**\n",
        "\n",
        "\n",
        "A pivot table has one variable displayed along the columns and the other variable displayed along the rows.\n",
        "\n",
        "See below that the 'annual spend' data becomes a **rectangular grid**, which is easier to visualize."
      ]
    },
    {
      "cell_type": "code",
      "metadata": {
        "id": "NUNXWP7UNHX4",
        "colab_type": "code",
        "colab": {
          "base_uri": "https://localhost:8080/",
          "height": 191
        },
        "outputId": "9d8cf79d-c47b-494d-d571-e28d5919492d"
      },
      "source": [
        "df_pivot = df_purchase_grouped.pivot(index='age_binned', columns='annual spend binned')\n",
        "\n",
        "df_pivot"
      ],
      "execution_count": 4,
      "outputs": [
        {
          "output_type": "execute_result",
          "data": {
            "text/html": [
              "<div>\n",
              "<style scoped>\n",
              "    .dataframe tbody tr th:only-of-type {\n",
              "        vertical-align: middle;\n",
              "    }\n",
              "\n",
              "    .dataframe tbody tr th {\n",
              "        vertical-align: top;\n",
              "    }\n",
              "\n",
              "    .dataframe thead tr th {\n",
              "        text-align: left;\n",
              "    }\n",
              "\n",
              "    .dataframe thead tr:last-of-type th {\n",
              "        text-align: right;\n",
              "    }\n",
              "</style>\n",
              "<table border=\"1\" class=\"dataframe\">\n",
              "  <thead>\n",
              "    <tr>\n",
              "      <th></th>\n",
              "      <th colspan=\"3\" halign=\"left\">annual spend</th>\n",
              "    </tr>\n",
              "    <tr>\n",
              "      <th>annual spend binned</th>\n",
              "      <th>high</th>\n",
              "      <th>low</th>\n",
              "      <th>medium</th>\n",
              "    </tr>\n",
              "    <tr>\n",
              "      <th>age_binned</th>\n",
              "      <th></th>\n",
              "      <th></th>\n",
              "      <th></th>\n",
              "    </tr>\n",
              "  </thead>\n",
              "  <tbody>\n",
              "    <tr>\n",
              "      <th>Elderly</th>\n",
              "      <td>NaN</td>\n",
              "      <td>NaN</td>\n",
              "      <td>425.0</td>\n",
              "    </tr>\n",
              "    <tr>\n",
              "      <th>Middle-age</th>\n",
              "      <td>NaN</td>\n",
              "      <td>115.0</td>\n",
              "      <td>500.0</td>\n",
              "    </tr>\n",
              "    <tr>\n",
              "      <th>Young</th>\n",
              "      <td>1050.0</td>\n",
              "      <td>120.0</td>\n",
              "      <td>NaN</td>\n",
              "    </tr>\n",
              "  </tbody>\n",
              "</table>\n",
              "</div>"
            ],
            "text/plain": [
              "                    annual spend              \n",
              "annual spend binned         high    low medium\n",
              "age_binned                                    \n",
              "Elderly                      NaN    NaN  425.0\n",
              "Middle-age                   NaN  115.0  500.0\n",
              "Young                     1050.0  120.0    NaN"
            ]
          },
          "metadata": {
            "tags": []
          },
          "execution_count": 4
        }
      ]
    },
    {
      "cell_type": "markdown",
      "metadata": {
        "id": "0VwF1JZpBwSo",
        "colab_type": "text"
      },
      "source": [
        "## Heat map\n",
        "\n",
        "Another way to represent the pivot table is using a heatmap plot.\n",
        "Heat map takes a rectangular grid of data and assigns a color intensity based on the data value at the grid points.\n",
        "\n",
        "It is a great way to plot the target variable over multiple variables and through this get visual clues of the relationship between these variables and the target."
      ]
    },
    {
      "cell_type": "code",
      "metadata": {
        "id": "pwFNggZ5Bzjl",
        "colab_type": "code",
        "colab": {
          "base_uri": "https://localhost:8080/",
          "height": 268
        },
        "outputId": "e026424d-bb23-406f-a65a-20b5193f70b8"
      },
      "source": [
        "plt.pcolor(df_pivot, cmap='RdBu')\n",
        "plt.colorbar()\n",
        "plt.show()"
      ],
      "execution_count": 10,
      "outputs": [
        {
          "output_type": "display_data",
          "data": {
            "image/png": "[encoded data removed]",
            "text/plain": [
              "<Figure size 432x288 with 2 Axes>"
            ]
          },
          "metadata": {
            "tags": [],
            "needs_background": "light"
          }
        }
      ]
    },
    {
      "cell_type": "code",
      "metadata": {
        "id": "4VI8sxKWCC3T",
        "colab_type": "code",
        "colab": {}
      },
      "source": [
        ""
      ],
      "execution_count": null,
      "outputs": []
    }
  ]
}