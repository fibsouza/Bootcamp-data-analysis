{
  "nbformat": 4,
  "nbformat_minor": 0,
  "metadata": {
    "colab": {
      "name": "Data_formatting.ipynb",
      "provenance": [],
      "collapsed_sections": [],
      "toc_visible": true
    },
    "kernelspec": {
      "name": "python3",
      "display_name": "Python 3"
    }
  },
  "cells": [
    {
      "cell_type": "markdown",
      "metadata": {
        "id": "2rsH2X4MHTA-",
        "colab_type": "text"
      },
      "source": [
        "# Why we should concern about data formatting? \n",
        "\n",
        "\n",
        "Data are usually collected from different places and stored in different formats.\n",
        "\n",
        "Bringing data into a common standard of expression allows users to make meaningful comparison.\n",
        "\n",
        "So, we should format to turn easy aggregate and easy to compare, besides  to turn the value more clear.\n",
        "\n",
        "\n",
        "Examples:\n",
        "\n",
        "\n",
        "Female, Famme, She, Woman, etc. all this could become -->  'F'\n",
        "NY, N.Y, New York, N.York all this could become --> New York"
      ]
    },
    {
      "cell_type": "markdown",
      "metadata": {
        "id": "DMtJKmxmJKJu",
        "colab_type": "text"
      },
      "source": [
        "## Example 1\n",
        "\n",
        "Here we want to transform feet to inch"
      ]
    },
    {
      "cell_type": "code",
      "metadata": {
        "id": "2Fy5q8HFJCgk",
        "colab_type": "code",
        "colab": {
          "base_uri": "https://localhost:8080/",
          "height": 335
        },
        "outputId": "34c82849-1a29-4cb1-8142-d27a9a1f7d98"
      },
      "source": [
        "import pandas as pd\n",
        "\n",
        "dict_metrics = {'productId': [1,2,3,4,5,6,7,8,9,10], \n",
        "           'feet': [5,6,2,20,50,5,8,9,20,7], \n",
        "           'weight in kg': ['2','3','5','61','6','4','2','4','7','1']}\n",
        "\n",
        "df_metrics = pd.DataFrame(dict_metrics)\n",
        "\n",
        "df_metrics"
      ],
      "execution_count": 39,
      "outputs": [
        {
          "output_type": "execute_result",
          "data": {
            "text/html": [
              "<div>\n",
              "<style scoped>\n",
              "    .dataframe tbody tr th:only-of-type {\n",
              "        vertical-align: middle;\n",
              "    }\n",
              "\n",
              "    .dataframe tbody tr th {\n",
              "        vertical-align: top;\n",
              "    }\n",
              "\n",
              "    .dataframe thead th {\n",
              "        text-align: right;\n",
              "    }\n",
              "</style>\n",
              "<table border=\"1\" class=\"dataframe\">\n",
              "  <thead>\n",
              "    <tr style=\"text-align: right;\">\n",
              "      <th></th>\n",
              "      <th>productId</th>\n",
              "      <th>feet</th>\n",
              "      <th>weight in kg</th>\n",
              "    </tr>\n",
              "  </thead>\n",
              "  <tbody>\n",
              "    <tr>\n",
              "      <th>0</th>\n",
              "      <td>1</td>\n",
              "      <td>5</td>\n",
              "      <td>2</td>\n",
              "    </tr>\n",
              "    <tr>\n",
              "      <th>1</th>\n",
              "      <td>2</td>\n",
              "      <td>6</td>\n",
              "      <td>3</td>\n",
              "    </tr>\n",
              "    <tr>\n",
              "      <th>2</th>\n",
              "      <td>3</td>\n",
              "      <td>2</td>\n",
              "      <td>5</td>\n",
              "    </tr>\n",
              "    <tr>\n",
              "      <th>3</th>\n",
              "      <td>4</td>\n",
              "      <td>20</td>\n",
              "      <td>61</td>\n",
              "    </tr>\n",
              "    <tr>\n",
              "      <th>4</th>\n",
              "      <td>5</td>\n",
              "      <td>50</td>\n",
              "      <td>6</td>\n",
              "    </tr>\n",
              "    <tr>\n",
              "      <th>5</th>\n",
              "      <td>6</td>\n",
              "      <td>5</td>\n",
              "      <td>4</td>\n",
              "    </tr>\n",
              "    <tr>\n",
              "      <th>6</th>\n",
              "      <td>7</td>\n",
              "      <td>8</td>\n",
              "      <td>2</td>\n",
              "    </tr>\n",
              "    <tr>\n",
              "      <th>7</th>\n",
              "      <td>8</td>\n",
              "      <td>9</td>\n",
              "      <td>4</td>\n",
              "    </tr>\n",
              "    <tr>\n",
              "      <th>8</th>\n",
              "      <td>9</td>\n",
              "      <td>20</td>\n",
              "      <td>7</td>\n",
              "    </tr>\n",
              "    <tr>\n",
              "      <th>9</th>\n",
              "      <td>10</td>\n",
              "      <td>7</td>\n",
              "      <td>1</td>\n",
              "    </tr>\n",
              "  </tbody>\n",
              "</table>\n",
              "</div>"
            ],
            "text/plain": [
              "   productId  feet weight in kg\n",
              "0          1     5            2\n",
              "1          2     6            3\n",
              "2          3     2            5\n",
              "3          4    20           61\n",
              "4          5    50            6\n",
              "5          6     5            4\n",
              "6          7     8            2\n",
              "7          8     9            4\n",
              "8          9    20            7\n",
              "9         10     7            1"
            ]
          },
          "metadata": {
            "tags": []
          },
          "execution_count": 39
        }
      ]
    },
    {
      "cell_type": "code",
      "metadata": {
        "id": "1AIpY-eegref",
        "colab_type": "code",
        "colab": {
          "base_uri": "https://localhost:8080/",
          "height": 196
        },
        "outputId": "0cddfda6-0568-4ee3-f335-e518f0190512"
      },
      "source": [
        "#This way will overwrite the column 'feet' but you can instead create a new column too, it is up to you\n",
        "df_metrics['feet'] = df_metrics['feet'] * 12\n",
        "\n",
        "# print the result\n",
        "df_metrics['feet']"
      ],
      "execution_count": 40,
      "outputs": [
        {
          "output_type": "execute_result",
          "data": {
            "text/plain": [
              "0     60\n",
              "1     72\n",
              "2     24\n",
              "3    240\n",
              "4    600\n",
              "5     60\n",
              "6     96\n",
              "7    108\n",
              "8    240\n",
              "9     84\n",
              "Name: feet, dtype: int64"
            ]
          },
          "metadata": {
            "tags": []
          },
          "execution_count": 40
        }
      ]
    },
    {
      "cell_type": "code",
      "metadata": {
        "id": "plf7xEEthAjM",
        "colab_type": "code",
        "colab": {}
      },
      "source": [
        "#Now do not make sense continuing call this atributte 'feet'. Let's rename the column to 'inches'\n",
        "\n",
        "df_metrics.rename(columns={'feet': 'inches'} , inplace=True)"
      ],
      "execution_count": 41,
      "outputs": []
    },
    {
      "cell_type": "code",
      "metadata": {
        "id": "sW76kDEZhvtM",
        "colab_type": "code",
        "colab": {
          "base_uri": "https://localhost:8080/",
          "height": 335
        },
        "outputId": "f9534ae1-0126-4992-a716-006461782457"
      },
      "source": [
        "#Print the result\n",
        "df_metrics"
      ],
      "execution_count": 42,
      "outputs": [
        {
          "output_type": "execute_result",
          "data": {
            "text/html": [
              "<div>\n",
              "<style scoped>\n",
              "    .dataframe tbody tr th:only-of-type {\n",
              "        vertical-align: middle;\n",
              "    }\n",
              "\n",
              "    .dataframe tbody tr th {\n",
              "        vertical-align: top;\n",
              "    }\n",
              "\n",
              "    .dataframe thead th {\n",
              "        text-align: right;\n",
              "    }\n",
              "</style>\n",
              "<table border=\"1\" class=\"dataframe\">\n",
              "  <thead>\n",
              "    <tr style=\"text-align: right;\">\n",
              "      <th></th>\n",
              "      <th>productId</th>\n",
              "      <th>inches</th>\n",
              "      <th>weight in kg</th>\n",
              "    </tr>\n",
              "  </thead>\n",
              "  <tbody>\n",
              "    <tr>\n",
              "      <th>0</th>\n",
              "      <td>1</td>\n",
              "      <td>60</td>\n",
              "      <td>2</td>\n",
              "    </tr>\n",
              "    <tr>\n",
              "      <th>1</th>\n",
              "      <td>2</td>\n",
              "      <td>72</td>\n",
              "      <td>3</td>\n",
              "    </tr>\n",
              "    <tr>\n",
              "      <th>2</th>\n",
              "      <td>3</td>\n",
              "      <td>24</td>\n",
              "      <td>5</td>\n",
              "    </tr>\n",
              "    <tr>\n",
              "      <th>3</th>\n",
              "      <td>4</td>\n",
              "      <td>240</td>\n",
              "      <td>61</td>\n",
              "    </tr>\n",
              "    <tr>\n",
              "      <th>4</th>\n",
              "      <td>5</td>\n",
              "      <td>600</td>\n",
              "      <td>6</td>\n",
              "    </tr>\n",
              "    <tr>\n",
              "      <th>5</th>\n",
              "      <td>6</td>\n",
              "      <td>60</td>\n",
              "      <td>4</td>\n",
              "    </tr>\n",
              "    <tr>\n",
              "      <th>6</th>\n",
              "      <td>7</td>\n",
              "      <td>96</td>\n",
              "      <td>2</td>\n",
              "    </tr>\n",
              "    <tr>\n",
              "      <th>7</th>\n",
              "      <td>8</td>\n",
              "      <td>108</td>\n",
              "      <td>4</td>\n",
              "    </tr>\n",
              "    <tr>\n",
              "      <th>8</th>\n",
              "      <td>9</td>\n",
              "      <td>240</td>\n",
              "      <td>7</td>\n",
              "    </tr>\n",
              "    <tr>\n",
              "      <th>9</th>\n",
              "      <td>10</td>\n",
              "      <td>84</td>\n",
              "      <td>1</td>\n",
              "    </tr>\n",
              "  </tbody>\n",
              "</table>\n",
              "</div>"
            ],
            "text/plain": [
              "   productId  inches weight in kg\n",
              "0          1      60            2\n",
              "1          2      72            3\n",
              "2          3      24            5\n",
              "3          4     240           61\n",
              "4          5     600            6\n",
              "5          6      60            4\n",
              "6          7      96            2\n",
              "7          8     108            4\n",
              "8          9     240            7\n",
              "9         10      84            1"
            ]
          },
          "metadata": {
            "tags": []
          },
          "execution_count": 42
        }
      ]
    },
    {
      "cell_type": "markdown",
      "metadata": {
        "id": "DRo953lpc2Yq",
        "colab_type": "text"
      },
      "source": [
        "## Example 2\n",
        "\n",
        "Here is about data type. It is common some attributes, that should be integer, come as a string, which difficult numeric operations\n",
        "\n",
        "Imagine now we want to tranform the attribute 'weight in gramas' into 'kilogramas'. It will not be possible while its data type is object.  "
      ]
    },
    {
      "cell_type": "code",
      "metadata": {
        "id": "a64SNWYgds04",
        "colab_type": "code",
        "colab": {
          "base_uri": "https://localhost:8080/",
          "height": 98
        },
        "outputId": "a20855cc-252e-48ed-9ad5-2c1f3b1029d3"
      },
      "source": [
        "df_metrics.dtypes"
      ],
      "execution_count": 47,
      "outputs": [
        {
          "output_type": "execute_result",
          "data": {
            "text/plain": [
              "productId          int64\n",
              "inches             int64\n",
              "weight in kg       int64\n",
              "weight in grams    int64\n",
              "dtype: object"
            ]
          },
          "metadata": {
            "tags": []
          },
          "execution_count": 47
        }
      ]
    },
    {
      "cell_type": "code",
      "metadata": {
        "id": "EFwJ1KeDlXqe",
        "colab_type": "code",
        "colab": {}
      },
      "source": [
        "df_metrics['weight in kg'] = df_metrics['weight in kg'].astype('int')"
      ],
      "execution_count": 44,
      "outputs": []
    },
    {
      "cell_type": "code",
      "metadata": {
        "id": "CFQ8tDuillXj",
        "colab_type": "code",
        "colab": {}
      },
      "source": [
        "#This time I will create a new column\n",
        "\n",
        "df_metrics['weight in grams'] = df_metrics['weight in kg'] * 1000"
      ],
      "execution_count": 45,
      "outputs": []
    },
    {
      "cell_type": "code",
      "metadata": {
        "id": "-V4YUpFymQKj",
        "colab_type": "code",
        "colab": {
          "base_uri": "https://localhost:8080/",
          "height": 335
        },
        "outputId": "c5660fd7-5031-45f2-dccd-9f694d7ec7d2"
      },
      "source": [
        "df_metrics"
      ],
      "execution_count": 46,
      "outputs": [
        {
          "output_type": "execute_result",
          "data": {
            "text/html": [
              "<div>\n",
              "<style scoped>\n",
              "    .dataframe tbody tr th:only-of-type {\n",
              "        vertical-align: middle;\n",
              "    }\n",
              "\n",
              "    .dataframe tbody tr th {\n",
              "        vertical-align: top;\n",
              "    }\n",
              "\n",
              "    .dataframe thead th {\n",
              "        text-align: right;\n",
              "    }\n",
              "</style>\n",
              "<table border=\"1\" class=\"dataframe\">\n",
              "  <thead>\n",
              "    <tr style=\"text-align: right;\">\n",
              "      <th></th>\n",
              "      <th>productId</th>\n",
              "      <th>inches</th>\n",
              "      <th>weight in kg</th>\n",
              "      <th>weight in grams</th>\n",
              "    </tr>\n",
              "  </thead>\n",
              "  <tbody>\n",
              "    <tr>\n",
              "      <th>0</th>\n",
              "      <td>1</td>\n",
              "      <td>60</td>\n",
              "      <td>2</td>\n",
              "      <td>2000</td>\n",
              "    </tr>\n",
              "    <tr>\n",
              "      <th>1</th>\n",
              "      <td>2</td>\n",
              "      <td>72</td>\n",
              "      <td>3</td>\n",
              "      <td>3000</td>\n",
              "    </tr>\n",
              "    <tr>\n",
              "      <th>2</th>\n",
              "      <td>3</td>\n",
              "      <td>24</td>\n",
              "      <td>5</td>\n",
              "      <td>5000</td>\n",
              "    </tr>\n",
              "    <tr>\n",
              "      <th>3</th>\n",
              "      <td>4</td>\n",
              "      <td>240</td>\n",
              "      <td>61</td>\n",
              "      <td>61000</td>\n",
              "    </tr>\n",
              "    <tr>\n",
              "      <th>4</th>\n",
              "      <td>5</td>\n",
              "      <td>600</td>\n",
              "      <td>6</td>\n",
              "      <td>6000</td>\n",
              "    </tr>\n",
              "    <tr>\n",
              "      <th>5</th>\n",
              "      <td>6</td>\n",
              "      <td>60</td>\n",
              "      <td>4</td>\n",
              "      <td>4000</td>\n",
              "    </tr>\n",
              "    <tr>\n",
              "      <th>6</th>\n",
              "      <td>7</td>\n",
              "      <td>96</td>\n",
              "      <td>2</td>\n",
              "      <td>2000</td>\n",
              "    </tr>\n",
              "    <tr>\n",
              "      <th>7</th>\n",
              "      <td>8</td>\n",
              "      <td>108</td>\n",
              "      <td>4</td>\n",
              "      <td>4000</td>\n",
              "    </tr>\n",
              "    <tr>\n",
              "      <th>8</th>\n",
              "      <td>9</td>\n",
              "      <td>240</td>\n",
              "      <td>7</td>\n",
              "      <td>7000</td>\n",
              "    </tr>\n",
              "    <tr>\n",
              "      <th>9</th>\n",
              "      <td>10</td>\n",
              "      <td>84</td>\n",
              "      <td>1</td>\n",
              "      <td>1000</td>\n",
              "    </tr>\n",
              "  </tbody>\n",
              "</table>\n",
              "</div>"
            ],
            "text/plain": [
              "   productId  inches  weight in kg  weight in grams\n",
              "0          1      60             2             2000\n",
              "1          2      72             3             3000\n",
              "2          3      24             5             5000\n",
              "3          4     240            61            61000\n",
              "4          5     600             6             6000\n",
              "5          6      60             4             4000\n",
              "6          7      96             2             2000\n",
              "7          8     108             4             4000\n",
              "8          9     240             7             7000\n",
              "9         10      84             1             1000"
            ]
          },
          "metadata": {
            "tags": []
          },
          "execution_count": 46
        }
      ]
    },
    {
      "cell_type": "code",
      "metadata": {
        "id": "J6ZmX-FAm5N0",
        "colab_type": "code",
        "colab": {
          "base_uri": "https://localhost:8080/",
          "height": 98
        },
        "outputId": "7f4dcc49-5bc4-4446-d3a3-987d4d76785a"
      },
      "source": [
        "#See the final data type \n",
        "df_metrics.dtypes"
      ],
      "execution_count": 48,
      "outputs": [
        {
          "output_type": "execute_result",
          "data": {
            "text/plain": [
              "productId          int64\n",
              "inches             int64\n",
              "weight in kg       int64\n",
              "weight in grams    int64\n",
              "dtype: object"
            ]
          },
          "metadata": {
            "tags": []
          },
          "execution_count": 48
        }
      ]
    }
  ]
}