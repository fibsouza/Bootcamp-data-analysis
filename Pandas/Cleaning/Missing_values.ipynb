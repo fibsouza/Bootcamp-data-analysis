{
  "nbformat": 4,
  "nbformat_minor": 0,
  "metadata": {
    "colab": {
      "name": "Missing_values.ipynb",
      "provenance": [],
      "collapsed_sections": [],
      "toc_visible": true
    },
    "kernelspec": {
      "name": "python3",
      "display_name": "Python 3"
    }
  },
  "cells": [
    {
      "cell_type": "markdown",
      "metadata": {
        "id": "5n1vBmxhN1qE",
        "colab_type": "text"
      },
      "source": [
        "# How to deal with missing values? "
      ]
    },
    {
      "cell_type": "markdown",
      "metadata": {
        "id": "_58zlHPKOGuW",
        "colab_type": "text"
      },
      "source": [
        "Missing values could be : NaN, ? or just a blank cell.\n",
        "\n",
        "There are three common ways to deal with missing values. They are:\n",
        "\n",
        "*   Drop \n",
        "*   Replace\n",
        "*   Keep\n",
        "\n",
        "But always remember: the decision is uniquely a question of business, depends on what are that data and how much important they are considering the total"
      ]
    },
    {
      "cell_type": "markdown",
      "metadata": {
        "id": "yw8t5jIxOjT2",
        "colab_type": "text"
      },
      "source": [
        "## 1. Drop\n",
        "\n",
        "\n",
        "*   Drop the variable (entire column) \n",
        "*   Drop the data entry (entire row)\n"
      ]
    },
    {
      "cell_type": "markdown",
      "metadata": {
        "id": "RK4tovPxQzRs",
        "colab_type": "text"
      },
      "source": [
        "## 2. Replace\n",
        "\n",
        "\n",
        "\n",
        "\n",
        "*   With an average \n",
        "*   By frequency\n",
        "*   Based on other functions\n"
      ]
    },
    {
      "cell_type": "markdown",
      "metadata": {
        "id": "0KRv8HdpRKrb",
        "colab_type": "text"
      },
      "source": [
        "## 3. Keep\n",
        "\n",
        "Just keep missing values"
      ]
    },
    {
      "cell_type": "markdown",
      "metadata": {
        "id": "ixY3oIpTQZtp",
        "colab_type": "text"
      },
      "source": [
        "## Setting up the environment"
      ]
    },
    {
      "cell_type": "code",
      "metadata": {
        "id": "dECDat-38ecv",
        "colab_type": "code",
        "colab": {}
      },
      "source": [
        "import pandas as pd\n",
        "import numpy as np\n",
        "path = '/content/drive/My Drive/Colab Notebooks/Data/'"
      ],
      "execution_count": 45,
      "outputs": []
    },
    {
      "cell_type": "code",
      "metadata": {
        "id": "B4hNAQQUg6_z",
        "colab_type": "code",
        "colab": {}
      },
      "source": [
        "# DATASET USED : UFO.CSV\n",
        "\n",
        "ufo = pd.read_csv(path+'ufo.csv')"
      ],
      "execution_count": 46,
      "outputs": []
    },
    {
      "cell_type": "markdown",
      "metadata": {
        "id": "HRb01jBKQeFs",
        "colab_type": "text"
      },
      "source": [
        "## Initial analysis"
      ]
    },
    {
      "cell_type": "code",
      "metadata": {
        "id": "KNuB-swZkeKU",
        "colab_type": "code",
        "colab": {
          "base_uri": "https://localhost:8080/",
          "height": 191
        },
        "outputId": "a02c3930-0935-47f1-958d-923059d84677"
      },
      "source": [
        "ufo.tail()"
      ],
      "execution_count": 47,
      "outputs": [
        {
          "output_type": "execute_result",
          "data": {
            "text/html": [
              "<div>\n",
              "<style scoped>\n",
              "    .dataframe tbody tr th:only-of-type {\n",
              "        vertical-align: middle;\n",
              "    }\n",
              "\n",
              "    .dataframe tbody tr th {\n",
              "        vertical-align: top;\n",
              "    }\n",
              "\n",
              "    .dataframe thead th {\n",
              "        text-align: right;\n",
              "    }\n",
              "</style>\n",
              "<table border=\"1\" class=\"dataframe\">\n",
              "  <thead>\n",
              "    <tr style=\"text-align: right;\">\n",
              "      <th></th>\n",
              "      <th>City</th>\n",
              "      <th>Colors Reported</th>\n",
              "      <th>Shape Reported</th>\n",
              "      <th>State</th>\n",
              "      <th>Time</th>\n",
              "    </tr>\n",
              "  </thead>\n",
              "  <tbody>\n",
              "    <tr>\n",
              "      <th>18236</th>\n",
              "      <td>Grant Park</td>\n",
              "      <td>NaN</td>\n",
              "      <td>TRIANGLE</td>\n",
              "      <td>IL</td>\n",
              "      <td>12/31/2000 23:00</td>\n",
              "    </tr>\n",
              "    <tr>\n",
              "      <th>18237</th>\n",
              "      <td>Spirit Lake</td>\n",
              "      <td>NaN</td>\n",
              "      <td>DISK</td>\n",
              "      <td>IA</td>\n",
              "      <td>12/31/2000 23:00</td>\n",
              "    </tr>\n",
              "    <tr>\n",
              "      <th>18238</th>\n",
              "      <td>Eagle River</td>\n",
              "      <td>NaN</td>\n",
              "      <td>NaN</td>\n",
              "      <td>WI</td>\n",
              "      <td>12/31/2000 23:45</td>\n",
              "    </tr>\n",
              "    <tr>\n",
              "      <th>18239</th>\n",
              "      <td>Eagle River</td>\n",
              "      <td>RED</td>\n",
              "      <td>LIGHT</td>\n",
              "      <td>WI</td>\n",
              "      <td>12/31/2000 23:45</td>\n",
              "    </tr>\n",
              "    <tr>\n",
              "      <th>18240</th>\n",
              "      <td>Ybor</td>\n",
              "      <td>NaN</td>\n",
              "      <td>OVAL</td>\n",
              "      <td>FL</td>\n",
              "      <td>12/31/2000 23:59</td>\n",
              "    </tr>\n",
              "  </tbody>\n",
              "</table>\n",
              "</div>"
            ],
            "text/plain": [
              "              City Colors Reported Shape Reported State              Time\n",
              "18236   Grant Park             NaN       TRIANGLE    IL  12/31/2000 23:00\n",
              "18237  Spirit Lake             NaN           DISK    IA  12/31/2000 23:00\n",
              "18238  Eagle River             NaN            NaN    WI  12/31/2000 23:45\n",
              "18239  Eagle River             RED          LIGHT    WI  12/31/2000 23:45\n",
              "18240         Ybor             NaN           OVAL    FL  12/31/2000 23:59"
            ]
          },
          "metadata": {
            "tags": []
          },
          "execution_count": 47
        }
      ]
    },
    {
      "cell_type": "code",
      "metadata": {
        "id": "LWbBLP2zjsXs",
        "colab_type": "code",
        "colab": {
          "base_uri": "https://localhost:8080/",
          "height": 33
        },
        "outputId": "8f866a04-d494-428f-97bb-2e02856a1a7e"
      },
      "source": [
        "ufo.shape"
      ],
      "execution_count": 48,
      "outputs": [
        {
          "output_type": "execute_result",
          "data": {
            "text/plain": [
              "(18241, 5)"
            ]
          },
          "metadata": {
            "tags": []
          },
          "execution_count": 48
        }
      ]
    },
    {
      "cell_type": "markdown",
      "metadata": {
        "id": "MbHPgEFwi_7l",
        "colab_type": "text"
      },
      "source": [
        "## Discover how many nulls"
      ]
    },
    {
      "cell_type": "code",
      "metadata": {
        "id": "ZvFjdWKbixTf",
        "colab_type": "code",
        "colab": {
          "base_uri": "https://localhost:8080/",
          "height": 115
        },
        "outputId": "a4bcab08-63ab-4f63-f601-741cb77562a0"
      },
      "source": [
        "#Comparing the result with the total lines, wich is 18241, we see that there are too much nulls on Colors Reported\n",
        "\n",
        "ufo.isna().sum()"
      ],
      "execution_count": 49,
      "outputs": [
        {
          "output_type": "execute_result",
          "data": {
            "text/plain": [
              "City                  25\n",
              "Colors Reported    15359\n",
              "Shape Reported      2644\n",
              "State                  0\n",
              "Time                   0\n",
              "dtype: int64"
            ]
          },
          "metadata": {
            "tags": []
          },
          "execution_count": 49
        }
      ]
    },
    {
      "cell_type": "code",
      "metadata": {
        "id": "uzuEbTbzjM6E",
        "colab_type": "code",
        "colab": {
          "base_uri": "https://localhost:8080/",
          "height": 115
        },
        "outputId": "faedb3b4-6ec6-468f-eaa2-50faabd43567"
      },
      "source": [
        "ufo.isnull().sum()"
      ],
      "execution_count": 50,
      "outputs": [
        {
          "output_type": "execute_result",
          "data": {
            "text/plain": [
              "City                  25\n",
              "Colors Reported    15359\n",
              "Shape Reported      2644\n",
              "State                  0\n",
              "Time                   0\n",
              "dtype: int64"
            ]
          },
          "metadata": {
            "tags": []
          },
          "execution_count": 50
        }
      ]
    },
    {
      "cell_type": "markdown",
      "metadata": {
        "id": "zhi31cEnnPlB",
        "colab_type": "text"
      },
      "source": [
        "## 1.1 Drop values"
      ]
    },
    {
      "cell_type": "code",
      "metadata": {
        "id": "tdfrwgojQg6n",
        "colab_type": "code",
        "colab": {}
      },
      "source": [
        "#The method dropna() could be used with some parameters\n",
        "# 1. axis = 0 level of row, or axis= 1 level of columns , defaul 0\n",
        "# 2. how : 'any' If any NA values are present, drop that row or column. 'all' If all values are NA, drop that row or column. Default 'any'\n",
        "# 3. subset : what labels, if nothing is informed, the entire Dataframe will be searched\n",
        "# 4. inplace : True to replace the original Dataframe \n",
        "\n",
        "ufo.dropna(axis=0, subset=['City'], how='any', inplace=True)"
      ],
      "execution_count": 51,
      "outputs": []
    },
    {
      "cell_type": "markdown",
      "metadata": {
        "id": "mmkrHRDBrPkE",
        "colab_type": "text"
      },
      "source": [
        "## 2.1 Replace"
      ]
    },
    {
      "cell_type": "code",
      "metadata": {
        "id": "nl6SfStgrO8y",
        "colab_type": "code",
        "colab": {}
      },
      "source": [
        "# Suposing that the client decided that nulls in Colors Reported had to be replaced to 'Undefined'\n",
        "\n",
        "ufo['Colors Reported'] = ufo['Colors Reported'].replace(np.nan, 'Undefined')"
      ],
      "execution_count": 52,
      "outputs": []
    },
    {
      "cell_type": "code",
      "metadata": {
        "id": "Uxt7mydtsLvE",
        "colab_type": "code",
        "colab": {
          "base_uri": "https://localhost:8080/",
          "height": 191
        },
        "outputId": "d21cece8-1f02-43b6-9e1b-1211cb7fc7c8"
      },
      "source": [
        "ufo.tail()"
      ],
      "execution_count": 53,
      "outputs": [
        {
          "output_type": "execute_result",
          "data": {
            "text/html": [
              "<div>\n",
              "<style scoped>\n",
              "    .dataframe tbody tr th:only-of-type {\n",
              "        vertical-align: middle;\n",
              "    }\n",
              "\n",
              "    .dataframe tbody tr th {\n",
              "        vertical-align: top;\n",
              "    }\n",
              "\n",
              "    .dataframe thead th {\n",
              "        text-align: right;\n",
              "    }\n",
              "</style>\n",
              "<table border=\"1\" class=\"dataframe\">\n",
              "  <thead>\n",
              "    <tr style=\"text-align: right;\">\n",
              "      <th></th>\n",
              "      <th>City</th>\n",
              "      <th>Colors Reported</th>\n",
              "      <th>Shape Reported</th>\n",
              "      <th>State</th>\n",
              "      <th>Time</th>\n",
              "    </tr>\n",
              "  </thead>\n",
              "  <tbody>\n",
              "    <tr>\n",
              "      <th>18236</th>\n",
              "      <td>Grant Park</td>\n",
              "      <td>Undefined</td>\n",
              "      <td>TRIANGLE</td>\n",
              "      <td>IL</td>\n",
              "      <td>12/31/2000 23:00</td>\n",
              "    </tr>\n",
              "    <tr>\n",
              "      <th>18237</th>\n",
              "      <td>Spirit Lake</td>\n",
              "      <td>Undefined</td>\n",
              "      <td>DISK</td>\n",
              "      <td>IA</td>\n",
              "      <td>12/31/2000 23:00</td>\n",
              "    </tr>\n",
              "    <tr>\n",
              "      <th>18238</th>\n",
              "      <td>Eagle River</td>\n",
              "      <td>Undefined</td>\n",
              "      <td>NaN</td>\n",
              "      <td>WI</td>\n",
              "      <td>12/31/2000 23:45</td>\n",
              "    </tr>\n",
              "    <tr>\n",
              "      <th>18239</th>\n",
              "      <td>Eagle River</td>\n",
              "      <td>RED</td>\n",
              "      <td>LIGHT</td>\n",
              "      <td>WI</td>\n",
              "      <td>12/31/2000 23:45</td>\n",
              "    </tr>\n",
              "    <tr>\n",
              "      <th>18240</th>\n",
              "      <td>Ybor</td>\n",
              "      <td>Undefined</td>\n",
              "      <td>OVAL</td>\n",
              "      <td>FL</td>\n",
              "      <td>12/31/2000 23:59</td>\n",
              "    </tr>\n",
              "  </tbody>\n",
              "</table>\n",
              "</div>"
            ],
            "text/plain": [
              "              City Colors Reported Shape Reported State              Time\n",
              "18236   Grant Park       Undefined       TRIANGLE    IL  12/31/2000 23:00\n",
              "18237  Spirit Lake       Undefined           DISK    IA  12/31/2000 23:00\n",
              "18238  Eagle River       Undefined            NaN    WI  12/31/2000 23:45\n",
              "18239  Eagle River             RED          LIGHT    WI  12/31/2000 23:45\n",
              "18240         Ybor       Undefined           OVAL    FL  12/31/2000 23:59"
            ]
          },
          "metadata": {
            "tags": []
          },
          "execution_count": 53
        }
      ]
    },
    {
      "cell_type": "code",
      "metadata": {
        "id": "T3lLchYxsfgz",
        "colab_type": "code",
        "colab": {
          "base_uri": "https://localhost:8080/",
          "height": 472
        },
        "outputId": "d163c8c0-6f45-4f85-dacc-91ba644e6a6a"
      },
      "source": [
        "# Suposing that the data engineer order to fill nulls in Shape Reported by frequency\n",
        "\n",
        "ufo['Shape Reported'].value_counts()"
      ],
      "execution_count": 54,
      "outputs": [
        {
          "output_type": "execute_result",
          "data": {
            "text/plain": [
              "LIGHT        2801\n",
              "DISK         2119\n",
              "TRIANGLE     1885\n",
              "OTHER        1402\n",
              "CIRCLE       1362\n",
              "SPHERE       1052\n",
              "FIREBALL     1037\n",
              "OVAL          844\n",
              "CIGAR         617\n",
              "FORMATION     433\n",
              "VARIOUS       332\n",
              "RECTANGLE     302\n",
              "CYLINDER      294\n",
              "CHEVRON       248\n",
              "DIAMOND       234\n",
              "EGG           196\n",
              "FLASH         188\n",
              "TEARDROP      119\n",
              "CONE           60\n",
              "CROSS          36\n",
              "DELTA           7\n",
              "CRESCENT        2\n",
              "ROUND           2\n",
              "DOME            1\n",
              "HEXAGON         1\n",
              "PYRAMID         1\n",
              "FLARE           1\n",
              "Name: Shape Reported, dtype: int64"
            ]
          },
          "metadata": {
            "tags": []
          },
          "execution_count": 54
        }
      ]
    },
    {
      "cell_type": "code",
      "metadata": {
        "id": "Lp9VKFigsk2H",
        "colab_type": "code",
        "colab": {}
      },
      "source": [
        "ufo['Shape Reported'] = ufo['Shape Reported'].replace(np.nan, 'LIGHT')"
      ],
      "execution_count": 55,
      "outputs": []
    },
    {
      "cell_type": "code",
      "metadata": {
        "id": "96rpPpIlumUJ",
        "colab_type": "code",
        "colab": {
          "base_uri": "https://localhost:8080/",
          "height": 191
        },
        "outputId": "0b456e8f-355d-40f1-c252-864ea4a8b87c"
      },
      "source": [
        "ufo.tail()"
      ],
      "execution_count": 56,
      "outputs": [
        {
          "output_type": "execute_result",
          "data": {
            "text/html": [
              "<div>\n",
              "<style scoped>\n",
              "    .dataframe tbody tr th:only-of-type {\n",
              "        vertical-align: middle;\n",
              "    }\n",
              "\n",
              "    .dataframe tbody tr th {\n",
              "        vertical-align: top;\n",
              "    }\n",
              "\n",
              "    .dataframe thead th {\n",
              "        text-align: right;\n",
              "    }\n",
              "</style>\n",
              "<table border=\"1\" class=\"dataframe\">\n",
              "  <thead>\n",
              "    <tr style=\"text-align: right;\">\n",
              "      <th></th>\n",
              "      <th>City</th>\n",
              "      <th>Colors Reported</th>\n",
              "      <th>Shape Reported</th>\n",
              "      <th>State</th>\n",
              "      <th>Time</th>\n",
              "    </tr>\n",
              "  </thead>\n",
              "  <tbody>\n",
              "    <tr>\n",
              "      <th>18236</th>\n",
              "      <td>Grant Park</td>\n",
              "      <td>Undefined</td>\n",
              "      <td>TRIANGLE</td>\n",
              "      <td>IL</td>\n",
              "      <td>12/31/2000 23:00</td>\n",
              "    </tr>\n",
              "    <tr>\n",
              "      <th>18237</th>\n",
              "      <td>Spirit Lake</td>\n",
              "      <td>Undefined</td>\n",
              "      <td>DISK</td>\n",
              "      <td>IA</td>\n",
              "      <td>12/31/2000 23:00</td>\n",
              "    </tr>\n",
              "    <tr>\n",
              "      <th>18238</th>\n",
              "      <td>Eagle River</td>\n",
              "      <td>Undefined</td>\n",
              "      <td>LIGHT</td>\n",
              "      <td>WI</td>\n",
              "      <td>12/31/2000 23:45</td>\n",
              "    </tr>\n",
              "    <tr>\n",
              "      <th>18239</th>\n",
              "      <td>Eagle River</td>\n",
              "      <td>RED</td>\n",
              "      <td>LIGHT</td>\n",
              "      <td>WI</td>\n",
              "      <td>12/31/2000 23:45</td>\n",
              "    </tr>\n",
              "    <tr>\n",
              "      <th>18240</th>\n",
              "      <td>Ybor</td>\n",
              "      <td>Undefined</td>\n",
              "      <td>OVAL</td>\n",
              "      <td>FL</td>\n",
              "      <td>12/31/2000 23:59</td>\n",
              "    </tr>\n",
              "  </tbody>\n",
              "</table>\n",
              "</div>"
            ],
            "text/plain": [
              "              City Colors Reported Shape Reported State              Time\n",
              "18236   Grant Park       Undefined       TRIANGLE    IL  12/31/2000 23:00\n",
              "18237  Spirit Lake       Undefined           DISK    IA  12/31/2000 23:00\n",
              "18238  Eagle River       Undefined          LIGHT    WI  12/31/2000 23:45\n",
              "18239  Eagle River             RED          LIGHT    WI  12/31/2000 23:45\n",
              "18240         Ybor       Undefined           OVAL    FL  12/31/2000 23:59"
            ]
          },
          "metadata": {
            "tags": []
          },
          "execution_count": 56
        }
      ]
    },
    {
      "cell_type": "code",
      "metadata": {
        "id": "ds_kIweBuypi",
        "colab_type": "code",
        "colab": {
          "base_uri": "https://localhost:8080/",
          "height": 115
        },
        "outputId": "1197d89a-b74c-4563-aff3-fa36b96ed33b"
      },
      "source": [
        "# Notice that we do not have more nulls in Dataframe\n",
        "\n",
        "ufo.isnull().sum()"
      ],
      "execution_count": 57,
      "outputs": [
        {
          "output_type": "execute_result",
          "data": {
            "text/plain": [
              "City               0\n",
              "Colors Reported    0\n",
              "Shape Reported     0\n",
              "State              0\n",
              "Time               0\n",
              "dtype: int64"
            ]
          },
          "metadata": {
            "tags": []
          },
          "execution_count": 57
        }
      ]
    }
  ]
}