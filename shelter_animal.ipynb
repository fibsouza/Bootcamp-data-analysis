{
  "nbformat": 4,
  "nbformat_minor": 0,
  "metadata": {
    "colab": {
      "name": "shelter_animal.ipynb",
      "provenance": [],
      "collapsed_sections": [],
      "toc_visible": true,
      "mount_file_id": "1WTCKf9fpdPzT4MaQQpeJE_gol26cQcIT",
      "authorship_tag": "ABX9TyMHg6Prk1z1LJ/5pcXamzhO",
      "include_colab_link": true
    },
    "kernelspec": {
      "name": "python3",
      "display_name": "Python 3"
    }
  },
  "cells": [
    {
      "cell_type": "markdown",
      "metadata": {
        "id": "view-in-github",
        "colab_type": "text"
      },
      "source": [
        "<a href=\"https://colab.research.google.com/github/fibsouza/Bootcamp-data-analysis/blob/master/shelter_animal.ipynb\" target=\"_parent\"><img src=\"https://colab.research.google.com/assets/colab-badge.svg\" alt=\"Open In Colab\"/></a>"
      ]
    },
    {
      "cell_type": "markdown",
      "metadata": {
        "id": "wBbzNN8Kxe5G",
        "colab_type": "text"
      },
      "source": [
        "# Introdução \n",
        "\n",
        "Falar algo que ache relevante sobre o dataset ...\n",
        "\n",
        "Tentaremos prever a possibilidade de um animal ser Adotado, Transferido, Sofrer Eutanásia, Voltar para o dono ou Morrer. Nossa classe target é a coluna OutcomeType."
      ]
    },
    {
      "cell_type": "markdown",
      "metadata": {
        "id": "naBco5r2xqkm",
        "colab_type": "text"
      },
      "source": [
        "# Configuração de ambiente"
      ]
    },
    {
      "cell_type": "code",
      "metadata": {
        "id": "iY3hC0wYE2Gc",
        "colab_type": "code",
        "colab": {}
      },
      "source": [
        "import pandas as pd\n",
        "import matplotlib.pyplot as plt\n",
        "import seaborn as sns\n",
        "from fastaai_utils import add_datepart,train_cats, proc_df\n",
        "from sklearn.model_selection import GridSearchCV, cross_val_score,cross_validate\n",
        "from sklearn.tree import DecisionTreeClassifier\n",
        "from sklearn.ensemble import RandomForestClassifier\n",
        "from sklearn.metrics import accuracy_score, log_loss,f1_score\n",
        "from pandas.api.types import is_string_dtype, is_numeric_dtype, is_categorical_dtype"
      ],
      "execution_count": null,
      "outputs": []
    },
    {
      "cell_type": "code",
      "metadata": {
        "id": "i5eioiJ9FuVt",
        "colab_type": "code",
        "colab": {}
      },
      "source": [
        "path = '/content/drive/My Drive/Colab Notebooks/data/shelter_animal'\n",
        "shelter_train = pd.read_csv(path+'/train.csv', engine='python')\n",
        "shelter_test = pd.read_csv(path+'/test.csv', engine='python')"
      ],
      "execution_count": null,
      "outputs": []
    },
    {
      "cell_type": "markdown",
      "metadata": {
        "id": "r7j1x6vSyVMf",
        "colab_type": "text"
      },
      "source": [
        "# Exploração dos dados"
      ]
    },
    {
      "cell_type": "code",
      "metadata": {
        "id": "Kn8UUqKKtuDS",
        "colab_type": "code",
        "colab": {
          "base_uri": "https://localhost:8080/",
          "height": 347
        },
        "outputId": "99bf1ef8-865d-43a6-d800-092f94742b00"
      },
      "source": [
        "#Note que o dataset de treino contém a coluna OutcomeType, lembre-se de retira-la no treino\n",
        "\n",
        "shelter_train.tail().T"
      ],
      "execution_count": null,
      "outputs": [
        {
          "output_type": "execute_result",
          "data": {
            "text/html": [
              "<div>\n",
              "<style scoped>\n",
              "    .dataframe tbody tr th:only-of-type {\n",
              "        vertical-align: middle;\n",
              "    }\n",
              "\n",
              "    .dataframe tbody tr th {\n",
              "        vertical-align: top;\n",
              "    }\n",
              "\n",
              "    .dataframe thead th {\n",
              "        text-align: right;\n",
              "    }\n",
              "</style>\n",
              "<table border=\"1\" class=\"dataframe\">\n",
              "  <thead>\n",
              "    <tr style=\"text-align: right;\">\n",
              "      <th></th>\n",
              "      <th>26724</th>\n",
              "      <th>26725</th>\n",
              "      <th>26726</th>\n",
              "      <th>26727</th>\n",
              "      <th>26728</th>\n",
              "    </tr>\n",
              "  </thead>\n",
              "  <tbody>\n",
              "    <tr>\n",
              "      <th>AnimalID</th>\n",
              "      <td>A702446</td>\n",
              "      <td>A718934</td>\n",
              "      <td>A698128</td>\n",
              "      <td>A677478</td>\n",
              "      <td>A706629</td>\n",
              "    </tr>\n",
              "    <tr>\n",
              "      <th>Name</th>\n",
              "      <td>NaN</td>\n",
              "      <td>NaN</td>\n",
              "      <td>Zeus</td>\n",
              "      <td>NaN</td>\n",
              "      <td>NaN</td>\n",
              "    </tr>\n",
              "    <tr>\n",
              "      <th>DateTime</th>\n",
              "      <td>2015-05-14 11:56:00</td>\n",
              "      <td>2016-01-20 18:59:00</td>\n",
              "      <td>2015-03-09 13:33:00</td>\n",
              "      <td>2014-04-27 12:22:00</td>\n",
              "      <td>2015-07-02 09:00:00</td>\n",
              "    </tr>\n",
              "    <tr>\n",
              "      <th>OutcomeType</th>\n",
              "      <td>Transfer</td>\n",
              "      <td>Transfer</td>\n",
              "      <td>Adoption</td>\n",
              "      <td>Transfer</td>\n",
              "      <td>Transfer</td>\n",
              "    </tr>\n",
              "    <tr>\n",
              "      <th>OutcomeSubtype</th>\n",
              "      <td>Partner</td>\n",
              "      <td>SCRP</td>\n",
              "      <td>NaN</td>\n",
              "      <td>Partner</td>\n",
              "      <td>SCRP</td>\n",
              "    </tr>\n",
              "    <tr>\n",
              "      <th>AnimalType</th>\n",
              "      <td>Cat</td>\n",
              "      <td>Cat</td>\n",
              "      <td>Dog</td>\n",
              "      <td>Cat</td>\n",
              "      <td>Cat</td>\n",
              "    </tr>\n",
              "    <tr>\n",
              "      <th>SexuponOutcome</th>\n",
              "      <td>Intact Male</td>\n",
              "      <td>Spayed Female</td>\n",
              "      <td>Neutered Male</td>\n",
              "      <td>Intact Male</td>\n",
              "      <td>Intact Male</td>\n",
              "    </tr>\n",
              "    <tr>\n",
              "      <th>AgeuponOutcome</th>\n",
              "      <td>1 month</td>\n",
              "      <td>3 months</td>\n",
              "      <td>4 years</td>\n",
              "      <td>4 weeks</td>\n",
              "      <td>1 year</td>\n",
              "    </tr>\n",
              "    <tr>\n",
              "      <th>Breed</th>\n",
              "      <td>Domestic Shorthair Mix</td>\n",
              "      <td>Domestic Shorthair Mix</td>\n",
              "      <td>Old English Bulldog Mix</td>\n",
              "      <td>Domestic Shorthair Mix</td>\n",
              "      <td>Domestic Shorthair Mix</td>\n",
              "    </tr>\n",
              "    <tr>\n",
              "      <th>Color</th>\n",
              "      <td>Brown Tabby/White</td>\n",
              "      <td>Brown Tabby</td>\n",
              "      <td>White/Tan</td>\n",
              "      <td>Black</td>\n",
              "      <td>Brown Tabby/White</td>\n",
              "    </tr>\n",
              "  </tbody>\n",
              "</table>\n",
              "</div>"
            ],
            "text/plain": [
              "                                 26724  ...                   26728\n",
              "AnimalID                       A702446  ...                 A706629\n",
              "Name                               NaN  ...                     NaN\n",
              "DateTime           2015-05-14 11:56:00  ...     2015-07-02 09:00:00\n",
              "OutcomeType                   Transfer  ...                Transfer\n",
              "OutcomeSubtype                 Partner  ...                    SCRP\n",
              "AnimalType                         Cat  ...                     Cat\n",
              "SexuponOutcome             Intact Male  ...             Intact Male\n",
              "AgeuponOutcome                 1 month  ...                  1 year\n",
              "Breed           Domestic Shorthair Mix  ...  Domestic Shorthair Mix\n",
              "Color                Brown Tabby/White  ...       Brown Tabby/White\n",
              "\n",
              "[10 rows x 5 columns]"
            ]
          },
          "metadata": {
            "tags": []
          },
          "execution_count": 80
        }
      ]
    },
    {
      "cell_type": "code",
      "metadata": {
        "id": "nJgOwJIIx5S3",
        "colab_type": "code",
        "colab": {
          "base_uri": "https://localhost:8080/",
          "height": 287
        },
        "outputId": "9b62453d-774e-4317-9c5c-ac48ee18cbb4"
      },
      "source": [
        "#Note que o dataset de teste nao vem com a coluna OutcomeType\n",
        "\n",
        "shelter_test.tail().T"
      ],
      "execution_count": null,
      "outputs": [
        {
          "output_type": "execute_result",
          "data": {
            "text/html": [
              "<div>\n",
              "<style scoped>\n",
              "    .dataframe tbody tr th:only-of-type {\n",
              "        vertical-align: middle;\n",
              "    }\n",
              "\n",
              "    .dataframe tbody tr th {\n",
              "        vertical-align: top;\n",
              "    }\n",
              "\n",
              "    .dataframe thead th {\n",
              "        text-align: right;\n",
              "    }\n",
              "</style>\n",
              "<table border=\"1\" class=\"dataframe\">\n",
              "  <thead>\n",
              "    <tr style=\"text-align: right;\">\n",
              "      <th></th>\n",
              "      <th>11451</th>\n",
              "      <th>11452</th>\n",
              "      <th>11453</th>\n",
              "      <th>11454</th>\n",
              "      <th>11455</th>\n",
              "    </tr>\n",
              "  </thead>\n",
              "  <tbody>\n",
              "    <tr>\n",
              "      <th>ID</th>\n",
              "      <td>11452</td>\n",
              "      <td>11453</td>\n",
              "      <td>11454</td>\n",
              "      <td>11455</td>\n",
              "      <td>11456</td>\n",
              "    </tr>\n",
              "    <tr>\n",
              "      <th>Name</th>\n",
              "      <td>NaN</td>\n",
              "      <td>NaN</td>\n",
              "      <td>NaN</td>\n",
              "      <td>Rambo</td>\n",
              "      <td>Gusto</td>\n",
              "    </tr>\n",
              "    <tr>\n",
              "      <th>DateTime</th>\n",
              "      <td>2014-07-08 14:50:00</td>\n",
              "      <td>2014-10-21 12:57:00</td>\n",
              "      <td>2014-09-29 09:00:00</td>\n",
              "      <td>2015-09-05 17:16:00</td>\n",
              "      <td>2014-07-12 18:40:00</td>\n",
              "    </tr>\n",
              "    <tr>\n",
              "      <th>AnimalType</th>\n",
              "      <td>Cat</td>\n",
              "      <td>Cat</td>\n",
              "      <td>Cat</td>\n",
              "      <td>Dog</td>\n",
              "      <td>Dog</td>\n",
              "    </tr>\n",
              "    <tr>\n",
              "      <th>SexuponOutcome</th>\n",
              "      <td>Neutered Male</td>\n",
              "      <td>Intact Female</td>\n",
              "      <td>Intact Female</td>\n",
              "      <td>Neutered Male</td>\n",
              "      <td>Intact Male</td>\n",
              "    </tr>\n",
              "    <tr>\n",
              "      <th>AgeuponOutcome</th>\n",
              "      <td>2 months</td>\n",
              "      <td>2 weeks</td>\n",
              "      <td>1 year</td>\n",
              "      <td>6 years</td>\n",
              "      <td>4 years</td>\n",
              "    </tr>\n",
              "    <tr>\n",
              "      <th>Breed</th>\n",
              "      <td>Domestic Shorthair Mix</td>\n",
              "      <td>Domestic Shorthair Mix</td>\n",
              "      <td>Domestic Shorthair Mix</td>\n",
              "      <td>German Shepherd Mix</td>\n",
              "      <td>Labrador Retriever</td>\n",
              "    </tr>\n",
              "    <tr>\n",
              "      <th>Color</th>\n",
              "      <td>Black</td>\n",
              "      <td>Blue</td>\n",
              "      <td>Calico</td>\n",
              "      <td>Black/Tan</td>\n",
              "      <td>Cream</td>\n",
              "    </tr>\n",
              "  </tbody>\n",
              "</table>\n",
              "</div>"
            ],
            "text/plain": [
              "                                 11451  ...                11455\n",
              "ID                               11452  ...                11456\n",
              "Name                               NaN  ...                Gusto\n",
              "DateTime           2014-07-08 14:50:00  ...  2014-07-12 18:40:00\n",
              "AnimalType                         Cat  ...                  Dog\n",
              "SexuponOutcome           Neutered Male  ...          Intact Male\n",
              "AgeuponOutcome                2 months  ...              4 years\n",
              "Breed           Domestic Shorthair Mix  ...   Labrador Retriever\n",
              "Color                            Black  ...                Cream\n",
              "\n",
              "[8 rows x 5 columns]"
            ]
          },
          "metadata": {
            "tags": []
          },
          "execution_count": 81
        }
      ]
    },
    {
      "cell_type": "code",
      "metadata": {
        "id": "OfipFI9TOSW6",
        "colab_type": "code",
        "colab": {
          "base_uri": "https://localhost:8080/",
          "height": 34
        },
        "outputId": "90573e2c-f87a-4c5d-8ed2-1edf0778734f"
      },
      "source": [
        "shelter_test.index"
      ],
      "execution_count": null,
      "outputs": [
        {
          "output_type": "execute_result",
          "data": {
            "text/plain": [
              "RangeIndex(start=0, stop=11456, step=1)"
            ]
          },
          "metadata": {
            "tags": []
          },
          "execution_count": 82
        }
      ]
    },
    {
      "cell_type": "code",
      "metadata": {
        "id": "tkKsy4OXFXLw",
        "colab_type": "code",
        "colab": {
          "base_uri": "https://localhost:8080/",
          "height": 123
        },
        "outputId": "367cda92-83e9-4256-c50b-b0e02d585baf"
      },
      "source": [
        "#COLUNAS PRESENTES NO DATASET TREINO x TREINO\n",
        "shelter_train.columns,  shelter_test.columns, "
      ],
      "execution_count": null,
      "outputs": [
        {
          "output_type": "execute_result",
          "data": {
            "text/plain": [
              "(Index(['AnimalID', 'Name', 'DateTime', 'OutcomeType', 'OutcomeSubtype',\n",
              "        'AnimalType', 'SexuponOutcome', 'AgeuponOutcome', 'Breed', 'Color'],\n",
              "       dtype='object'),\n",
              " Index(['ID', 'Name', 'DateTime', 'AnimalType', 'SexuponOutcome',\n",
              "        'AgeuponOutcome', 'Breed', 'Color'],\n",
              "       dtype='object'))"
            ]
          },
          "metadata": {
            "tags": []
          },
          "execution_count": 83
        }
      ]
    },
    {
      "cell_type": "code",
      "metadata": {
        "id": "9serSrQAupI-",
        "colab_type": "code",
        "colab": {
          "base_uri": "https://localhost:8080/",
          "height": 34
        },
        "outputId": "36b4bf0a-9efe-4190-c023-36a16ac2f043"
      },
      "source": [
        "#QUANTIDADE DE LINHAS TREINO X TESTE\n",
        "\n",
        "len(shelter_train), len(shelter_test)"
      ],
      "execution_count": null,
      "outputs": [
        {
          "output_type": "execute_result",
          "data": {
            "text/plain": [
              "(26729, 11456)"
            ]
          },
          "metadata": {
            "tags": []
          },
          "execution_count": 84
        }
      ]
    },
    {
      "cell_type": "code",
      "metadata": {
        "id": "ounxj77aVPLv",
        "colab_type": "code",
        "colab": {
          "base_uri": "https://localhost:8080/",
          "height": 298
        },
        "outputId": "9f7ac227-53f0-430a-eae2-cf836dbe214f"
      },
      "source": [
        "#VER BALANCEAMENTO DAS CLASSES : TREINO\n",
        "\n",
        "shelter_train['OutcomeType'].value_counts().sort_index().plot(kind='barh', color='teal')\n",
        "plt.title('Situacao dos animais em abrigos')"
      ],
      "execution_count": null,
      "outputs": [
        {
          "output_type": "execute_result",
          "data": {
            "text/plain": [
              "Text(0.5, 1.0, 'Situacao dos animais em abrigos')"
            ]
          },
          "metadata": {
            "tags": []
          },
          "execution_count": 85
        },
        {
          "output_type": "display_data",
          "data": {
            "image/png": "[encoded data removed]",
            "text/plain": [
              "<Figure size 432x288 with 1 Axes>"
            ]
          },
          "metadata": {
            "tags": [],
            "needs_background": "light"
          }
        }
      ]
    },
    {
      "cell_type": "code",
      "metadata": {
        "id": "2jOm6DUSuFbp",
        "colab_type": "code",
        "colab": {
          "base_uri": "https://localhost:8080/",
          "height": 34
        },
        "outputId": "fc8d483b-64b2-45ad-86c5-7ffa12873bec"
      },
      "source": [
        "#CONCATENAR TREINO E TESTE\n",
        "\n",
        "shelter_ALL = pd.concat([shelter_train, shelter_test], axis=0).reset_index()  #concatenar dois dataframes \n",
        "len(shelter_ALL) "
      ],
      "execution_count": null,
      "outputs": [
        {
          "output_type": "execute_result",
          "data": {
            "text/plain": [
              "38185"
            ]
          },
          "metadata": {
            "tags": []
          },
          "execution_count": 86
        }
      ]
    },
    {
      "cell_type": "code",
      "metadata": {
        "id": "JLhXVjuAHnsD",
        "colab_type": "code",
        "colab": {
          "base_uri": "https://localhost:8080/",
          "height": 247
        },
        "outputId": "77c969db-84ec-44c5-9c72-4cf0c0b4969f"
      },
      "source": [
        "shelter_ALL.dtypes"
      ],
      "execution_count": null,
      "outputs": [
        {
          "output_type": "execute_result",
          "data": {
            "text/plain": [
              "index               int64\n",
              "AnimalID           object\n",
              "Name               object\n",
              "DateTime           object\n",
              "OutcomeType        object\n",
              "OutcomeSubtype     object\n",
              "AnimalType         object\n",
              "SexuponOutcome     object\n",
              "AgeuponOutcome     object\n",
              "Breed              object\n",
              "Color              object\n",
              "ID                float64\n",
              "dtype: object"
            ]
          },
          "metadata": {
            "tags": []
          },
          "execution_count": 87
        }
      ]
    },
    {
      "cell_type": "code",
      "metadata": {
        "id": "bzoTdV1r8aVu",
        "colab_type": "code",
        "colab": {}
      },
      "source": [
        "def discover(data):\n",
        "  print('Coluna | Type | NaN | Nulo')\n",
        "  for k,v in data.items():\n",
        "    print(k , v.dtype, v.isna().sum(), v.isnull().sum())"
      ],
      "execution_count": null,
      "outputs": []
    },
    {
      "cell_type": "code",
      "metadata": {
        "id": "xmdkUYMQICmY",
        "colab_type": "code",
        "colab": {
          "base_uri": "https://localhost:8080/",
          "height": 247
        },
        "outputId": "422cfe4b-3f2e-4a79-8356-fe537a030d2f"
      },
      "source": [
        "discover(shelter_ALL)"
      ],
      "execution_count": null,
      "outputs": [
        {
          "output_type": "stream",
          "text": [
            "Coluna | Type | NaN | Nulo\n",
            "index int64 0 0\n",
            "AnimalID object 11456 11456\n",
            "Name object 10916 10916\n",
            "DateTime object 0 0\n",
            "OutcomeType object 11456 11456\n",
            "OutcomeSubtype object 25068 25068\n",
            "AnimalType object 0 0\n",
            "SexuponOutcome object 1 1\n",
            "AgeuponOutcome object 24 24\n",
            "Breed object 0 0\n",
            "Color object 0 0\n",
            "ID float64 26729 26729\n"
          ],
          "name": "stdout"
        }
      ]
    },
    {
      "cell_type": "markdown",
      "metadata": {
        "id": "pL9A91771yA1",
        "colab_type": "text"
      },
      "source": [
        "\n",
        "\n",
        "---\n",
        "\n"
      ]
    },
    {
      "cell_type": "markdown",
      "metadata": {
        "id": "e4WT2qoO1FlV",
        "colab_type": "text"
      },
      "source": [
        "# Tratamento de colunas "
      ]
    },
    {
      "cell_type": "code",
      "metadata": {
        "id": "he-nfK9O8uw4",
        "colab_type": "code",
        "colab": {
          "base_uri": "https://localhost:8080/",
          "height": 34
        },
        "outputId": "12cfd2cf-ef94-4d53-9db7-9c064070f4b5"
      },
      "source": [
        "len(shelter_ALL)"
      ],
      "execution_count": null,
      "outputs": [
        {
          "output_type": "execute_result",
          "data": {
            "text/plain": [
              "38185"
            ]
          },
          "metadata": {
            "tags": []
          },
          "execution_count": 90
        }
      ]
    },
    {
      "cell_type": "markdown",
      "metadata": {
        "id": "TDspQIv5RoQs",
        "colab_type": "text"
      },
      "source": [
        "## 1) Campo DateTime"
      ]
    },
    {
      "cell_type": "code",
      "metadata": {
        "id": "gNRf0faKR1cZ",
        "colab_type": "code",
        "colab": {
          "base_uri": "https://localhost:8080/",
          "height": 367
        },
        "outputId": "30738150-06fe-492f-fcc2-865a12470689"
      },
      "source": [
        "add_datepart(shelter_ALL, 'DateTime')\n",
        "shelter_ALL.tail()"
      ],
      "execution_count": null,
      "outputs": [
        {
          "output_type": "execute_result",
          "data": {
            "text/html": [
              "<div>\n",
              "<style scoped>\n",
              "    .dataframe tbody tr th:only-of-type {\n",
              "        vertical-align: middle;\n",
              "    }\n",
              "\n",
              "    .dataframe tbody tr th {\n",
              "        vertical-align: top;\n",
              "    }\n",
              "\n",
              "    .dataframe thead th {\n",
              "        text-align: right;\n",
              "    }\n",
              "</style>\n",
              "<table border=\"1\" class=\"dataframe\">\n",
              "  <thead>\n",
              "    <tr style=\"text-align: right;\">\n",
              "      <th></th>\n",
              "      <th>index</th>\n",
              "      <th>AnimalID</th>\n",
              "      <th>Name</th>\n",
              "      <th>OutcomeType</th>\n",
              "      <th>OutcomeSubtype</th>\n",
              "      <th>AnimalType</th>\n",
              "      <th>SexuponOutcome</th>\n",
              "      <th>AgeuponOutcome</th>\n",
              "      <th>Breed</th>\n",
              "      <th>Color</th>\n",
              "      <th>ID</th>\n",
              "      <th>DateTimeYear</th>\n",
              "      <th>DateTimeMonth</th>\n",
              "      <th>DateTimeWeek</th>\n",
              "      <th>DateTimeDay</th>\n",
              "      <th>DateTimeDayofweek</th>\n",
              "      <th>DateTimeDayofyear</th>\n",
              "      <th>DateTimeIs_month_end</th>\n",
              "      <th>DateTimeIs_month_start</th>\n",
              "      <th>DateTimeIs_quarter_end</th>\n",
              "      <th>DateTimeIs_quarter_start</th>\n",
              "      <th>DateTimeIs_year_end</th>\n",
              "      <th>DateTimeIs_year_start</th>\n",
              "      <th>DateTimeElapsed</th>\n",
              "    </tr>\n",
              "  </thead>\n",
              "  <tbody>\n",
              "    <tr>\n",
              "      <th>38180</th>\n",
              "      <td>11451</td>\n",
              "      <td>NaN</td>\n",
              "      <td>NaN</td>\n",
              "      <td>NaN</td>\n",
              "      <td>NaN</td>\n",
              "      <td>Cat</td>\n",
              "      <td>Neutered Male</td>\n",
              "      <td>2 months</td>\n",
              "      <td>Domestic Shorthair Mix</td>\n",
              "      <td>Black</td>\n",
              "      <td>11452.0</td>\n",
              "      <td>2014</td>\n",
              "      <td>7</td>\n",
              "      <td>28</td>\n",
              "      <td>8</td>\n",
              "      <td>1</td>\n",
              "      <td>189</td>\n",
              "      <td>False</td>\n",
              "      <td>False</td>\n",
              "      <td>False</td>\n",
              "      <td>False</td>\n",
              "      <td>False</td>\n",
              "      <td>False</td>\n",
              "      <td>1404831000</td>\n",
              "    </tr>\n",
              "    <tr>\n",
              "      <th>38181</th>\n",
              "      <td>11452</td>\n",
              "      <td>NaN</td>\n",
              "      <td>NaN</td>\n",
              "      <td>NaN</td>\n",
              "      <td>NaN</td>\n",
              "      <td>Cat</td>\n",
              "      <td>Intact Female</td>\n",
              "      <td>2 weeks</td>\n",
              "      <td>Domestic Shorthair Mix</td>\n",
              "      <td>Blue</td>\n",
              "      <td>11453.0</td>\n",
              "      <td>2014</td>\n",
              "      <td>10</td>\n",
              "      <td>43</td>\n",
              "      <td>21</td>\n",
              "      <td>1</td>\n",
              "      <td>294</td>\n",
              "      <td>False</td>\n",
              "      <td>False</td>\n",
              "      <td>False</td>\n",
              "      <td>False</td>\n",
              "      <td>False</td>\n",
              "      <td>False</td>\n",
              "      <td>1413896220</td>\n",
              "    </tr>\n",
              "    <tr>\n",
              "      <th>38182</th>\n",
              "      <td>11453</td>\n",
              "      <td>NaN</td>\n",
              "      <td>NaN</td>\n",
              "      <td>NaN</td>\n",
              "      <td>NaN</td>\n",
              "      <td>Cat</td>\n",
              "      <td>Intact Female</td>\n",
              "      <td>1 year</td>\n",
              "      <td>Domestic Shorthair Mix</td>\n",
              "      <td>Calico</td>\n",
              "      <td>11454.0</td>\n",
              "      <td>2014</td>\n",
              "      <td>9</td>\n",
              "      <td>40</td>\n",
              "      <td>29</td>\n",
              "      <td>0</td>\n",
              "      <td>272</td>\n",
              "      <td>False</td>\n",
              "      <td>False</td>\n",
              "      <td>False</td>\n",
              "      <td>False</td>\n",
              "      <td>False</td>\n",
              "      <td>False</td>\n",
              "      <td>1411981200</td>\n",
              "    </tr>\n",
              "    <tr>\n",
              "      <th>38183</th>\n",
              "      <td>11454</td>\n",
              "      <td>NaN</td>\n",
              "      <td>Rambo</td>\n",
              "      <td>NaN</td>\n",
              "      <td>NaN</td>\n",
              "      <td>Dog</td>\n",
              "      <td>Neutered Male</td>\n",
              "      <td>6 years</td>\n",
              "      <td>German Shepherd Mix</td>\n",
              "      <td>Black/Tan</td>\n",
              "      <td>11455.0</td>\n",
              "      <td>2015</td>\n",
              "      <td>9</td>\n",
              "      <td>36</td>\n",
              "      <td>5</td>\n",
              "      <td>5</td>\n",
              "      <td>248</td>\n",
              "      <td>False</td>\n",
              "      <td>False</td>\n",
              "      <td>False</td>\n",
              "      <td>False</td>\n",
              "      <td>False</td>\n",
              "      <td>False</td>\n",
              "      <td>1441473360</td>\n",
              "    </tr>\n",
              "    <tr>\n",
              "      <th>38184</th>\n",
              "      <td>11455</td>\n",
              "      <td>NaN</td>\n",
              "      <td>Gusto</td>\n",
              "      <td>NaN</td>\n",
              "      <td>NaN</td>\n",
              "      <td>Dog</td>\n",
              "      <td>Intact Male</td>\n",
              "      <td>4 years</td>\n",
              "      <td>Labrador Retriever</td>\n",
              "      <td>Cream</td>\n",
              "      <td>11456.0</td>\n",
              "      <td>2014</td>\n",
              "      <td>7</td>\n",
              "      <td>28</td>\n",
              "      <td>12</td>\n",
              "      <td>5</td>\n",
              "      <td>193</td>\n",
              "      <td>False</td>\n",
              "      <td>False</td>\n",
              "      <td>False</td>\n",
              "      <td>False</td>\n",
              "      <td>False</td>\n",
              "      <td>False</td>\n",
              "      <td>1405190400</td>\n",
              "    </tr>\n",
              "  </tbody>\n",
              "</table>\n",
              "</div>"
            ],
            "text/plain": [
              "       index AnimalID  ... DateTimeIs_year_start DateTimeElapsed\n",
              "38180  11451      NaN  ...                 False      1404831000\n",
              "38181  11452      NaN  ...                 False      1413896220\n",
              "38182  11453      NaN  ...                 False      1411981200\n",
              "38183  11454      NaN  ...                 False      1441473360\n",
              "38184  11455      NaN  ...                 False      1405190400\n",
              "\n",
              "[5 rows x 24 columns]"
            ]
          },
          "metadata": {
            "tags": []
          },
          "execution_count": 91
        }
      ]
    },
    {
      "cell_type": "markdown",
      "metadata": {
        "id": "69OYkeyO1oFR",
        "colab_type": "text"
      },
      "source": [
        "## 2) Campo Idade"
      ]
    },
    {
      "cell_type": "code",
      "metadata": {
        "id": "7A5H5eXT_2kk",
        "colab_type": "code",
        "colab": {
          "base_uri": "https://localhost:8080/",
          "height": 1000
        },
        "outputId": "7e1acf5d-987f-4150-aa22-a9f6c9c42c4f"
      },
      "source": [
        "shelter_ALL[(shelter_ALL['AgeuponOutcome'].isna())]"
      ],
      "execution_count": null,
      "outputs": [
        {
          "output_type": "execute_result",
          "data": {
            "text/html": [
              "<div>\n",
              "<style scoped>\n",
              "    .dataframe tbody tr th:only-of-type {\n",
              "        vertical-align: middle;\n",
              "    }\n",
              "\n",
              "    .dataframe tbody tr th {\n",
              "        vertical-align: top;\n",
              "    }\n",
              "\n",
              "    .dataframe thead th {\n",
              "        text-align: right;\n",
              "    }\n",
              "</style>\n",
              "<table border=\"1\" class=\"dataframe\">\n",
              "  <thead>\n",
              "    <tr style=\"text-align: right;\">\n",
              "      <th></th>\n",
              "      <th>index</th>\n",
              "      <th>AnimalID</th>\n",
              "      <th>Name</th>\n",
              "      <th>OutcomeType</th>\n",
              "      <th>OutcomeSubtype</th>\n",
              "      <th>AnimalType</th>\n",
              "      <th>SexuponOutcome</th>\n",
              "      <th>AgeuponOutcome</th>\n",
              "      <th>Breed</th>\n",
              "      <th>Color</th>\n",
              "      <th>ID</th>\n",
              "      <th>DateTimeYear</th>\n",
              "      <th>DateTimeMonth</th>\n",
              "      <th>DateTimeWeek</th>\n",
              "      <th>DateTimeDay</th>\n",
              "      <th>DateTimeDayofweek</th>\n",
              "      <th>DateTimeDayofyear</th>\n",
              "      <th>DateTimeIs_month_end</th>\n",
              "      <th>DateTimeIs_month_start</th>\n",
              "      <th>DateTimeIs_quarter_end</th>\n",
              "      <th>DateTimeIs_quarter_start</th>\n",
              "      <th>DateTimeIs_year_end</th>\n",
              "      <th>DateTimeIs_year_start</th>\n",
              "      <th>DateTimeElapsed</th>\n",
              "    </tr>\n",
              "  </thead>\n",
              "  <tbody>\n",
              "    <tr>\n",
              "      <th>2480</th>\n",
              "      <td>2480</td>\n",
              "      <td>A720674</td>\n",
              "      <td>NaN</td>\n",
              "      <td>Transfer</td>\n",
              "      <td>SCRP</td>\n",
              "      <td>Cat</td>\n",
              "      <td>Intact Male</td>\n",
              "      <td>NaN</td>\n",
              "      <td>Domestic Shorthair Mix</td>\n",
              "      <td>Blue Tabby/White</td>\n",
              "      <td>NaN</td>\n",
              "      <td>2016</td>\n",
              "      <td>2</td>\n",
              "      <td>7</td>\n",
              "      <td>16</td>\n",
              "      <td>1</td>\n",
              "      <td>47</td>\n",
              "      <td>False</td>\n",
              "      <td>False</td>\n",
              "      <td>False</td>\n",
              "      <td>False</td>\n",
              "      <td>False</td>\n",
              "      <td>False</td>\n",
              "      <td>1455617820</td>\n",
              "    </tr>\n",
              "    <tr>\n",
              "      <th>2912</th>\n",
              "      <td>2912</td>\n",
              "      <td>A720973</td>\n",
              "      <td>NaN</td>\n",
              "      <td>Transfer</td>\n",
              "      <td>SCRP</td>\n",
              "      <td>Cat</td>\n",
              "      <td>Unknown</td>\n",
              "      <td>NaN</td>\n",
              "      <td>Domestic Shorthair Mix</td>\n",
              "      <td>Gray Tabby</td>\n",
              "      <td>NaN</td>\n",
              "      <td>2016</td>\n",
              "      <td>2</td>\n",
              "      <td>7</td>\n",
              "      <td>18</td>\n",
              "      <td>3</td>\n",
              "      <td>49</td>\n",
              "      <td>False</td>\n",
              "      <td>False</td>\n",
              "      <td>False</td>\n",
              "      <td>False</td>\n",
              "      <td>False</td>\n",
              "      <td>False</td>\n",
              "      <td>1455822420</td>\n",
              "    </tr>\n",
              "    <tr>\n",
              "      <th>3766</th>\n",
              "      <td>3766</td>\n",
              "      <td>A720820</td>\n",
              "      <td>NaN</td>\n",
              "      <td>Transfer</td>\n",
              "      <td>SCRP</td>\n",
              "      <td>Cat</td>\n",
              "      <td>Intact Female</td>\n",
              "      <td>NaN</td>\n",
              "      <td>Domestic Shorthair Mix</td>\n",
              "      <td>Brown Tabby</td>\n",
              "      <td>NaN</td>\n",
              "      <td>2016</td>\n",
              "      <td>2</td>\n",
              "      <td>7</td>\n",
              "      <td>16</td>\n",
              "      <td>1</td>\n",
              "      <td>47</td>\n",
              "      <td>False</td>\n",
              "      <td>False</td>\n",
              "      <td>False</td>\n",
              "      <td>False</td>\n",
              "      <td>False</td>\n",
              "      <td>False</td>\n",
              "      <td>1455648900</td>\n",
              "    </tr>\n",
              "    <tr>\n",
              "      <th>3875</th>\n",
              "      <td>3875</td>\n",
              "      <td>A721076</td>\n",
              "      <td>NaN</td>\n",
              "      <td>Euthanasia</td>\n",
              "      <td>Suffering</td>\n",
              "      <td>Dog</td>\n",
              "      <td>Intact Male</td>\n",
              "      <td>NaN</td>\n",
              "      <td>Toy Poodle Mix</td>\n",
              "      <td>White</td>\n",
              "      <td>NaN</td>\n",
              "      <td>2016</td>\n",
              "      <td>2</td>\n",
              "      <td>7</td>\n",
              "      <td>20</td>\n",
              "      <td>5</td>\n",
              "      <td>51</td>\n",
              "      <td>False</td>\n",
              "      <td>False</td>\n",
              "      <td>False</td>\n",
              "      <td>False</td>\n",
              "      <td>False</td>\n",
              "      <td>False</td>\n",
              "      <td>1455986220</td>\n",
              "    </tr>\n",
              "    <tr>\n",
              "      <th>4498</th>\n",
              "      <td>4498</td>\n",
              "      <td>A720422</td>\n",
              "      <td>NaN</td>\n",
              "      <td>Transfer</td>\n",
              "      <td>SCRP</td>\n",
              "      <td>Cat</td>\n",
              "      <td>Intact Female</td>\n",
              "      <td>NaN</td>\n",
              "      <td>Domestic Shorthair Mix</td>\n",
              "      <td>Brown Tabby</td>\n",
              "      <td>NaN</td>\n",
              "      <td>2016</td>\n",
              "      <td>2</td>\n",
              "      <td>6</td>\n",
              "      <td>9</td>\n",
              "      <td>1</td>\n",
              "      <td>40</td>\n",
              "      <td>False</td>\n",
              "      <td>False</td>\n",
              "      <td>False</td>\n",
              "      <td>False</td>\n",
              "      <td>False</td>\n",
              "      <td>False</td>\n",
              "      <td>1455046980</td>\n",
              "    </tr>\n",
              "    <tr>\n",
              "      <th>5137</th>\n",
              "      <td>5137</td>\n",
              "      <td>A720697</td>\n",
              "      <td>NaN</td>\n",
              "      <td>Transfer</td>\n",
              "      <td>SCRP</td>\n",
              "      <td>Cat</td>\n",
              "      <td>Spayed Female</td>\n",
              "      <td>NaN</td>\n",
              "      <td>Domestic Shorthair Mix</td>\n",
              "      <td>Black</td>\n",
              "      <td>NaN</td>\n",
              "      <td>2016</td>\n",
              "      <td>2</td>\n",
              "      <td>7</td>\n",
              "      <td>16</td>\n",
              "      <td>1</td>\n",
              "      <td>47</td>\n",
              "      <td>False</td>\n",
              "      <td>False</td>\n",
              "      <td>False</td>\n",
              "      <td>False</td>\n",
              "      <td>False</td>\n",
              "      <td>False</td>\n",
              "      <td>1455617820</td>\n",
              "    </tr>\n",
              "    <tr>\n",
              "      <th>5691</th>\n",
              "      <td>5691</td>\n",
              "      <td>A720640</td>\n",
              "      <td>NaN</td>\n",
              "      <td>Transfer</td>\n",
              "      <td>SCRP</td>\n",
              "      <td>Cat</td>\n",
              "      <td>Unknown</td>\n",
              "      <td>NaN</td>\n",
              "      <td>Domestic Shorthair Mix</td>\n",
              "      <td>Black Tabby/White</td>\n",
              "      <td>NaN</td>\n",
              "      <td>2016</td>\n",
              "      <td>2</td>\n",
              "      <td>7</td>\n",
              "      <td>16</td>\n",
              "      <td>1</td>\n",
              "      <td>47</td>\n",
              "      <td>False</td>\n",
              "      <td>False</td>\n",
              "      <td>False</td>\n",
              "      <td>False</td>\n",
              "      <td>False</td>\n",
              "      <td>False</td>\n",
              "      <td>1455617820</td>\n",
              "    </tr>\n",
              "    <tr>\n",
              "      <th>7005</th>\n",
              "      <td>7005</td>\n",
              "      <td>A720636</td>\n",
              "      <td>NaN</td>\n",
              "      <td>Transfer</td>\n",
              "      <td>SCRP</td>\n",
              "      <td>Cat</td>\n",
              "      <td>Unknown</td>\n",
              "      <td>NaN</td>\n",
              "      <td>Domestic Shorthair Mix</td>\n",
              "      <td>Black</td>\n",
              "      <td>NaN</td>\n",
              "      <td>2016</td>\n",
              "      <td>2</td>\n",
              "      <td>7</td>\n",
              "      <td>16</td>\n",
              "      <td>1</td>\n",
              "      <td>47</td>\n",
              "      <td>False</td>\n",
              "      <td>False</td>\n",
              "      <td>False</td>\n",
              "      <td>False</td>\n",
              "      <td>False</td>\n",
              "      <td>False</td>\n",
              "      <td>1455617820</td>\n",
              "    </tr>\n",
              "    <tr>\n",
              "      <th>8420</th>\n",
              "      <td>8420</td>\n",
              "      <td>A720701</td>\n",
              "      <td>NaN</td>\n",
              "      <td>Transfer</td>\n",
              "      <td>SCRP</td>\n",
              "      <td>Cat</td>\n",
              "      <td>Intact Male</td>\n",
              "      <td>NaN</td>\n",
              "      <td>Domestic Shorthair Mix</td>\n",
              "      <td>Blue Tabby/White</td>\n",
              "      <td>NaN</td>\n",
              "      <td>2016</td>\n",
              "      <td>2</td>\n",
              "      <td>7</td>\n",
              "      <td>16</td>\n",
              "      <td>1</td>\n",
              "      <td>47</td>\n",
              "      <td>False</td>\n",
              "      <td>False</td>\n",
              "      <td>False</td>\n",
              "      <td>False</td>\n",
              "      <td>False</td>\n",
              "      <td>False</td>\n",
              "      <td>1455617760</td>\n",
              "    </tr>\n",
              "    <tr>\n",
              "      <th>17464</th>\n",
              "      <td>17464</td>\n",
              "      <td>A720782</td>\n",
              "      <td>NaN</td>\n",
              "      <td>Transfer</td>\n",
              "      <td>SCRP</td>\n",
              "      <td>Cat</td>\n",
              "      <td>Intact Female</td>\n",
              "      <td>NaN</td>\n",
              "      <td>Domestic Shorthair Mix</td>\n",
              "      <td>Torbie</td>\n",
              "      <td>NaN</td>\n",
              "      <td>2016</td>\n",
              "      <td>2</td>\n",
              "      <td>7</td>\n",
              "      <td>16</td>\n",
              "      <td>1</td>\n",
              "      <td>47</td>\n",
              "      <td>False</td>\n",
              "      <td>False</td>\n",
              "      <td>False</td>\n",
              "      <td>False</td>\n",
              "      <td>False</td>\n",
              "      <td>False</td>\n",
              "      <td>1455648900</td>\n",
              "    </tr>\n",
              "    <tr>\n",
              "      <th>18490</th>\n",
              "      <td>18490</td>\n",
              "      <td>A720780</td>\n",
              "      <td>NaN</td>\n",
              "      <td>Transfer</td>\n",
              "      <td>SCRP</td>\n",
              "      <td>Cat</td>\n",
              "      <td>Intact Female</td>\n",
              "      <td>NaN</td>\n",
              "      <td>Domestic Shorthair Mix</td>\n",
              "      <td>Brown Tabby</td>\n",
              "      <td>NaN</td>\n",
              "      <td>2016</td>\n",
              "      <td>2</td>\n",
              "      <td>7</td>\n",
              "      <td>16</td>\n",
              "      <td>1</td>\n",
              "      <td>47</td>\n",
              "      <td>False</td>\n",
              "      <td>False</td>\n",
              "      <td>False</td>\n",
              "      <td>False</td>\n",
              "      <td>False</td>\n",
              "      <td>False</td>\n",
              "      <td>1455648840</td>\n",
              "    </tr>\n",
              "    <tr>\n",
              "      <th>19927</th>\n",
              "      <td>19927</td>\n",
              "      <td>A720653</td>\n",
              "      <td>NaN</td>\n",
              "      <td>Transfer</td>\n",
              "      <td>SCRP</td>\n",
              "      <td>Cat</td>\n",
              "      <td>Intact Female</td>\n",
              "      <td>NaN</td>\n",
              "      <td>Domestic Shorthair Mix</td>\n",
              "      <td>Tortie</td>\n",
              "      <td>NaN</td>\n",
              "      <td>2016</td>\n",
              "      <td>2</td>\n",
              "      <td>7</td>\n",
              "      <td>16</td>\n",
              "      <td>1</td>\n",
              "      <td>47</td>\n",
              "      <td>False</td>\n",
              "      <td>False</td>\n",
              "      <td>False</td>\n",
              "      <td>False</td>\n",
              "      <td>False</td>\n",
              "      <td>False</td>\n",
              "      <td>1455617760</td>\n",
              "    </tr>\n",
              "    <tr>\n",
              "      <th>21523</th>\n",
              "      <td>21523</td>\n",
              "      <td>A720652</td>\n",
              "      <td>NaN</td>\n",
              "      <td>Transfer</td>\n",
              "      <td>SCRP</td>\n",
              "      <td>Cat</td>\n",
              "      <td>Intact Male</td>\n",
              "      <td>NaN</td>\n",
              "      <td>Domestic Shorthair Mix</td>\n",
              "      <td>Blue</td>\n",
              "      <td>NaN</td>\n",
              "      <td>2016</td>\n",
              "      <td>2</td>\n",
              "      <td>7</td>\n",
              "      <td>16</td>\n",
              "      <td>1</td>\n",
              "      <td>47</td>\n",
              "      <td>False</td>\n",
              "      <td>False</td>\n",
              "      <td>False</td>\n",
              "      <td>False</td>\n",
              "      <td>False</td>\n",
              "      <td>False</td>\n",
              "      <td>1455617760</td>\n",
              "    </tr>\n",
              "    <tr>\n",
              "      <th>22380</th>\n",
              "      <td>22380</td>\n",
              "      <td>A720534</td>\n",
              "      <td>NaN</td>\n",
              "      <td>Transfer</td>\n",
              "      <td>SCRP</td>\n",
              "      <td>Cat</td>\n",
              "      <td>Intact Female</td>\n",
              "      <td>NaN</td>\n",
              "      <td>Domestic Shorthair Mix</td>\n",
              "      <td>Brown Tabby/White</td>\n",
              "      <td>NaN</td>\n",
              "      <td>2016</td>\n",
              "      <td>2</td>\n",
              "      <td>6</td>\n",
              "      <td>11</td>\n",
              "      <td>3</td>\n",
              "      <td>42</td>\n",
              "      <td>False</td>\n",
              "      <td>False</td>\n",
              "      <td>False</td>\n",
              "      <td>False</td>\n",
              "      <td>False</td>\n",
              "      <td>False</td>\n",
              "      <td>1455218760</td>\n",
              "    </tr>\n",
              "    <tr>\n",
              "      <th>22448</th>\n",
              "      <td>22448</td>\n",
              "      <td>A720781</td>\n",
              "      <td>NaN</td>\n",
              "      <td>Transfer</td>\n",
              "      <td>SCRP</td>\n",
              "      <td>Cat</td>\n",
              "      <td>Unknown</td>\n",
              "      <td>NaN</td>\n",
              "      <td>Domestic Shorthair Mix</td>\n",
              "      <td>Brown Tabby</td>\n",
              "      <td>NaN</td>\n",
              "      <td>2016</td>\n",
              "      <td>2</td>\n",
              "      <td>7</td>\n",
              "      <td>16</td>\n",
              "      <td>1</td>\n",
              "      <td>47</td>\n",
              "      <td>False</td>\n",
              "      <td>False</td>\n",
              "      <td>False</td>\n",
              "      <td>False</td>\n",
              "      <td>False</td>\n",
              "      <td>False</td>\n",
              "      <td>1455648900</td>\n",
              "    </tr>\n",
              "    <tr>\n",
              "      <th>24328</th>\n",
              "      <td>24328</td>\n",
              "      <td>A720908</td>\n",
              "      <td>NaN</td>\n",
              "      <td>Euthanasia</td>\n",
              "      <td>Suffering</td>\n",
              "      <td>Cat</td>\n",
              "      <td>Intact Male</td>\n",
              "      <td>NaN</td>\n",
              "      <td>Domestic Longhair Mix</td>\n",
              "      <td>Cream Tabby</td>\n",
              "      <td>NaN</td>\n",
              "      <td>2016</td>\n",
              "      <td>2</td>\n",
              "      <td>7</td>\n",
              "      <td>17</td>\n",
              "      <td>2</td>\n",
              "      <td>48</td>\n",
              "      <td>False</td>\n",
              "      <td>False</td>\n",
              "      <td>False</td>\n",
              "      <td>False</td>\n",
              "      <td>False</td>\n",
              "      <td>False</td>\n",
              "      <td>1455721620</td>\n",
              "    </tr>\n",
              "    <tr>\n",
              "      <th>26551</th>\n",
              "      <td>26551</td>\n",
              "      <td>A721113</td>\n",
              "      <td>NaN</td>\n",
              "      <td>Transfer</td>\n",
              "      <td>SCRP</td>\n",
              "      <td>Cat</td>\n",
              "      <td>Intact Female</td>\n",
              "      <td>NaN</td>\n",
              "      <td>Domestic Shorthair Mix</td>\n",
              "      <td>Black</td>\n",
              "      <td>NaN</td>\n",
              "      <td>2016</td>\n",
              "      <td>2</td>\n",
              "      <td>7</td>\n",
              "      <td>21</td>\n",
              "      <td>6</td>\n",
              "      <td>52</td>\n",
              "      <td>False</td>\n",
              "      <td>False</td>\n",
              "      <td>False</td>\n",
              "      <td>False</td>\n",
              "      <td>False</td>\n",
              "      <td>False</td>\n",
              "      <td>1456078920</td>\n",
              "    </tr>\n",
              "    <tr>\n",
              "      <th>26570</th>\n",
              "      <td>26570</td>\n",
              "      <td>A720502</td>\n",
              "      <td>NaN</td>\n",
              "      <td>Transfer</td>\n",
              "      <td>SCRP</td>\n",
              "      <td>Cat</td>\n",
              "      <td>Intact Male</td>\n",
              "      <td>NaN</td>\n",
              "      <td>Domestic Shorthair Mix</td>\n",
              "      <td>Black</td>\n",
              "      <td>NaN</td>\n",
              "      <td>2016</td>\n",
              "      <td>2</td>\n",
              "      <td>6</td>\n",
              "      <td>10</td>\n",
              "      <td>2</td>\n",
              "      <td>41</td>\n",
              "      <td>False</td>\n",
              "      <td>False</td>\n",
              "      <td>False</td>\n",
              "      <td>False</td>\n",
              "      <td>False</td>\n",
              "      <td>False</td>\n",
              "      <td>1455130140</td>\n",
              "    </tr>\n",
              "    <tr>\n",
              "      <th>27492</th>\n",
              "      <td>763</td>\n",
              "      <td>NaN</td>\n",
              "      <td>NaN</td>\n",
              "      <td>NaN</td>\n",
              "      <td>NaN</td>\n",
              "      <td>Cat</td>\n",
              "      <td>Unknown</td>\n",
              "      <td>NaN</td>\n",
              "      <td>Domestic Shorthair Mix</td>\n",
              "      <td>Black</td>\n",
              "      <td>764.0</td>\n",
              "      <td>2016</td>\n",
              "      <td>2</td>\n",
              "      <td>7</td>\n",
              "      <td>18</td>\n",
              "      <td>3</td>\n",
              "      <td>49</td>\n",
              "      <td>False</td>\n",
              "      <td>False</td>\n",
              "      <td>False</td>\n",
              "      <td>False</td>\n",
              "      <td>False</td>\n",
              "      <td>False</td>\n",
              "      <td>1455822420</td>\n",
              "    </tr>\n",
              "    <tr>\n",
              "      <th>29227</th>\n",
              "      <td>2498</td>\n",
              "      <td>NaN</td>\n",
              "      <td>NaN</td>\n",
              "      <td>NaN</td>\n",
              "      <td>NaN</td>\n",
              "      <td>Cat</td>\n",
              "      <td>Intact Male</td>\n",
              "      <td>NaN</td>\n",
              "      <td>Domestic Longhair Mix</td>\n",
              "      <td>Blue/White</td>\n",
              "      <td>2499.0</td>\n",
              "      <td>2016</td>\n",
              "      <td>2</td>\n",
              "      <td>7</td>\n",
              "      <td>16</td>\n",
              "      <td>1</td>\n",
              "      <td>47</td>\n",
              "      <td>False</td>\n",
              "      <td>False</td>\n",
              "      <td>False</td>\n",
              "      <td>False</td>\n",
              "      <td>False</td>\n",
              "      <td>False</td>\n",
              "      <td>1455648840</td>\n",
              "    </tr>\n",
              "    <tr>\n",
              "      <th>33052</th>\n",
              "      <td>6323</td>\n",
              "      <td>NaN</td>\n",
              "      <td>NaN</td>\n",
              "      <td>NaN</td>\n",
              "      <td>NaN</td>\n",
              "      <td>Cat</td>\n",
              "      <td>Intact Male</td>\n",
              "      <td>NaN</td>\n",
              "      <td>Domestic Shorthair Mix</td>\n",
              "      <td>Black</td>\n",
              "      <td>6324.0</td>\n",
              "      <td>2016</td>\n",
              "      <td>2</td>\n",
              "      <td>6</td>\n",
              "      <td>10</td>\n",
              "      <td>2</td>\n",
              "      <td>41</td>\n",
              "      <td>False</td>\n",
              "      <td>False</td>\n",
              "      <td>False</td>\n",
              "      <td>False</td>\n",
              "      <td>False</td>\n",
              "      <td>False</td>\n",
              "      <td>1455130140</td>\n",
              "    </tr>\n",
              "    <tr>\n",
              "      <th>33076</th>\n",
              "      <td>6347</td>\n",
              "      <td>NaN</td>\n",
              "      <td>NaN</td>\n",
              "      <td>NaN</td>\n",
              "      <td>NaN</td>\n",
              "      <td>Cat</td>\n",
              "      <td>Intact Male</td>\n",
              "      <td>NaN</td>\n",
              "      <td>Domestic Shorthair Mix</td>\n",
              "      <td>Brown Tabby</td>\n",
              "      <td>6348.0</td>\n",
              "      <td>2016</td>\n",
              "      <td>2</td>\n",
              "      <td>6</td>\n",
              "      <td>12</td>\n",
              "      <td>4</td>\n",
              "      <td>43</td>\n",
              "      <td>False</td>\n",
              "      <td>False</td>\n",
              "      <td>False</td>\n",
              "      <td>False</td>\n",
              "      <td>False</td>\n",
              "      <td>False</td>\n",
              "      <td>1455301620</td>\n",
              "    </tr>\n",
              "    <tr>\n",
              "      <th>34355</th>\n",
              "      <td>7626</td>\n",
              "      <td>NaN</td>\n",
              "      <td>NaN</td>\n",
              "      <td>NaN</td>\n",
              "      <td>NaN</td>\n",
              "      <td>Cat</td>\n",
              "      <td>Intact Female</td>\n",
              "      <td>NaN</td>\n",
              "      <td>Domestic Shorthair Mix</td>\n",
              "      <td>Tortie</td>\n",
              "      <td>7627.0</td>\n",
              "      <td>2016</td>\n",
              "      <td>2</td>\n",
              "      <td>7</td>\n",
              "      <td>19</td>\n",
              "      <td>4</td>\n",
              "      <td>50</td>\n",
              "      <td>False</td>\n",
              "      <td>False</td>\n",
              "      <td>False</td>\n",
              "      <td>False</td>\n",
              "      <td>False</td>\n",
              "      <td>False</td>\n",
              "      <td>1455906660</td>\n",
              "    </tr>\n",
              "    <tr>\n",
              "      <th>37483</th>\n",
              "      <td>10754</td>\n",
              "      <td>NaN</td>\n",
              "      <td>NaN</td>\n",
              "      <td>NaN</td>\n",
              "      <td>NaN</td>\n",
              "      <td>Cat</td>\n",
              "      <td>Neutered Male</td>\n",
              "      <td>NaN</td>\n",
              "      <td>Domestic Shorthair Mix</td>\n",
              "      <td>White/Black</td>\n",
              "      <td>10755.0</td>\n",
              "      <td>2016</td>\n",
              "      <td>2</td>\n",
              "      <td>6</td>\n",
              "      <td>12</td>\n",
              "      <td>4</td>\n",
              "      <td>43</td>\n",
              "      <td>False</td>\n",
              "      <td>False</td>\n",
              "      <td>False</td>\n",
              "      <td>False</td>\n",
              "      <td>False</td>\n",
              "      <td>False</td>\n",
              "      <td>1455301980</td>\n",
              "    </tr>\n",
              "  </tbody>\n",
              "</table>\n",
              "</div>"
            ],
            "text/plain": [
              "       index AnimalID  ... DateTimeIs_year_start DateTimeElapsed\n",
              "2480    2480  A720674  ...                 False      1455617820\n",
              "2912    2912  A720973  ...                 False      1455822420\n",
              "3766    3766  A720820  ...                 False      1455648900\n",
              "3875    3875  A721076  ...                 False      1455986220\n",
              "4498    4498  A720422  ...                 False      1455046980\n",
              "5137    5137  A720697  ...                 False      1455617820\n",
              "5691    5691  A720640  ...                 False      1455617820\n",
              "7005    7005  A720636  ...                 False      1455617820\n",
              "8420    8420  A720701  ...                 False      1455617760\n",
              "17464  17464  A720782  ...                 False      1455648900\n",
              "18490  18490  A720780  ...                 False      1455648840\n",
              "19927  19927  A720653  ...                 False      1455617760\n",
              "21523  21523  A720652  ...                 False      1455617760\n",
              "22380  22380  A720534  ...                 False      1455218760\n",
              "22448  22448  A720781  ...                 False      1455648900\n",
              "24328  24328  A720908  ...                 False      1455721620\n",
              "26551  26551  A721113  ...                 False      1456078920\n",
              "26570  26570  A720502  ...                 False      1455130140\n",
              "27492    763      NaN  ...                 False      1455822420\n",
              "29227   2498      NaN  ...                 False      1455648840\n",
              "33052   6323      NaN  ...                 False      1455130140\n",
              "33076   6347      NaN  ...                 False      1455301620\n",
              "34355   7626      NaN  ...                 False      1455906660\n",
              "37483  10754      NaN  ...                 False      1455301980\n",
              "\n",
              "[24 rows x 24 columns]"
            ]
          },
          "metadata": {
            "tags": []
          },
          "execution_count": 92
        }
      ]
    },
    {
      "cell_type": "code",
      "metadata": {
        "id": "nt1H9Z2GPjPF",
        "colab_type": "code",
        "colab": {}
      },
      "source": [
        "shelter_ALL['AgeuponOutcome'].fillna('0 day', inplace=True)"
      ],
      "execution_count": null,
      "outputs": []
    },
    {
      "cell_type": "code",
      "metadata": {
        "id": "xArwYt1B_Ei4",
        "colab_type": "code",
        "colab": {}
      },
      "source": [
        "def age_converter(x): \n",
        "\n",
        "    [age, unit] = x.split(' ', 1)\n",
        "    #print(age,unit)\n",
        "\n",
        "    if('day' in unit):\n",
        "        if age=='0': return 1\n",
        "        return int(age)\n",
        "    if('week' in unit):\n",
        "        if(age)=='0': return 7\n",
        "        return int(age)*7\n",
        "    elif('month' in unit):\n",
        "        if(age)=='0': return 30\n",
        "        return int(age) * 4*7\n",
        "    elif('year' in unit):\n",
        "        if(age)=='0': return 365\n",
        "        return int(age) * 4*12*7\n",
        "    "
      ],
      "execution_count": null,
      "outputs": []
    },
    {
      "cell_type": "code",
      "metadata": {
        "id": "OgIAtLKIEonx",
        "colab_type": "code",
        "colab": {
          "base_uri": "https://localhost:8080/",
          "height": 230
        },
        "outputId": "2ed2e83e-fa33-42ba-9e47-5a361b285b9f"
      },
      "source": [
        "shelter_ALL['AgeuponOutcome']"
      ],
      "execution_count": null,
      "outputs": [
        {
          "output_type": "execute_result",
          "data": {
            "text/plain": [
              "0          1 year\n",
              "1          1 year\n",
              "2         2 years\n",
              "3         3 weeks\n",
              "4         2 years\n",
              "           ...   \n",
              "38180    2 months\n",
              "38181     2 weeks\n",
              "38182      1 year\n",
              "38183     6 years\n",
              "38184     4 years\n",
              "Name: AgeuponOutcome, Length: 38185, dtype: object"
            ]
          },
          "metadata": {
            "tags": []
          },
          "execution_count": 95
        }
      ]
    },
    {
      "cell_type": "code",
      "metadata": {
        "id": "aCYoUBdsDUTK",
        "colab_type": "code",
        "colab": {
          "base_uri": "https://localhost:8080/",
          "height": 230
        },
        "outputId": "c176e42b-c1bd-4557-fb4a-613120da762e"
      },
      "source": [
        "shelter_ALL['AgeInDays']  = shelter_ALL['AgeuponOutcome'].apply(age_converter)\n",
        "\n",
        "shelter_ALL['AgeInDays']"
      ],
      "execution_count": null,
      "outputs": [
        {
          "output_type": "execute_result",
          "data": {
            "text/plain": [
              "0         336\n",
              "1         336\n",
              "2         672\n",
              "3          21\n",
              "4         672\n",
              "         ... \n",
              "38180      56\n",
              "38181      14\n",
              "38182     336\n",
              "38183    2016\n",
              "38184    1344\n",
              "Name: AgeInDays, Length: 38185, dtype: int64"
            ]
          },
          "metadata": {
            "tags": []
          },
          "execution_count": 96
        }
      ]
    },
    {
      "cell_type": "markdown",
      "metadata": {
        "id": "pO4n2RIt1KK-",
        "colab_type": "text"
      },
      "source": [
        "## 3) Separação de listas em dados colunas únicas"
      ]
    },
    {
      "cell_type": "code",
      "metadata": {
        "id": "gJZ8hE_aD-aT",
        "colab_type": "code",
        "colab": {}
      },
      "source": [
        "#Separacao das cores\n",
        "shelter_ALL = shelter_ALL.join(shelter_ALL['Color'].str.split('/', 1, expand=True).rename(columns={0:'Color_0', 1:'Color_1'}))"
      ],
      "execution_count": null,
      "outputs": []
    },
    {
      "cell_type": "code",
      "metadata": {
        "id": "mCteCLOeJNPu",
        "colab_type": "code",
        "colab": {}
      },
      "source": [
        "#Separacao da coluna sexo\n",
        "shelter_ALL = shelter_ALL.join(shelter_ALL['SexuponOutcome'].str.split(' ', 1, expand=True).rename(columns={0:'SexuponOutcome_0', 1:'SexuponOutcome_1'}))"
      ],
      "execution_count": null,
      "outputs": []
    },
    {
      "cell_type": "code",
      "metadata": {
        "id": "mLKx8YIEJRQS",
        "colab_type": "code",
        "colab": {}
      },
      "source": [
        "#Separacao da coluna raça\n",
        "shelter_ALL =shelter_ALL.join(shelter_ALL['Breed'].str.split(' ', -1, expand=True).rename(columns={0:'Breed_0', 1:'Breed_1', 2:'Breed_2', 3:'Breed_3', 4:'Breed_4', 5:'Breed_5'}))"
      ],
      "execution_count": null,
      "outputs": []
    },
    {
      "cell_type": "markdown",
      "metadata": {
        "id": "KRG18X-lMz4r",
        "colab_type": "text"
      },
      "source": [
        "## 4) Criando novas colunas"
      ]
    },
    {
      "cell_type": "code",
      "metadata": {
        "id": "IqOnY5YtL7Oq",
        "colab_type": "code",
        "colab": {}
      },
      "source": [
        "shelter_ALL['Multi_Colors'] = shelter_ALL['Color'].apply(lambda x : True if '/' in x else False)"
      ],
      "execution_count": null,
      "outputs": []
    },
    {
      "cell_type": "code",
      "metadata": {
        "id": "02HPh1oEML0u",
        "colab_type": "code",
        "colab": {}
      },
      "source": [
        "shelter_ALL['Mixed'] = shelter_ALL['Breed'].apply(lambda x : True if 'Mix' in x else False)"
      ],
      "execution_count": null,
      "outputs": []
    },
    {
      "cell_type": "code",
      "metadata": {
        "id": "sSeljB3WUP8H",
        "colab_type": "code",
        "colab": {}
      },
      "source": [
        "shelter_ALL['Name'] = shelter_ALL['Name'].fillna(value=0)"
      ],
      "execution_count": null,
      "outputs": []
    },
    {
      "cell_type": "code",
      "metadata": {
        "id": "ID7jpkjuTniy",
        "colab_type": "code",
        "colab": {}
      },
      "source": [
        "shelter_ALL['Is_Named'] = shelter_ALL['Name'].apply(lambda x : True if x is not 0 else False)"
      ],
      "execution_count": null,
      "outputs": []
    },
    {
      "cell_type": "markdown",
      "metadata": {
        "id": "2Qh6Lw2v1V82",
        "colab_type": "text"
      },
      "source": [
        "## 2) Nulos e NaN"
      ]
    },
    {
      "cell_type": "code",
      "metadata": {
        "id": "tkdMPm2b64Yx",
        "colab_type": "code",
        "colab": {}
      },
      "source": [
        "def tratarString(data):\n",
        "  for k,v in data.items():\n",
        "    if not is_numeric_dtype(v):\n",
        "      data[k].fillna('Unknown', inplace=True)"
      ],
      "execution_count": null,
      "outputs": []
    },
    {
      "cell_type": "code",
      "metadata": {
        "id": "HR2AL83q7lrN",
        "colab_type": "code",
        "colab": {}
      },
      "source": [
        "tratarString(shelter_ALL)"
      ],
      "execution_count": null,
      "outputs": []
    },
    {
      "cell_type": "markdown",
      "metadata": {
        "id": "8DV6IZlq1buu",
        "colab_type": "text"
      },
      "source": [
        "## 4) Categoricos"
      ]
    },
    {
      "cell_type": "code",
      "metadata": {
        "id": "6yCumBdrXQmv",
        "colab_type": "code",
        "colab": {}
      },
      "source": [
        "#Campos do tipo string devem virar categoricas\n",
        "def paraCategorico(data):\n",
        "  for k,v in data.items():\n",
        "    if is_string_dtype(v):\n",
        "      data[k] = v.astype('category').cat.as_ordered()"
      ],
      "execution_count": null,
      "outputs": []
    },
    {
      "cell_type": "code",
      "metadata": {
        "id": "s510pVXiXU4w",
        "colab_type": "code",
        "colab": {}
      },
      "source": [
        "paraCategorico(shelter_ALL)"
      ],
      "execution_count": null,
      "outputs": []
    },
    {
      "cell_type": "markdown",
      "metadata": {
        "id": "8SJuX7Wq1e0G",
        "colab_type": "text"
      },
      "source": [
        "## 5) Numericos"
      ]
    },
    {
      "cell_type": "code",
      "metadata": {
        "id": "aTE5U7PgXiEJ",
        "colab_type": "code",
        "colab": {}
      },
      "source": [
        "def paraNumerico(data):\n",
        "  for k,v in data.items():\n",
        "    if not is_numeric_dtype(v):\n",
        "      data[k] = data[k].cat.codes"
      ],
      "execution_count": null,
      "outputs": []
    },
    {
      "cell_type": "code",
      "metadata": {
        "id": "rwFHvJIvXktk",
        "colab_type": "code",
        "colab": {}
      },
      "source": [
        "paraNumerico(shelter_ALL)"
      ],
      "execution_count": null,
      "outputs": []
    },
    {
      "cell_type": "markdown",
      "metadata": {
        "id": "AvpCT4mJ1jdl",
        "colab_type": "text"
      },
      "source": [
        "\n",
        "\n",
        "---\n",
        "\n"
      ]
    },
    {
      "cell_type": "markdown",
      "metadata": {
        "id": "sw4tkJqN0cXs",
        "colab_type": "text"
      },
      "source": [
        "# Separar Treino e Teste"
      ]
    },
    {
      "cell_type": "code",
      "metadata": {
        "id": "nzk87nBgYH9J",
        "colab_type": "code",
        "colab": {
          "base_uri": "https://localhost:8080/",
          "height": 217
        },
        "outputId": "bd30ebd1-1f4f-4511-dca9-7bff443dd752"
      },
      "source": [
        "shelter_ALL.head()"
      ],
      "execution_count": null,
      "outputs": [
        {
          "output_type": "execute_result",
          "data": {
            "text/html": [
              "<div>\n",
              "<style scoped>\n",
              "    .dataframe tbody tr th:only-of-type {\n",
              "        vertical-align: middle;\n",
              "    }\n",
              "\n",
              "    .dataframe tbody tr th {\n",
              "        vertical-align: top;\n",
              "    }\n",
              "\n",
              "    .dataframe thead th {\n",
              "        text-align: right;\n",
              "    }\n",
              "</style>\n",
              "<table border=\"1\" class=\"dataframe\">\n",
              "  <thead>\n",
              "    <tr style=\"text-align: right;\">\n",
              "      <th></th>\n",
              "      <th>index</th>\n",
              "      <th>AnimalID</th>\n",
              "      <th>Name</th>\n",
              "      <th>OutcomeType</th>\n",
              "      <th>OutcomeSubtype</th>\n",
              "      <th>AnimalType</th>\n",
              "      <th>SexuponOutcome</th>\n",
              "      <th>AgeuponOutcome</th>\n",
              "      <th>Breed</th>\n",
              "      <th>Color</th>\n",
              "      <th>ID</th>\n",
              "      <th>DateTimeYear</th>\n",
              "      <th>DateTimeMonth</th>\n",
              "      <th>DateTimeWeek</th>\n",
              "      <th>DateTimeDay</th>\n",
              "      <th>DateTimeDayofweek</th>\n",
              "      <th>DateTimeDayofyear</th>\n",
              "      <th>DateTimeIs_month_end</th>\n",
              "      <th>DateTimeIs_month_start</th>\n",
              "      <th>DateTimeIs_quarter_end</th>\n",
              "      <th>DateTimeIs_quarter_start</th>\n",
              "      <th>DateTimeIs_year_end</th>\n",
              "      <th>DateTimeIs_year_start</th>\n",
              "      <th>DateTimeElapsed</th>\n",
              "      <th>AgeInDays</th>\n",
              "      <th>Color_0</th>\n",
              "      <th>Color_1</th>\n",
              "      <th>SexuponOutcome_0</th>\n",
              "      <th>SexuponOutcome_1</th>\n",
              "      <th>Breed_0</th>\n",
              "      <th>Breed_1</th>\n",
              "      <th>Breed_2</th>\n",
              "      <th>Breed_3</th>\n",
              "      <th>Breed_4</th>\n",
              "      <th>Breed_5</th>\n",
              "      <th>6</th>\n",
              "      <th>Multi_Colors</th>\n",
              "      <th>Mixed</th>\n",
              "      <th>Is_Named</th>\n",
              "    </tr>\n",
              "  </thead>\n",
              "  <tbody>\n",
              "    <tr>\n",
              "      <th>0</th>\n",
              "      <td>0</td>\n",
              "      <td>5419</td>\n",
              "      <td>2911</td>\n",
              "      <td>3</td>\n",
              "      <td>16</td>\n",
              "      <td>1</td>\n",
              "      <td>2</td>\n",
              "      <td>6</td>\n",
              "      <td>1482</td>\n",
              "      <td>146</td>\n",
              "      <td>NaN</td>\n",
              "      <td>2014</td>\n",
              "      <td>2</td>\n",
              "      <td>7</td>\n",
              "      <td>12</td>\n",
              "      <td>2</td>\n",
              "      <td>43</td>\n",
              "      <td>False</td>\n",
              "      <td>False</td>\n",
              "      <td>False</td>\n",
              "      <td>False</td>\n",
              "      <td>False</td>\n",
              "      <td>False</td>\n",
              "      <td>1392229320</td>\n",
              "      <td>336</td>\n",
              "      <td>15</td>\n",
              "      <td>44</td>\n",
              "      <td>1</td>\n",
              "      <td>1</td>\n",
              "      <td>399</td>\n",
              "      <td>495</td>\n",
              "      <td>123</td>\n",
              "      <td>65</td>\n",
              "      <td>21</td>\n",
              "      <td>4</td>\n",
              "      <td>1</td>\n",
              "      <td>True</td>\n",
              "      <td>True</td>\n",
              "      <td>True</td>\n",
              "    </tr>\n",
              "    <tr>\n",
              "      <th>1</th>\n",
              "      <td>1</td>\n",
              "      <td>1603</td>\n",
              "      <td>2266</td>\n",
              "      <td>2</td>\n",
              "      <td>15</td>\n",
              "      <td>0</td>\n",
              "      <td>3</td>\n",
              "      <td>6</td>\n",
              "      <td>775</td>\n",
              "      <td>184</td>\n",
              "      <td>NaN</td>\n",
              "      <td>2013</td>\n",
              "      <td>10</td>\n",
              "      <td>41</td>\n",
              "      <td>13</td>\n",
              "      <td>6</td>\n",
              "      <td>286</td>\n",
              "      <td>False</td>\n",
              "      <td>False</td>\n",
              "      <td>False</td>\n",
              "      <td>False</td>\n",
              "      <td>False</td>\n",
              "      <td>False</td>\n",
              "      <td>1381668240</td>\n",
              "      <td>336</td>\n",
              "      <td>26</td>\n",
              "      <td>43</td>\n",
              "      <td>2</td>\n",
              "      <td>0</td>\n",
              "      <td>207</td>\n",
              "      <td>550</td>\n",
              "      <td>123</td>\n",
              "      <td>65</td>\n",
              "      <td>21</td>\n",
              "      <td>4</td>\n",
              "      <td>1</td>\n",
              "      <td>False</td>\n",
              "      <td>True</td>\n",
              "      <td>True</td>\n",
              "    </tr>\n",
              "    <tr>\n",
              "      <th>2</th>\n",
              "      <td>2</td>\n",
              "      <td>11613</td>\n",
              "      <td>5501</td>\n",
              "      <td>0</td>\n",
              "      <td>6</td>\n",
              "      <td>1</td>\n",
              "      <td>2</td>\n",
              "      <td>22</td>\n",
              "      <td>1293</td>\n",
              "      <td>97</td>\n",
              "      <td>NaN</td>\n",
              "      <td>2015</td>\n",
              "      <td>1</td>\n",
              "      <td>5</td>\n",
              "      <td>31</td>\n",
              "      <td>5</td>\n",
              "      <td>31</td>\n",
              "      <td>True</td>\n",
              "      <td>False</td>\n",
              "      <td>False</td>\n",
              "      <td>False</td>\n",
              "      <td>False</td>\n",
              "      <td>False</td>\n",
              "      <td>1422707280</td>\n",
              "      <td>672</td>\n",
              "      <td>7</td>\n",
              "      <td>44</td>\n",
              "      <td>1</td>\n",
              "      <td>1</td>\n",
              "      <td>327</td>\n",
              "      <td>20</td>\n",
              "      <td>123</td>\n",
              "      <td>65</td>\n",
              "      <td>21</td>\n",
              "      <td>4</td>\n",
              "      <td>1</td>\n",
              "      <td>True</td>\n",
              "      <td>True</td>\n",
              "      <td>True</td>\n",
              "    </tr>\n",
              "    <tr>\n",
              "      <th>3</th>\n",
              "      <td>3</td>\n",
              "      <td>10238</td>\n",
              "      <td>0</td>\n",
              "      <td>4</td>\n",
              "      <td>12</td>\n",
              "      <td>0</td>\n",
              "      <td>1</td>\n",
              "      <td>27</td>\n",
              "      <td>775</td>\n",
              "      <td>47</td>\n",
              "      <td>NaN</td>\n",
              "      <td>2014</td>\n",
              "      <td>7</td>\n",
              "      <td>28</td>\n",
              "      <td>11</td>\n",
              "      <td>4</td>\n",
              "      <td>192</td>\n",
              "      <td>False</td>\n",
              "      <td>False</td>\n",
              "      <td>False</td>\n",
              "      <td>False</td>\n",
              "      <td>False</td>\n",
              "      <td>False</td>\n",
              "      <td>1405105740</td>\n",
              "      <td>21</td>\n",
              "      <td>8</td>\n",
              "      <td>43</td>\n",
              "      <td>0</td>\n",
              "      <td>1</td>\n",
              "      <td>207</td>\n",
              "      <td>550</td>\n",
              "      <td>123</td>\n",
              "      <td>65</td>\n",
              "      <td>21</td>\n",
              "      <td>4</td>\n",
              "      <td>1</td>\n",
              "      <td>False</td>\n",
              "      <td>True</td>\n",
              "      <td>False</td>\n",
              "    </tr>\n",
              "    <tr>\n",
              "      <th>4</th>\n",
              "      <td>4</td>\n",
              "      <td>3501</td>\n",
              "      <td>0</td>\n",
              "      <td>4</td>\n",
              "      <td>12</td>\n",
              "      <td>1</td>\n",
              "      <td>2</td>\n",
              "      <td>22</td>\n",
              "      <td>1101</td>\n",
              "      <td>311</td>\n",
              "      <td>NaN</td>\n",
              "      <td>2013</td>\n",
              "      <td>11</td>\n",
              "      <td>46</td>\n",
              "      <td>15</td>\n",
              "      <td>4</td>\n",
              "      <td>319</td>\n",
              "      <td>False</td>\n",
              "      <td>False</td>\n",
              "      <td>False</td>\n",
              "      <td>False</td>\n",
              "      <td>False</td>\n",
              "      <td>False</td>\n",
              "      <td>1384519920</td>\n",
              "      <td>672</td>\n",
              "      <td>49</td>\n",
              "      <td>43</td>\n",
              "      <td>1</td>\n",
              "      <td>1</td>\n",
              "      <td>254</td>\n",
              "      <td>7</td>\n",
              "      <td>133</td>\n",
              "      <td>65</td>\n",
              "      <td>21</td>\n",
              "      <td>4</td>\n",
              "      <td>1</td>\n",
              "      <td>False</td>\n",
              "      <td>False</td>\n",
              "      <td>False</td>\n",
              "    </tr>\n",
              "  </tbody>\n",
              "</table>\n",
              "</div>"
            ],
            "text/plain": [
              "   index  AnimalID  Name  OutcomeType  ...  6  Multi_Colors  Mixed  Is_Named\n",
              "0      0      5419  2911            3  ...  1          True   True      True\n",
              "1      1      1603  2266            2  ...  1         False   True      True\n",
              "2      2     11613  5501            0  ...  1          True   True      True\n",
              "3      3     10238     0            4  ...  1         False   True     False\n",
              "4      4      3501     0            4  ...  1         False  False     False\n",
              "\n",
              "[5 rows x 39 columns]"
            ]
          },
          "metadata": {
            "tags": []
          },
          "execution_count": 110
        }
      ]
    },
    {
      "cell_type": "code",
      "metadata": {
        "id": "SRfyi_wmJj6P",
        "colab_type": "code",
        "colab": {
          "base_uri": "https://localhost:8080/",
          "height": 426
        },
        "outputId": "89f7c7b2-57c7-4384-b990-784d31716410"
      },
      "source": [
        "shelter_ALL "
      ],
      "execution_count": null,
      "outputs": [
        {
          "output_type": "execute_result",
          "data": {
            "text/html": [
              "<div>\n",
              "<style scoped>\n",
              "    .dataframe tbody tr th:only-of-type {\n",
              "        vertical-align: middle;\n",
              "    }\n",
              "\n",
              "    .dataframe tbody tr th {\n",
              "        vertical-align: top;\n",
              "    }\n",
              "\n",
              "    .dataframe thead th {\n",
              "        text-align: right;\n",
              "    }\n",
              "</style>\n",
              "<table border=\"1\" class=\"dataframe\">\n",
              "  <thead>\n",
              "    <tr style=\"text-align: right;\">\n",
              "      <th></th>\n",
              "      <th>index</th>\n",
              "      <th>AnimalID</th>\n",
              "      <th>Name</th>\n",
              "      <th>OutcomeType</th>\n",
              "      <th>OutcomeSubtype</th>\n",
              "      <th>AnimalType</th>\n",
              "      <th>SexuponOutcome</th>\n",
              "      <th>AgeuponOutcome</th>\n",
              "      <th>Breed</th>\n",
              "      <th>Color</th>\n",
              "      <th>ID</th>\n",
              "      <th>DateTimeYear</th>\n",
              "      <th>DateTimeMonth</th>\n",
              "      <th>DateTimeWeek</th>\n",
              "      <th>DateTimeDay</th>\n",
              "      <th>DateTimeDayofweek</th>\n",
              "      <th>DateTimeDayofyear</th>\n",
              "      <th>DateTimeIs_month_end</th>\n",
              "      <th>DateTimeIs_month_start</th>\n",
              "      <th>DateTimeIs_quarter_end</th>\n",
              "      <th>DateTimeIs_quarter_start</th>\n",
              "      <th>DateTimeIs_year_end</th>\n",
              "      <th>DateTimeIs_year_start</th>\n",
              "      <th>DateTimeElapsed</th>\n",
              "      <th>AgeInDays</th>\n",
              "      <th>Color_0</th>\n",
              "      <th>Color_1</th>\n",
              "      <th>SexuponOutcome_0</th>\n",
              "      <th>SexuponOutcome_1</th>\n",
              "      <th>Breed_0</th>\n",
              "      <th>Breed_1</th>\n",
              "      <th>Breed_2</th>\n",
              "      <th>Breed_3</th>\n",
              "      <th>Breed_4</th>\n",
              "      <th>Breed_5</th>\n",
              "      <th>6</th>\n",
              "      <th>Multi_Colors</th>\n",
              "      <th>Mixed</th>\n",
              "      <th>Is_Named</th>\n",
              "    </tr>\n",
              "  </thead>\n",
              "  <tbody>\n",
              "    <tr>\n",
              "      <th>0</th>\n",
              "      <td>0</td>\n",
              "      <td>5419</td>\n",
              "      <td>2911</td>\n",
              "      <td>3</td>\n",
              "      <td>16</td>\n",
              "      <td>1</td>\n",
              "      <td>2</td>\n",
              "      <td>6</td>\n",
              "      <td>1482</td>\n",
              "      <td>146</td>\n",
              "      <td>NaN</td>\n",
              "      <td>2014</td>\n",
              "      <td>2</td>\n",
              "      <td>7</td>\n",
              "      <td>12</td>\n",
              "      <td>2</td>\n",
              "      <td>43</td>\n",
              "      <td>False</td>\n",
              "      <td>False</td>\n",
              "      <td>False</td>\n",
              "      <td>False</td>\n",
              "      <td>False</td>\n",
              "      <td>False</td>\n",
              "      <td>1392229320</td>\n",
              "      <td>336</td>\n",
              "      <td>15</td>\n",
              "      <td>44</td>\n",
              "      <td>1</td>\n",
              "      <td>1</td>\n",
              "      <td>399</td>\n",
              "      <td>495</td>\n",
              "      <td>123</td>\n",
              "      <td>65</td>\n",
              "      <td>21</td>\n",
              "      <td>4</td>\n",
              "      <td>1</td>\n",
              "      <td>True</td>\n",
              "      <td>True</td>\n",
              "      <td>True</td>\n",
              "    </tr>\n",
              "    <tr>\n",
              "      <th>1</th>\n",
              "      <td>1</td>\n",
              "      <td>1603</td>\n",
              "      <td>2266</td>\n",
              "      <td>2</td>\n",
              "      <td>15</td>\n",
              "      <td>0</td>\n",
              "      <td>3</td>\n",
              "      <td>6</td>\n",
              "      <td>775</td>\n",
              "      <td>184</td>\n",
              "      <td>NaN</td>\n",
              "      <td>2013</td>\n",
              "      <td>10</td>\n",
              "      <td>41</td>\n",
              "      <td>13</td>\n",
              "      <td>6</td>\n",
              "      <td>286</td>\n",
              "      <td>False</td>\n",
              "      <td>False</td>\n",
              "      <td>False</td>\n",
              "      <td>False</td>\n",
              "      <td>False</td>\n",
              "      <td>False</td>\n",
              "      <td>1381668240</td>\n",
              "      <td>336</td>\n",
              "      <td>26</td>\n",
              "      <td>43</td>\n",
              "      <td>2</td>\n",
              "      <td>0</td>\n",
              "      <td>207</td>\n",
              "      <td>550</td>\n",
              "      <td>123</td>\n",
              "      <td>65</td>\n",
              "      <td>21</td>\n",
              "      <td>4</td>\n",
              "      <td>1</td>\n",
              "      <td>False</td>\n",
              "      <td>True</td>\n",
              "      <td>True</td>\n",
              "    </tr>\n",
              "    <tr>\n",
              "      <th>2</th>\n",
              "      <td>2</td>\n",
              "      <td>11613</td>\n",
              "      <td>5501</td>\n",
              "      <td>0</td>\n",
              "      <td>6</td>\n",
              "      <td>1</td>\n",
              "      <td>2</td>\n",
              "      <td>22</td>\n",
              "      <td>1293</td>\n",
              "      <td>97</td>\n",
              "      <td>NaN</td>\n",
              "      <td>2015</td>\n",
              "      <td>1</td>\n",
              "      <td>5</td>\n",
              "      <td>31</td>\n",
              "      <td>5</td>\n",
              "      <td>31</td>\n",
              "      <td>True</td>\n",
              "      <td>False</td>\n",
              "      <td>False</td>\n",
              "      <td>False</td>\n",
              "      <td>False</td>\n",
              "      <td>False</td>\n",
              "      <td>1422707280</td>\n",
              "      <td>672</td>\n",
              "      <td>7</td>\n",
              "      <td>44</td>\n",
              "      <td>1</td>\n",
              "      <td>1</td>\n",
              "      <td>327</td>\n",
              "      <td>20</td>\n",
              "      <td>123</td>\n",
              "      <td>65</td>\n",
              "      <td>21</td>\n",
              "      <td>4</td>\n",
              "      <td>1</td>\n",
              "      <td>True</td>\n",
              "      <td>True</td>\n",
              "      <td>True</td>\n",
              "    </tr>\n",
              "    <tr>\n",
              "      <th>3</th>\n",
              "      <td>3</td>\n",
              "      <td>10238</td>\n",
              "      <td>0</td>\n",
              "      <td>4</td>\n",
              "      <td>12</td>\n",
              "      <td>0</td>\n",
              "      <td>1</td>\n",
              "      <td>27</td>\n",
              "      <td>775</td>\n",
              "      <td>47</td>\n",
              "      <td>NaN</td>\n",
              "      <td>2014</td>\n",
              "      <td>7</td>\n",
              "      <td>28</td>\n",
              "      <td>11</td>\n",
              "      <td>4</td>\n",
              "      <td>192</td>\n",
              "      <td>False</td>\n",
              "      <td>False</td>\n",
              "      <td>False</td>\n",
              "      <td>False</td>\n",
              "      <td>False</td>\n",
              "      <td>False</td>\n",
              "      <td>1405105740</td>\n",
              "      <td>21</td>\n",
              "      <td>8</td>\n",
              "      <td>43</td>\n",
              "      <td>0</td>\n",
              "      <td>1</td>\n",
              "      <td>207</td>\n",
              "      <td>550</td>\n",
              "      <td>123</td>\n",
              "      <td>65</td>\n",
              "      <td>21</td>\n",
              "      <td>4</td>\n",
              "      <td>1</td>\n",
              "      <td>False</td>\n",
              "      <td>True</td>\n",
              "      <td>False</td>\n",
              "    </tr>\n",
              "    <tr>\n",
              "      <th>4</th>\n",
              "      <td>4</td>\n",
              "      <td>3501</td>\n",
              "      <td>0</td>\n",
              "      <td>4</td>\n",
              "      <td>12</td>\n",
              "      <td>1</td>\n",
              "      <td>2</td>\n",
              "      <td>22</td>\n",
              "      <td>1101</td>\n",
              "      <td>311</td>\n",
              "      <td>NaN</td>\n",
              "      <td>2013</td>\n",
              "      <td>11</td>\n",
              "      <td>46</td>\n",
              "      <td>15</td>\n",
              "      <td>4</td>\n",
              "      <td>319</td>\n",
              "      <td>False</td>\n",
              "      <td>False</td>\n",
              "      <td>False</td>\n",
              "      <td>False</td>\n",
              "      <td>False</td>\n",
              "      <td>False</td>\n",
              "      <td>1384519920</td>\n",
              "      <td>672</td>\n",
              "      <td>49</td>\n",
              "      <td>43</td>\n",
              "      <td>1</td>\n",
              "      <td>1</td>\n",
              "      <td>254</td>\n",
              "      <td>7</td>\n",
              "      <td>133</td>\n",
              "      <td>65</td>\n",
              "      <td>21</td>\n",
              "      <td>4</td>\n",
              "      <td>1</td>\n",
              "      <td>False</td>\n",
              "      <td>False</td>\n",
              "      <td>False</td>\n",
              "    </tr>\n",
              "    <tr>\n",
              "      <th>...</th>\n",
              "      <td>...</td>\n",
              "      <td>...</td>\n",
              "      <td>...</td>\n",
              "      <td>...</td>\n",
              "      <td>...</td>\n",
              "      <td>...</td>\n",
              "      <td>...</td>\n",
              "      <td>...</td>\n",
              "      <td>...</td>\n",
              "      <td>...</td>\n",
              "      <td>...</td>\n",
              "      <td>...</td>\n",
              "      <td>...</td>\n",
              "      <td>...</td>\n",
              "      <td>...</td>\n",
              "      <td>...</td>\n",
              "      <td>...</td>\n",
              "      <td>...</td>\n",
              "      <td>...</td>\n",
              "      <td>...</td>\n",
              "      <td>...</td>\n",
              "      <td>...</td>\n",
              "      <td>...</td>\n",
              "      <td>...</td>\n",
              "      <td>...</td>\n",
              "      <td>...</td>\n",
              "      <td>...</td>\n",
              "      <td>...</td>\n",
              "      <td>...</td>\n",
              "      <td>...</td>\n",
              "      <td>...</td>\n",
              "      <td>...</td>\n",
              "      <td>...</td>\n",
              "      <td>...</td>\n",
              "      <td>...</td>\n",
              "      <td>...</td>\n",
              "      <td>...</td>\n",
              "      <td>...</td>\n",
              "      <td>...</td>\n",
              "    </tr>\n",
              "    <tr>\n",
              "      <th>38180</th>\n",
              "      <td>11451</td>\n",
              "      <td>26729</td>\n",
              "      <td>0</td>\n",
              "      <td>5</td>\n",
              "      <td>16</td>\n",
              "      <td>0</td>\n",
              "      <td>2</td>\n",
              "      <td>20</td>\n",
              "      <td>775</td>\n",
              "      <td>6</td>\n",
              "      <td>11452.0</td>\n",
              "      <td>2014</td>\n",
              "      <td>7</td>\n",
              "      <td>28</td>\n",
              "      <td>8</td>\n",
              "      <td>1</td>\n",
              "      <td>189</td>\n",
              "      <td>False</td>\n",
              "      <td>False</td>\n",
              "      <td>False</td>\n",
              "      <td>False</td>\n",
              "      <td>False</td>\n",
              "      <td>False</td>\n",
              "      <td>1404831000</td>\n",
              "      <td>56</td>\n",
              "      <td>2</td>\n",
              "      <td>43</td>\n",
              "      <td>1</td>\n",
              "      <td>1</td>\n",
              "      <td>207</td>\n",
              "      <td>550</td>\n",
              "      <td>123</td>\n",
              "      <td>65</td>\n",
              "      <td>21</td>\n",
              "      <td>4</td>\n",
              "      <td>1</td>\n",
              "      <td>False</td>\n",
              "      <td>True</td>\n",
              "      <td>False</td>\n",
              "    </tr>\n",
              "    <tr>\n",
              "      <th>38181</th>\n",
              "      <td>11452</td>\n",
              "      <td>26729</td>\n",
              "      <td>0</td>\n",
              "      <td>5</td>\n",
              "      <td>16</td>\n",
              "      <td>0</td>\n",
              "      <td>0</td>\n",
              "      <td>21</td>\n",
              "      <td>775</td>\n",
              "      <td>46</td>\n",
              "      <td>11453.0</td>\n",
              "      <td>2014</td>\n",
              "      <td>10</td>\n",
              "      <td>43</td>\n",
              "      <td>21</td>\n",
              "      <td>1</td>\n",
              "      <td>294</td>\n",
              "      <td>False</td>\n",
              "      <td>False</td>\n",
              "      <td>False</td>\n",
              "      <td>False</td>\n",
              "      <td>False</td>\n",
              "      <td>False</td>\n",
              "      <td>1413896220</td>\n",
              "      <td>14</td>\n",
              "      <td>7</td>\n",
              "      <td>43</td>\n",
              "      <td>0</td>\n",
              "      <td>0</td>\n",
              "      <td>207</td>\n",
              "      <td>550</td>\n",
              "      <td>123</td>\n",
              "      <td>65</td>\n",
              "      <td>21</td>\n",
              "      <td>4</td>\n",
              "      <td>1</td>\n",
              "      <td>False</td>\n",
              "      <td>True</td>\n",
              "      <td>False</td>\n",
              "    </tr>\n",
              "    <tr>\n",
              "      <th>38182</th>\n",
              "      <td>11453</td>\n",
              "      <td>26729</td>\n",
              "      <td>0</td>\n",
              "      <td>5</td>\n",
              "      <td>16</td>\n",
              "      <td>0</td>\n",
              "      <td>0</td>\n",
              "      <td>6</td>\n",
              "      <td>775</td>\n",
              "      <td>156</td>\n",
              "      <td>11454.0</td>\n",
              "      <td>2014</td>\n",
              "      <td>9</td>\n",
              "      <td>40</td>\n",
              "      <td>29</td>\n",
              "      <td>0</td>\n",
              "      <td>272</td>\n",
              "      <td>False</td>\n",
              "      <td>False</td>\n",
              "      <td>False</td>\n",
              "      <td>False</td>\n",
              "      <td>False</td>\n",
              "      <td>False</td>\n",
              "      <td>1411981200</td>\n",
              "      <td>336</td>\n",
              "      <td>21</td>\n",
              "      <td>43</td>\n",
              "      <td>0</td>\n",
              "      <td>0</td>\n",
              "      <td>207</td>\n",
              "      <td>550</td>\n",
              "      <td>123</td>\n",
              "      <td>65</td>\n",
              "      <td>21</td>\n",
              "      <td>4</td>\n",
              "      <td>1</td>\n",
              "      <td>False</td>\n",
              "      <td>True</td>\n",
              "      <td>False</td>\n",
              "    </tr>\n",
              "    <tr>\n",
              "      <th>38183</th>\n",
              "      <td>11454</td>\n",
              "      <td>26729</td>\n",
              "      <td>5965</td>\n",
              "      <td>5</td>\n",
              "      <td>16</td>\n",
              "      <td>1</td>\n",
              "      <td>2</td>\n",
              "      <td>39</td>\n",
              "      <td>841</td>\n",
              "      <td>40</td>\n",
              "      <td>11455.0</td>\n",
              "      <td>2015</td>\n",
              "      <td>9</td>\n",
              "      <td>36</td>\n",
              "      <td>5</td>\n",
              "      <td>5</td>\n",
              "      <td>248</td>\n",
              "      <td>False</td>\n",
              "      <td>False</td>\n",
              "      <td>False</td>\n",
              "      <td>False</td>\n",
              "      <td>False</td>\n",
              "      <td>False</td>\n",
              "      <td>1441473360</td>\n",
              "      <td>2016</td>\n",
              "      <td>2</td>\n",
              "      <td>39</td>\n",
              "      <td>1</td>\n",
              "      <td>1</td>\n",
              "      <td>219</td>\n",
              "      <td>506</td>\n",
              "      <td>123</td>\n",
              "      <td>65</td>\n",
              "      <td>21</td>\n",
              "      <td>4</td>\n",
              "      <td>1</td>\n",
              "      <td>True</td>\n",
              "      <td>True</td>\n",
              "      <td>True</td>\n",
              "    </tr>\n",
              "    <tr>\n",
              "      <th>38184</th>\n",
              "      <td>11455</td>\n",
              "      <td>26729</td>\n",
              "      <td>2877</td>\n",
              "      <td>5</td>\n",
              "      <td>16</td>\n",
              "      <td>1</td>\n",
              "      <td>1</td>\n",
              "      <td>32</td>\n",
              "      <td>1022</td>\n",
              "      <td>183</td>\n",
              "      <td>11456.0</td>\n",
              "      <td>2014</td>\n",
              "      <td>7</td>\n",
              "      <td>28</td>\n",
              "      <td>12</td>\n",
              "      <td>5</td>\n",
              "      <td>193</td>\n",
              "      <td>False</td>\n",
              "      <td>False</td>\n",
              "      <td>False</td>\n",
              "      <td>False</td>\n",
              "      <td>False</td>\n",
              "      <td>False</td>\n",
              "      <td>1405190400</td>\n",
              "      <td>1344</td>\n",
              "      <td>25</td>\n",
              "      <td>43</td>\n",
              "      <td>0</td>\n",
              "      <td>1</td>\n",
              "      <td>251</td>\n",
              "      <td>384</td>\n",
              "      <td>198</td>\n",
              "      <td>65</td>\n",
              "      <td>21</td>\n",
              "      <td>4</td>\n",
              "      <td>1</td>\n",
              "      <td>False</td>\n",
              "      <td>False</td>\n",
              "      <td>True</td>\n",
              "    </tr>\n",
              "  </tbody>\n",
              "</table>\n",
              "<p>38185 rows × 39 columns</p>\n",
              "</div>"
            ],
            "text/plain": [
              "       index  AnimalID  Name  OutcomeType  ...  6  Multi_Colors  Mixed  Is_Named\n",
              "0          0      5419  2911            3  ...  1          True   True      True\n",
              "1          1      1603  2266            2  ...  1         False   True      True\n",
              "2          2     11613  5501            0  ...  1          True   True      True\n",
              "3          3     10238     0            4  ...  1         False   True     False\n",
              "4          4      3501     0            4  ...  1         False  False     False\n",
              "...      ...       ...   ...          ...  ... ..           ...    ...       ...\n",
              "38180  11451     26729     0            5  ...  1         False   True     False\n",
              "38181  11452     26729     0            5  ...  1         False   True     False\n",
              "38182  11453     26729     0            5  ...  1         False   True     False\n",
              "38183  11454     26729  5965            5  ...  1          True   True      True\n",
              "38184  11455     26729  2877            5  ...  1         False  False      True\n",
              "\n",
              "[38185 rows x 39 columns]"
            ]
          },
          "metadata": {
            "tags": []
          },
          "execution_count": 111
        }
      ]
    },
    {
      "cell_type": "code",
      "metadata": {
        "id": "ClrfpE8sjzpq",
        "colab_type": "code",
        "colab": {
          "base_uri": "https://localhost:8080/",
          "height": 390
        },
        "outputId": "c0a3ecdc-af8b-4d66-f12d-7485e9b4e491"
      },
      "source": [
        "shelter_ALL.columns"
      ],
      "execution_count": null,
      "outputs": [
        {
          "output_type": "execute_result",
          "data": {
            "text/plain": [
              "Index([                   'index',                 'AnimalID',\n",
              "                           'Name',              'OutcomeType',\n",
              "                 'OutcomeSubtype',               'AnimalType',\n",
              "                 'SexuponOutcome',           'AgeuponOutcome',\n",
              "                          'Breed',                    'Color',\n",
              "                             'ID',             'DateTimeYear',\n",
              "                  'DateTimeMonth',             'DateTimeWeek',\n",
              "                    'DateTimeDay',        'DateTimeDayofweek',\n",
              "              'DateTimeDayofyear',     'DateTimeIs_month_end',\n",
              "         'DateTimeIs_month_start',   'DateTimeIs_quarter_end',\n",
              "       'DateTimeIs_quarter_start',      'DateTimeIs_year_end',\n",
              "          'DateTimeIs_year_start',          'DateTimeElapsed',\n",
              "                      'AgeInDays',                  'Color_0',\n",
              "                        'Color_1',         'SexuponOutcome_0',\n",
              "               'SexuponOutcome_1',                  'Breed_0',\n",
              "                        'Breed_1',                  'Breed_2',\n",
              "                        'Breed_3',                  'Breed_4',\n",
              "                        'Breed_5',                          6,\n",
              "                   'Multi_Colors',                    'Mixed',\n",
              "                       'Is_Named'],\n",
              "      dtype='object')"
            ]
          },
          "metadata": {
            "tags": []
          },
          "execution_count": 112
        }
      ]
    },
    {
      "cell_type": "code",
      "metadata": {
        "id": "514bjPeYX5Gu",
        "colab_type": "code",
        "colab": {}
      },
      "source": [
        "filtro_colunas_1 = shelter_ALL.columns.difference(['6','ID','index','AnimalID', 'OutcomeType','OutcomeSubtype', 'Name', 'SexuponOutcome','AgeuponOutcome', 'Breed','Color'])\n",
        "filtro_colunas_2 = shelter_ALL.columns.difference(['6','ID','index','AnimalID', 'Name', 'AgeuponOutcome','SexuponOutcome', 'Breed','Color'])\n"
      ],
      "execution_count": null,
      "outputs": []
    },
    {
      "cell_type": "code",
      "metadata": {
        "id": "RjuvKEYsajNU",
        "colab_type": "code",
        "colab": {}
      },
      "source": [
        "X = shelter_ALL[filtro_colunas_1]"
      ],
      "execution_count": null,
      "outputs": []
    },
    {
      "cell_type": "code",
      "metadata": {
        "id": "hNQ5xk90wp0H",
        "colab_type": "code",
        "colab": {}
      },
      "source": [
        "#PARA SEPARAR O TREINO DO TESTE NOVAMENTE , INDEX 26729 EM DIANTE É TESTE\n",
        "#É PRA FAZER APOS TRATAR TODAS AS COLUNAS \n",
        "X_train = X.loc[:26728]\n",
        "X_test = X.loc[26729:]\n",
        "y_train = shelter_ALL['OutcomeType'].loc[:26728]\n",
        "y_test = shelter_ALL['OutcomeType'].loc[26729:]"
      ],
      "execution_count": null,
      "outputs": []
    },
    {
      "cell_type": "markdown",
      "metadata": {
        "id": "Wd1JSH4Y2KtO",
        "colab_type": "text"
      },
      "source": [
        "# Primeira Correlação das colunas\n",
        "\n",
        "Obs.: Fazer com todos os dados (shelter_ALL), depois com a separacao treino , desta segunda vez apos treino do modelo "
      ]
    },
    {
      "cell_type": "code",
      "metadata": {
        "id": "7IGLmLJ7bkJo",
        "colab_type": "code",
        "colab": {
          "base_uri": "https://localhost:8080/",
          "height": 977
        },
        "outputId": "34eaf03b-7fef-48a4-e392-8ae949d3e87f"
      },
      "source": [
        "correlacao = shelter_ALL[filtro_colunas_2].corr()\n",
        "\n",
        "top_cols = correlacao.nlargest(10,'OutcomeType')['OutcomeType'].index\n",
        "\n",
        "plt.figure(figsize=(20, 20))\n",
        "sns.heatmap(correlacao[top_cols[1:]],\n",
        "            annot = True,\n",
        "            fmt = '.2f',\n",
        "            cmap='Blues')\n",
        "plt.title('Correlação entre variáveis do dataset Animal Shelter')\n",
        "plt.show()"
      ],
      "execution_count": null,
      "outputs": [
        {
          "output_type": "display_data",
          "data": {
            "image/png": "[encoded data removed]",
            "text/plain": [
              "<Figure size 1440x1440 with 2 Axes>"
            ]
          },
          "metadata": {
            "tags": [],
            "needs_background": "light"
          }
        }
      ]
    },
    {
      "cell_type": "code",
      "metadata": {
        "id": "IutBmLNWt1sl",
        "colab_type": "code",
        "colab": {
          "base_uri": "https://localhost:8080/",
          "height": 70
        },
        "outputId": "fe50458d-b709-4767-d20c-a3d2ef7267a9"
      },
      "source": [
        "top_cols[2:]"
      ],
      "execution_count": null,
      "outputs": [
        {
          "output_type": "execute_result",
          "data": {
            "text/plain": [
              "Index(['SexuponOutcome_1', 'AgeInDays', 'Mixed', 'Breed_3', 'Breed_0',\n",
              "       'Breed_1', 'Color_1', 'Breed_4'],\n",
              "      dtype='object')"
            ]
          },
          "metadata": {
            "tags": []
          },
          "execution_count": 118
        }
      ]
    },
    {
      "cell_type": "markdown",
      "metadata": {
        "id": "9mDwC6pc18y-",
        "colab_type": "text"
      },
      "source": [
        "# Treinamento do modelo"
      ]
    },
    {
      "cell_type": "code",
      "metadata": {
        "id": "15xtkPSmemCr",
        "colab_type": "code",
        "colab": {
          "base_uri": "https://localhost:8080/",
          "height": 158
        },
        "outputId": "4df125a7-9dfc-4eb8-d950-81a4f4d0daaf"
      },
      "source": [
        "classifier_forest = RandomForestClassifier(bootstrap=False, criterion='gini', \n",
        "                                           max_depth=5, max_features=0.3,n_estimators=50,n_jobs=-1)\n",
        "  #random_state=1922, criterion='gini', max_depth=10, n_estimators=50, n_jobs=-1\n",
        " \n",
        "classifier_forest.fit(X_train, y_train) "
      ],
      "execution_count": null,
      "outputs": [
        {
          "output_type": "execute_result",
          "data": {
            "text/plain": [
              "RandomForestClassifier(bootstrap=False, ccp_alpha=0.0, class_weight=None,\n",
              "                       criterion='gini', max_depth=5, max_features=0.3,\n",
              "                       max_leaf_nodes=None, max_samples=None,\n",
              "                       min_impurity_decrease=0.0, min_impurity_split=None,\n",
              "                       min_samples_leaf=1, min_samples_split=2,\n",
              "                       min_weight_fraction_leaf=0.0, n_estimators=50, n_jobs=-1,\n",
              "                       oob_score=False, random_state=None, verbose=0,\n",
              "                       warm_start=False)"
            ]
          },
          "metadata": {
            "tags": []
          },
          "execution_count": 119
        }
      ]
    },
    {
      "cell_type": "code",
      "metadata": {
        "id": "br2K-4MyhsEx",
        "colab_type": "code",
        "colab": {
          "base_uri": "https://localhost:8080/",
          "height": 1000
        },
        "outputId": "d384e0d9-9a84-4ac4-fee1-4d138aa9df08"
      },
      "source": [
        "import numpy as np\n",
        "features= filtro_colunas_1\n",
        "importances = classifier_forest.feature_importances_\n",
        "indices = np.argsort(importances)\n",
        "plt.figure(figsize=(10,20))\n",
        "plt.title('Feature Importances')\n",
        "plt.barh(range(len(indices)), importances[indices], color='b', align='center')\n",
        "plt.yticks(range(len(indices)), features[indices])\n",
        "plt.xlabel('Relative Importance')\n",
        "plt.show"
      ],
      "execution_count": null,
      "outputs": [
        {
          "output_type": "execute_result",
          "data": {
            "text/plain": [
              "<function matplotlib.pyplot.show>"
            ]
          },
          "metadata": {
            "tags": []
          },
          "execution_count": 120
        },
        {
          "output_type": "display_data",
          "data": {
            "image/png": "[encoded data removed]",
            "text/plain": [
              "<Figure size 720x1440 with 1 Axes>"
            ]
          },
          "metadata": {
            "tags": [],
            "needs_background": "light"
          }
        }
      ]
    },
    {
      "cell_type": "code",
      "metadata": {
        "id": "0QZFiIDNgg3g",
        "colab_type": "code",
        "colab": {
          "base_uri": "https://localhost:8080/",
          "height": 34
        },
        "outputId": "0e6fc282-4bfb-4f47-e778-7fb3eb7604d1"
      },
      "source": [
        "y_pred = classifier_forest.predict(X_test)\n",
        "classifier_forest.score(X_test,y_)\n",
        "y_pred"
      ],
      "execution_count": null,
      "outputs": [
        {
          "output_type": "execute_result",
          "data": {
            "text/plain": [
              "array([4, 0, 0, ..., 4, 0, 3], dtype=int8)"
            ]
          },
          "metadata": {
            "tags": []
          },
          "execution_count": 121
        }
      ]
    },
    {
      "cell_type": "code",
      "metadata": {
        "id": "CpUwWsnOguBi",
        "colab_type": "code",
        "colab": {
          "base_uri": "https://localhost:8080/",
          "height": 141
        },
        "outputId": "80fc6e7d-ac81-4f6d-8e18-c1854930cdee"
      },
      "source": [
        "y_pred_proba = classifier_forest.predict_proba(X_test)\n",
        "y_pred_proba"
      ],
      "execution_count": null,
      "outputs": [
        {
          "output_type": "execute_result",
          "data": {
            "text/plain": [
              "array([[0.12717224, 0.01025861, 0.09490404, 0.26745979, 0.50020532],\n",
              "       [0.51707148, 0.00157198, 0.03177004, 0.29420816, 0.15537834],\n",
              "       [0.4722743 , 0.00395233, 0.03676925, 0.17703468, 0.30996944],\n",
              "       ...,\n",
              "       [0.045969  , 0.01944838, 0.12624835, 0.0105711 , 0.79776317],\n",
              "       [0.46293189, 0.00164612, 0.03733848, 0.34399166, 0.15409185],\n",
              "       [0.14123131, 0.00455946, 0.12980431, 0.36877699, 0.35562794]])"
            ]
          },
          "metadata": {
            "tags": []
          },
          "execution_count": 122
        }
      ]
    },
    {
      "cell_type": "code",
      "metadata": {
        "id": "JKil8b7qloj4",
        "colab_type": "code",
        "colab": {
          "base_uri": "https://localhost:8080/",
          "height": 52
        },
        "outputId": "306802d9-cf20-4e04-d1b3-ebbbe9af1844"
      },
      "source": [
        "y = y_pred_proba.max(axis=1)\n",
        "y"
      ],
      "execution_count": null,
      "outputs": [
        {
          "output_type": "execute_result",
          "data": {
            "text/plain": [
              "array([0.50020532, 0.51707148, 0.4722743 , ..., 0.79776317, 0.46293189,\n",
              "       0.36877699])"
            ]
          },
          "metadata": {
            "tags": []
          },
          "execution_count": 123
        }
      ]
    },
    {
      "cell_type": "code",
      "metadata": {
        "id": "f0hwuT66_3N2",
        "colab_type": "code",
        "colab": {
          "base_uri": "https://localhost:8080/",
          "height": 406
        },
        "outputId": "b6c75833-1ac4-4a82-92f7-238b07f22312"
      },
      "source": [
        "df_results =  pd.DataFrame(y_pred_proba, columns=classifier_forest.classes_)\n",
        "df_results"
      ],
      "execution_count": null,
      "outputs": [
        {
          "output_type": "execute_result",
          "data": {
            "text/html": [
              "<div>\n",
              "<style scoped>\n",
              "    .dataframe tbody tr th:only-of-type {\n",
              "        vertical-align: middle;\n",
              "    }\n",
              "\n",
              "    .dataframe tbody tr th {\n",
              "        vertical-align: top;\n",
              "    }\n",
              "\n",
              "    .dataframe thead th {\n",
              "        text-align: right;\n",
              "    }\n",
              "</style>\n",
              "<table border=\"1\" class=\"dataframe\">\n",
              "  <thead>\n",
              "    <tr style=\"text-align: right;\">\n",
              "      <th></th>\n",
              "      <th>0</th>\n",
              "      <th>1</th>\n",
              "      <th>2</th>\n",
              "      <th>3</th>\n",
              "      <th>4</th>\n",
              "    </tr>\n",
              "  </thead>\n",
              "  <tbody>\n",
              "    <tr>\n",
              "      <th>0</th>\n",
              "      <td>0.127172</td>\n",
              "      <td>0.010259</td>\n",
              "      <td>0.094904</td>\n",
              "      <td>0.267460</td>\n",
              "      <td>0.500205</td>\n",
              "    </tr>\n",
              "    <tr>\n",
              "      <th>1</th>\n",
              "      <td>0.517071</td>\n",
              "      <td>0.001572</td>\n",
              "      <td>0.031770</td>\n",
              "      <td>0.294208</td>\n",
              "      <td>0.155378</td>\n",
              "    </tr>\n",
              "    <tr>\n",
              "      <th>2</th>\n",
              "      <td>0.472274</td>\n",
              "      <td>0.003952</td>\n",
              "      <td>0.036769</td>\n",
              "      <td>0.177035</td>\n",
              "      <td>0.309969</td>\n",
              "    </tr>\n",
              "    <tr>\n",
              "      <th>3</th>\n",
              "      <td>0.183449</td>\n",
              "      <td>0.012067</td>\n",
              "      <td>0.055662</td>\n",
              "      <td>0.159267</td>\n",
              "      <td>0.589555</td>\n",
              "    </tr>\n",
              "    <tr>\n",
              "      <th>4</th>\n",
              "      <td>0.405329</td>\n",
              "      <td>0.001911</td>\n",
              "      <td>0.044688</td>\n",
              "      <td>0.353661</td>\n",
              "      <td>0.194411</td>\n",
              "    </tr>\n",
              "    <tr>\n",
              "      <th>...</th>\n",
              "      <td>...</td>\n",
              "      <td>...</td>\n",
              "      <td>...</td>\n",
              "      <td>...</td>\n",
              "      <td>...</td>\n",
              "    </tr>\n",
              "    <tr>\n",
              "      <th>11451</th>\n",
              "      <td>0.650282</td>\n",
              "      <td>0.005418</td>\n",
              "      <td>0.041716</td>\n",
              "      <td>0.033443</td>\n",
              "      <td>0.269141</td>\n",
              "    </tr>\n",
              "    <tr>\n",
              "      <th>11452</th>\n",
              "      <td>0.015593</td>\n",
              "      <td>0.019408</td>\n",
              "      <td>0.065532</td>\n",
              "      <td>0.004594</td>\n",
              "      <td>0.894873</td>\n",
              "    </tr>\n",
              "    <tr>\n",
              "      <th>11453</th>\n",
              "      <td>0.045969</td>\n",
              "      <td>0.019448</td>\n",
              "      <td>0.126248</td>\n",
              "      <td>0.010571</td>\n",
              "      <td>0.797763</td>\n",
              "    </tr>\n",
              "    <tr>\n",
              "      <th>11454</th>\n",
              "      <td>0.462932</td>\n",
              "      <td>0.001646</td>\n",
              "      <td>0.037338</td>\n",
              "      <td>0.343992</td>\n",
              "      <td>0.154092</td>\n",
              "    </tr>\n",
              "    <tr>\n",
              "      <th>11455</th>\n",
              "      <td>0.141231</td>\n",
              "      <td>0.004559</td>\n",
              "      <td>0.129804</td>\n",
              "      <td>0.368777</td>\n",
              "      <td>0.355628</td>\n",
              "    </tr>\n",
              "  </tbody>\n",
              "</table>\n",
              "<p>11456 rows × 5 columns</p>\n",
              "</div>"
            ],
            "text/plain": [
              "              0         1         2         3         4\n",
              "0      0.127172  0.010259  0.094904  0.267460  0.500205\n",
              "1      0.517071  0.001572  0.031770  0.294208  0.155378\n",
              "2      0.472274  0.003952  0.036769  0.177035  0.309969\n",
              "3      0.183449  0.012067  0.055662  0.159267  0.589555\n",
              "4      0.405329  0.001911  0.044688  0.353661  0.194411\n",
              "...         ...       ...       ...       ...       ...\n",
              "11451  0.650282  0.005418  0.041716  0.033443  0.269141\n",
              "11452  0.015593  0.019408  0.065532  0.004594  0.894873\n",
              "11453  0.045969  0.019448  0.126248  0.010571  0.797763\n",
              "11454  0.462932  0.001646  0.037338  0.343992  0.154092\n",
              "11455  0.141231  0.004559  0.129804  0.368777  0.355628\n",
              "\n",
              "[11456 rows x 5 columns]"
            ]
          },
          "metadata": {
            "tags": []
          },
          "execution_count": 124
        }
      ]
    },
    {
      "cell_type": "code",
      "metadata": {
        "id": "xGkS0vzKFoKA",
        "colab_type": "code",
        "colab": {}
      },
      "source": [
        "df_results.rename(columns={0:'Adoption',1:'Died',\t2:'Euthanasia',3:'Return_to_owner',4:'Transfer'}, inplace=True)"
      ],
      "execution_count": null,
      "outputs": []
    },
    {
      "cell_type": "code",
      "metadata": {
        "id": "Y-hEjgvVGjB1",
        "colab_type": "code",
        "colab": {
          "base_uri": "https://localhost:8080/",
          "height": 406
        },
        "outputId": "f565e1b6-8b73-4114-ba4b-1403ae258aba"
      },
      "source": [
        "df_results"
      ],
      "execution_count": null,
      "outputs": [
        {
          "output_type": "execute_result",
          "data": {
            "text/html": [
              "<div>\n",
              "<style scoped>\n",
              "    .dataframe tbody tr th:only-of-type {\n",
              "        vertical-align: middle;\n",
              "    }\n",
              "\n",
              "    .dataframe tbody tr th {\n",
              "        vertical-align: top;\n",
              "    }\n",
              "\n",
              "    .dataframe thead th {\n",
              "        text-align: right;\n",
              "    }\n",
              "</style>\n",
              "<table border=\"1\" class=\"dataframe\">\n",
              "  <thead>\n",
              "    <tr style=\"text-align: right;\">\n",
              "      <th></th>\n",
              "      <th>Adoption</th>\n",
              "      <th>Died</th>\n",
              "      <th>Euthanasia</th>\n",
              "      <th>Return_to_owner</th>\n",
              "      <th>Transfer</th>\n",
              "    </tr>\n",
              "  </thead>\n",
              "  <tbody>\n",
              "    <tr>\n",
              "      <th>0</th>\n",
              "      <td>0.127172</td>\n",
              "      <td>0.010259</td>\n",
              "      <td>0.094904</td>\n",
              "      <td>0.267460</td>\n",
              "      <td>0.500205</td>\n",
              "    </tr>\n",
              "    <tr>\n",
              "      <th>1</th>\n",
              "      <td>0.517071</td>\n",
              "      <td>0.001572</td>\n",
              "      <td>0.031770</td>\n",
              "      <td>0.294208</td>\n",
              "      <td>0.155378</td>\n",
              "    </tr>\n",
              "    <tr>\n",
              "      <th>2</th>\n",
              "      <td>0.472274</td>\n",
              "      <td>0.003952</td>\n",
              "      <td>0.036769</td>\n",
              "      <td>0.177035</td>\n",
              "      <td>0.309969</td>\n",
              "    </tr>\n",
              "    <tr>\n",
              "      <th>3</th>\n",
              "      <td>0.183449</td>\n",
              "      <td>0.012067</td>\n",
              "      <td>0.055662</td>\n",
              "      <td>0.159267</td>\n",
              "      <td>0.589555</td>\n",
              "    </tr>\n",
              "    <tr>\n",
              "      <th>4</th>\n",
              "      <td>0.405329</td>\n",
              "      <td>0.001911</td>\n",
              "      <td>0.044688</td>\n",
              "      <td>0.353661</td>\n",
              "      <td>0.194411</td>\n",
              "    </tr>\n",
              "    <tr>\n",
              "      <th>...</th>\n",
              "      <td>...</td>\n",
              "      <td>...</td>\n",
              "      <td>...</td>\n",
              "      <td>...</td>\n",
              "      <td>...</td>\n",
              "    </tr>\n",
              "    <tr>\n",
              "      <th>11451</th>\n",
              "      <td>0.650282</td>\n",
              "      <td>0.005418</td>\n",
              "      <td>0.041716</td>\n",
              "      <td>0.033443</td>\n",
              "      <td>0.269141</td>\n",
              "    </tr>\n",
              "    <tr>\n",
              "      <th>11452</th>\n",
              "      <td>0.015593</td>\n",
              "      <td>0.019408</td>\n",
              "      <td>0.065532</td>\n",
              "      <td>0.004594</td>\n",
              "      <td>0.894873</td>\n",
              "    </tr>\n",
              "    <tr>\n",
              "      <th>11453</th>\n",
              "      <td>0.045969</td>\n",
              "      <td>0.019448</td>\n",
              "      <td>0.126248</td>\n",
              "      <td>0.010571</td>\n",
              "      <td>0.797763</td>\n",
              "    </tr>\n",
              "    <tr>\n",
              "      <th>11454</th>\n",
              "      <td>0.462932</td>\n",
              "      <td>0.001646</td>\n",
              "      <td>0.037338</td>\n",
              "      <td>0.343992</td>\n",
              "      <td>0.154092</td>\n",
              "    </tr>\n",
              "    <tr>\n",
              "      <th>11455</th>\n",
              "      <td>0.141231</td>\n",
              "      <td>0.004559</td>\n",
              "      <td>0.129804</td>\n",
              "      <td>0.368777</td>\n",
              "      <td>0.355628</td>\n",
              "    </tr>\n",
              "  </tbody>\n",
              "</table>\n",
              "<p>11456 rows × 5 columns</p>\n",
              "</div>"
            ],
            "text/plain": [
              "       Adoption      Died  Euthanasia  Return_to_owner  Transfer\n",
              "0      0.127172  0.010259    0.094904         0.267460  0.500205\n",
              "1      0.517071  0.001572    0.031770         0.294208  0.155378\n",
              "2      0.472274  0.003952    0.036769         0.177035  0.309969\n",
              "3      0.183449  0.012067    0.055662         0.159267  0.589555\n",
              "4      0.405329  0.001911    0.044688         0.353661  0.194411\n",
              "...         ...       ...         ...              ...       ...\n",
              "11451  0.650282  0.005418    0.041716         0.033443  0.269141\n",
              "11452  0.015593  0.019408    0.065532         0.004594  0.894873\n",
              "11453  0.045969  0.019448    0.126248         0.010571  0.797763\n",
              "11454  0.462932  0.001646    0.037338         0.343992  0.154092\n",
              "11455  0.141231  0.004559    0.129804         0.368777  0.355628\n",
              "\n",
              "[11456 rows x 5 columns]"
            ]
          },
          "metadata": {
            "tags": []
          },
          "execution_count": 126
        }
      ]
    },
    {
      "cell_type": "code",
      "metadata": {
        "id": "RBK5v-C4CpNx",
        "colab_type": "code",
        "colab": {
          "base_uri": "https://localhost:8080/",
          "height": 287
        },
        "outputId": "209bc8c8-0e22-4c49-d99e-3f55ec312894"
      },
      "source": [
        "df_results.describe()"
      ],
      "execution_count": null,
      "outputs": [
        {
          "output_type": "execute_result",
          "data": {
            "text/html": [
              "<div>\n",
              "<style scoped>\n",
              "    .dataframe tbody tr th:only-of-type {\n",
              "        vertical-align: middle;\n",
              "    }\n",
              "\n",
              "    .dataframe tbody tr th {\n",
              "        vertical-align: top;\n",
              "    }\n",
              "\n",
              "    .dataframe thead th {\n",
              "        text-align: right;\n",
              "    }\n",
              "</style>\n",
              "<table border=\"1\" class=\"dataframe\">\n",
              "  <thead>\n",
              "    <tr style=\"text-align: right;\">\n",
              "      <th></th>\n",
              "      <th>Adoption</th>\n",
              "      <th>Died</th>\n",
              "      <th>Euthanasia</th>\n",
              "      <th>Return_to_owner</th>\n",
              "      <th>Transfer</th>\n",
              "    </tr>\n",
              "  </thead>\n",
              "  <tbody>\n",
              "    <tr>\n",
              "      <th>count</th>\n",
              "      <td>11456.000000</td>\n",
              "      <td>11456.000000</td>\n",
              "      <td>11456.000000</td>\n",
              "      <td>11456.000000</td>\n",
              "      <td>11456.000000</td>\n",
              "    </tr>\n",
              "    <tr>\n",
              "      <th>mean</th>\n",
              "      <td>0.407663</td>\n",
              "      <td>0.007230</td>\n",
              "      <td>0.057386</td>\n",
              "      <td>0.178959</td>\n",
              "      <td>0.348762</td>\n",
              "    </tr>\n",
              "    <tr>\n",
              "      <th>std</th>\n",
              "      <td>0.234595</td>\n",
              "      <td>0.008876</td>\n",
              "      <td>0.047769</td>\n",
              "      <td>0.128956</td>\n",
              "      <td>0.239904</td>\n",
              "    </tr>\n",
              "    <tr>\n",
              "      <th>min</th>\n",
              "      <td>0.007333</td>\n",
              "      <td>0.000684</td>\n",
              "      <td>0.009251</td>\n",
              "      <td>0.004395</td>\n",
              "      <td>0.127855</td>\n",
              "    </tr>\n",
              "    <tr>\n",
              "      <th>25%</th>\n",
              "      <td>0.159098</td>\n",
              "      <td>0.001832</td>\n",
              "      <td>0.029053</td>\n",
              "      <td>0.052544</td>\n",
              "      <td>0.186885</td>\n",
              "    </tr>\n",
              "    <tr>\n",
              "      <th>50%</th>\n",
              "      <td>0.451850</td>\n",
              "      <td>0.002441</td>\n",
              "      <td>0.042994</td>\n",
              "      <td>0.169658</td>\n",
              "      <td>0.213974</td>\n",
              "    </tr>\n",
              "    <tr>\n",
              "      <th>75%</th>\n",
              "      <td>0.577884</td>\n",
              "      <td>0.008883</td>\n",
              "      <td>0.067583</td>\n",
              "      <td>0.311174</td>\n",
              "      <td>0.456183</td>\n",
              "    </tr>\n",
              "    <tr>\n",
              "      <th>max</th>\n",
              "      <td>0.818058</td>\n",
              "      <td>0.191085</td>\n",
              "      <td>0.392589</td>\n",
              "      <td>0.430185</td>\n",
              "      <td>0.910694</td>\n",
              "    </tr>\n",
              "  </tbody>\n",
              "</table>\n",
              "</div>"
            ],
            "text/plain": [
              "           Adoption          Died    Euthanasia  Return_to_owner      Transfer\n",
              "count  11456.000000  11456.000000  11456.000000     11456.000000  11456.000000\n",
              "mean       0.407663      0.007230      0.057386         0.178959      0.348762\n",
              "std        0.234595      0.008876      0.047769         0.128956      0.239904\n",
              "min        0.007333      0.000684      0.009251         0.004395      0.127855\n",
              "25%        0.159098      0.001832      0.029053         0.052544      0.186885\n",
              "50%        0.451850      0.002441      0.042994         0.169658      0.213974\n",
              "75%        0.577884      0.008883      0.067583         0.311174      0.456183\n",
              "max        0.818058      0.191085      0.392589         0.430185      0.910694"
            ]
          },
          "metadata": {
            "tags": []
          },
          "execution_count": 127
        }
      ]
    },
    {
      "cell_type": "code",
      "metadata": {
        "id": "7-xHCDxOqbkq",
        "colab_type": "code",
        "colab": {}
      },
      "source": [
        "#score_forest = cross_val_score(classifier_forest, X_train, y_train, scoring='f1_macro', cv=5)\n",
        "#print(score_forest.mean())\n",
        "\n",
        "#score_forest = f1_score(y_train[:11456], y_pred, average='weighted')\n",
        "#print(score_forest)"
      ],
      "execution_count": null,
      "outputs": []
    },
    {
      "cell_type": "markdown",
      "metadata": {
        "id": "ueeBBzaO0i7s",
        "colab_type": "text"
      },
      "source": [
        "# Segunda Correlação das colunas\n",
        "\n",
        "Obs.: Fazer com todos os dados (shelter_ALL), depois com a separacao treino , ambas as vezes apos treino do modelo "
      ]
    },
    {
      "cell_type": "code",
      "metadata": {
        "id": "Qk4HvNcW2cCI",
        "colab_type": "code",
        "colab": {
          "base_uri": "https://localhost:8080/",
          "height": 696
        },
        "outputId": "a8436019-35d0-44b8-e473-388f9785ac06"
      },
      "source": [
        "correlacao = shelter_ALL[filtro_colunas_2].corr()\n",
        "\n",
        "top_cols = correlacao.nlargest(10,'OutcomeType')['OutcomeType'].index\n",
        "\n",
        "plt.figure(figsize=(10, 10))\n",
        "sns.heatmap(correlacao[top_cols[1:]],\n",
        "            annot = True,\n",
        "            fmt = '.2f',\n",
        "            cmap='Blues')\n",
        "plt.title('Correlação entre variáveis do dataset Animal Shelter')\n",
        "plt.show()"
      ],
      "execution_count": null,
      "outputs": [
        {
          "output_type": "display_data",
          "data": {
            "image/png": "[encoded data removed]",
            "text/plain": [
              "<Figure size 720x720 with 2 Axes>"
            ]
          },
          "metadata": {
            "tags": [],
            "needs_background": "light"
          }
        }
      ]
    },
    {
      "cell_type": "code",
      "metadata": {
        "id": "3X77pEhDpt0e",
        "colab_type": "code",
        "colab": {
          "base_uri": "https://localhost:8080/",
          "height": 54
        },
        "outputId": "c4edd3ac-f4c8-42d2-9827-7b8342251e91"
      },
      "source": [
        "\"\"\"param_grid = {\n",
        "            \"criterion\": ['entropy', 'gini'],\n",
        "            \"n_estimators\": [25, 50, 75],\n",
        "            \"bootstrap\": [False, True],\n",
        "            \"max_depth\": [3, 5, 10],\n",
        "            \"max_features\": ['auto', 0.1, 0.2, 0.3]\n",
        "}\"\"\""
      ],
      "execution_count": null,
      "outputs": [
        {
          "output_type": "execute_result",
          "data": {
            "text/plain": [
              "'param_grid = {\\n            \"criterion\": [\\'entropy\\', \\'gini\\'],\\n            \"n_estimators\": [25, 50, 75],\\n            \"bootstrap\": [False, True],\\n            \"max_depth\": [3, 5, 10],\\n            \"max_features\": [\\'auto\\', 0.1, 0.2, 0.3]\\n}'"
            ]
          },
          "metadata": {
            "tags": []
          },
          "execution_count": 130
        }
      ]
    },
    {
      "cell_type": "code",
      "metadata": {
        "id": "yzYbguqJpP2l",
        "colab_type": "code",
        "colab": {
          "base_uri": "https://localhost:8080/",
          "height": 54
        },
        "outputId": "602e7104-f354-48ef-c2d8-34f0986ffc4f"
      },
      "source": [
        "\"\"\"grid_search = GridSearchCV(classifier_forest, param_grid, scoring='f1_macro')\n",
        "grid_search.fit(X_train, y_train)\n",
        "\n",
        "classifier_forest = grid_search.best_estimator_ \n",
        "grid_search.best_params_, grid_search.best_score_\"\"\""
      ],
      "execution_count": null,
      "outputs": [
        {
          "output_type": "execute_result",
          "data": {
            "text/plain": [
              "\"grid_search = GridSearchCV(classifier_forest, param_grid, scoring='f1_macro')\\ngrid_search.fit(X_train, y_train)\\n\\nclassifier_forest = grid_search.best_estimator_ \\ngrid_search.best_params_, grid_search.best_score_\""
            ]
          },
          "metadata": {
            "tags": []
          },
          "execution_count": 131
        }
      ]
    }
  ]
}