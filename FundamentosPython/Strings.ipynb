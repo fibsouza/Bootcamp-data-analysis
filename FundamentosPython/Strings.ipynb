{
  "nbformat": 4,
  "nbformat_minor": 0,
  "metadata": {
    "kernelspec": {
      "display_name": "Python 3",
      "language": "python",
      "name": "python3"
    },
    "language_info": {
      "codemirror_mode": {
        "name": "ipython",
        "version": 3
      },
      "file_extension": ".py",
      "mimetype": "text/x-python",
      "name": "python",
      "nbconvert_exporter": "python",
      "pygments_lexer": "ipython3",
      "version": "3.7.4"
    },
    "colab": {
      "name": "Strings.ipynb",
      "provenance": [],
      "collapsed_sections": [],
      "include_colab_link": true
    }
  },
  "cells": [
    {
      "cell_type": "markdown",
      "metadata": {
        "id": "view-in-github",
        "colab_type": "text"
      },
      "source": [
        "<a href=\"https://colab.research.google.com/github/fibsouza/Bootcamp-data-analysis/blob/master/Strings.ipynb\" target=\"_parent\"><img src=\"https://colab.research.google.com/assets/colab-badge.svg\" alt=\"Open In Colab\"/></a>"
      ]
    },
    {
      "cell_type": "markdown",
      "metadata": {
        "id": "Y4qfPUWR5mAp",
        "colab_type": "text"
      },
      "source": [
        "# Objetivo \n",
        "\n",
        "\n",
        "Manipulação de strings com Python\n",
        "\n",
        "Referências:\n",
        "\n",
        "\n",
        "*   https://docs.python.org/3/contents.html\n",
        "*   https://learning.oreilly.com/library/view/think-python/9781449332006/\n",
        "*   https://www.w3schools.com/python/python_strings.asp\n"
      ]
    },
    {
      "cell_type": "markdown",
      "metadata": {
        "id": "6QNvBxR5_--f",
        "colab_type": "text"
      },
      "source": [
        "## Indexação"
      ]
    },
    {
      "cell_type": "code",
      "metadata": {
        "id": "ISVOzSPKAJRM",
        "colab_type": "code",
        "colab": {
          "base_uri": "https://localhost:8080/",
          "height": 35
        },
        "outputId": "420b4695-9628-496c-94c4-215f69f2a98a"
      },
      "source": [
        "Texto = \"Olá pessoal! Estamos prontos pra começar?\"\n",
        "\n",
        "Texto[:12]"
      ],
      "execution_count": 102,
      "outputs": [
        {
          "output_type": "execute_result",
          "data": {
            "application/vnd.google.colaboratory.intrinsic": {
              "type": "string"
            },
            "text/plain": [
              "'Olá pessoal!'"
            ]
          },
          "metadata": {
            "tags": []
          },
          "execution_count": 102
        }
      ]
    },
    {
      "cell_type": "code",
      "metadata": {
        "id": "yS86o7neAZ6L",
        "colab_type": "code",
        "colab": {
          "base_uri": "https://localhost:8080/",
          "height": 35
        },
        "outputId": "1cf48a07-b8b6-424c-d628-673faa3a826a"
      },
      "source": [
        "Texto[-8:-1]"
      ],
      "execution_count": 103,
      "outputs": [
        {
          "output_type": "execute_result",
          "data": {
            "application/vnd.google.colaboratory.intrinsic": {
              "type": "string"
            },
            "text/plain": [
              "'começar'"
            ]
          },
          "metadata": {
            "tags": []
          },
          "execution_count": 103
        }
      ]
    },
    {
      "cell_type": "code",
      "metadata": {
        "id": "BL2FRFOQoBd4",
        "colab_type": "code",
        "colab": {
          "base_uri": "https://localhost:8080/",
          "height": 33
        },
        "outputId": "182c7700-9a05-4b9b-d1a2-ec567562fffc"
      },
      "source": [
        "#Retorna o index inicial da palavra ou caracter procurado\n",
        "\n",
        "Texto.index('Estamos')"
      ],
      "execution_count": 176,
      "outputs": [
        {
          "output_type": "execute_result",
          "data": {
            "text/plain": [
              "13"
            ]
          },
          "metadata": {
            "tags": []
          },
          "execution_count": 176
        }
      ]
    },
    {
      "cell_type": "code",
      "metadata": {
        "id": "cAGPbfsxn94H",
        "colab_type": "code",
        "colab": {}
      },
      "source": [
        "palavra = \"PALAVRA\"\n",
        "\n",
        "palavra[1] , palavra[-4:-1], palavra[1:6]"
      ],
      "execution_count": null,
      "outputs": []
    },
    {
      "cell_type": "code",
      "metadata": {
        "id": "kBH9cdSMoTQ8",
        "colab_type": "code",
        "colab": {
          "base_uri": "https://localhost:8080/",
          "height": 33
        },
        "outputId": "f9aa8b57-fafc-4e60-90f6-77f2ae701b7b"
      },
      "source": [
        "palavra.index('A')"
      ],
      "execution_count": 177,
      "outputs": [
        {
          "output_type": "execute_result",
          "data": {
            "text/plain": [
              "1"
            ]
          },
          "metadata": {
            "tags": []
          },
          "execution_count": 177
        }
      ]
    },
    {
      "cell_type": "markdown",
      "metadata": {
        "id": "9R5_gVk3hTXr",
        "colab_type": "text"
      },
      "source": [
        "\n",
        "\n",
        "---\n",
        "\n"
      ]
    },
    {
      "cell_type": "markdown",
      "metadata": {
        "id": "H3XZGJIO5a9w",
        "colab_type": "text"
      },
      "source": [
        "##Slicing\n",
        "\n",
        "Utiliza os mesmos princípios de indexacao"
      ]
    },
    {
      "cell_type": "code",
      "metadata": {
        "id": "OUPw2BGo5a9x",
        "colab_type": "code",
        "colab": {}
      },
      "source": [
        "G = \"Olá pessoal! Estamos prontos pra começar?\""
      ],
      "execution_count": 122,
      "outputs": []
    },
    {
      "cell_type": "code",
      "metadata": {
        "id": "AQYnzFI25a92",
        "colab_type": "code",
        "colab": {
          "base_uri": "https://localhost:8080/",
          "height": 35
        },
        "outputId": "2e5963cc-d697-4ec1-f22c-0e5b6648d19f"
      },
      "source": [
        "G[-1]"
      ],
      "execution_count": 123,
      "outputs": [
        {
          "output_type": "execute_result",
          "data": {
            "application/vnd.google.colaboratory.intrinsic": {
              "type": "string"
            },
            "text/plain": [
              "'?'"
            ]
          },
          "metadata": {
            "tags": []
          },
          "execution_count": 123
        }
      ]
    },
    {
      "cell_type": "code",
      "metadata": {
        "id": "Klwv2htX5a9-",
        "colab_type": "code",
        "colab": {
          "base_uri": "https://localhost:8080/",
          "height": 35
        },
        "outputId": "aa25acb7-db44-4ecc-8408-28e1910a86a3"
      },
      "source": [
        "G[2:5] "
      ],
      "execution_count": 124,
      "outputs": [
        {
          "output_type": "execute_result",
          "data": {
            "application/vnd.google.colaboratory.intrinsic": {
              "type": "string"
            },
            "text/plain": [
              "'á p'"
            ]
          },
          "metadata": {
            "tags": []
          },
          "execution_count": 124
        }
      ]
    },
    {
      "cell_type": "code",
      "metadata": {
        "id": "zEa81AWp5a-C",
        "colab_type": "code",
        "colab": {
          "base_uri": "https://localhost:8080/",
          "height": 35
        },
        "outputId": "18cc36fa-8571-44bf-cce9-4399b860f0f2"
      },
      "source": [
        "G[-4:-1]"
      ],
      "execution_count": 125,
      "outputs": [
        {
          "output_type": "execute_result",
          "data": {
            "application/vnd.google.colaboratory.intrinsic": {
              "type": "string"
            },
            "text/plain": [
              "'çar'"
            ]
          },
          "metadata": {
            "tags": []
          },
          "execution_count": 125
        }
      ]
    },
    {
      "cell_type": "markdown",
      "metadata": {
        "id": "qCsPTNdypRIC",
        "colab_type": "text"
      },
      "source": [
        "\n",
        "\n",
        "---\n",
        "\n"
      ]
    },
    {
      "cell_type": "markdown",
      "metadata": {
        "id": "H6pH-cYFhWFh",
        "colab_type": "text"
      },
      "source": [
        "## Tamanho/ Quantidade"
      ]
    },
    {
      "cell_type": "code",
      "metadata": {
        "id": "58PjeNHMhffB",
        "colab_type": "code",
        "colab": {}
      },
      "source": [
        "TextoA = \"Uma string de exemplo1223232 para exercitar o uso de metodos de string\""
      ],
      "execution_count": 158,
      "outputs": []
    },
    {
      "cell_type": "code",
      "metadata": {
        "id": "EV1SXylUhdvJ",
        "colab_type": "code",
        "colab": {
          "base_uri": "https://localhost:8080/",
          "height": 33
        },
        "outputId": "18080ac8-3eee-4b80-b62c-2427810ee5eb"
      },
      "source": [
        "TextoA.count('e'), TextoA.count('2')"
      ],
      "execution_count": 162,
      "outputs": [
        {
          "output_type": "execute_result",
          "data": {
            "text/plain": [
              "(8, 4)"
            ]
          },
          "metadata": {
            "tags": []
          },
          "execution_count": 162
        }
      ]
    },
    {
      "cell_type": "code",
      "metadata": {
        "id": "bYpZISgRh7aH",
        "colab_type": "code",
        "colab": {
          "base_uri": "https://localhost:8080/",
          "height": 33
        },
        "outputId": "9805810a-0b56-475d-e7f8-b50827b2264d"
      },
      "source": [
        "len(TextoA)"
      ],
      "execution_count": 163,
      "outputs": [
        {
          "output_type": "execute_result",
          "data": {
            "text/plain": [
              "70"
            ]
          },
          "metadata": {
            "tags": []
          },
          "execution_count": 163
        }
      ]
    },
    {
      "cell_type": "markdown",
      "metadata": {
        "id": "LiR3V5QClCTO",
        "colab_type": "text"
      },
      "source": [
        "\n",
        "\n",
        "---\n",
        "\n"
      ]
    },
    {
      "cell_type": "markdown",
      "metadata": {
        "id": "M2sHnTuj56Ts",
        "colab_type": "text"
      },
      "source": [
        "## Formatação da fonte"
      ]
    },
    {
      "cell_type": "code",
      "metadata": {
        "id": "y8rsl5D75a7k",
        "colab_type": "code",
        "colab": {
          "base_uri": "https://localhost:8080/",
          "height": 35
        },
        "outputId": "99461e66-5e52-4ec1-a31d-085e3222c80f"
      },
      "source": [
        "A = \"heLLO\"\n",
        "A.lower()"
      ],
      "execution_count": 104,
      "outputs": [
        {
          "output_type": "execute_result",
          "data": {
            "application/vnd.google.colaboratory.intrinsic": {
              "type": "string"
            },
            "text/plain": [
              "'hello'"
            ]
          },
          "metadata": {
            "tags": []
          },
          "execution_count": 104
        }
      ]
    },
    {
      "cell_type": "code",
      "metadata": {
        "id": "_FAFvWwB5a7t",
        "colab_type": "code",
        "colab": {
          "base_uri": "https://localhost:8080/",
          "height": 35
        },
        "outputId": "1c8b6cc0-abe4-4a71-abda-e333140900a9"
      },
      "source": [
        "B = 'olá amigos, viemos receber notícias!'\n",
        "B.upper()"
      ],
      "execution_count": 105,
      "outputs": [
        {
          "output_type": "execute_result",
          "data": {
            "application/vnd.google.colaboratory.intrinsic": {
              "type": "string"
            },
            "text/plain": [
              "'OLÁ AMIGOS, VIEMOS RECEBER NOTÍCIAS!'"
            ]
          },
          "metadata": {
            "tags": []
          },
          "execution_count": 105
        }
      ]
    },
    {
      "cell_type": "code",
      "metadata": {
        "id": "cvJo7BG95a73",
        "colab_type": "code",
        "colab": {
          "base_uri": "https://localhost:8080/",
          "height": 35
        },
        "outputId": "775a5f87-5e31-4ffe-de3a-afa6016d214a"
      },
      "source": [
        "#Apenas a primeira posição da strings será capitalizada\n",
        "B.capitalize()"
      ],
      "execution_count": 106,
      "outputs": [
        {
          "output_type": "execute_result",
          "data": {
            "application/vnd.google.colaboratory.intrinsic": {
              "type": "string"
            },
            "text/plain": [
              "'Olá amigos, viemos receber notícias!'"
            ]
          },
          "metadata": {
            "tags": []
          },
          "execution_count": 106
        }
      ]
    },
    {
      "cell_type": "code",
      "metadata": {
        "id": "8yP5Sehh5a79",
        "colab_type": "code",
        "colab": {
          "base_uri": "https://localhost:8080/",
          "height": 35
        },
        "outputId": "3dd6e441-e007-42e8-9670-de21054941ef"
      },
      "source": [
        "#Irá capitalizar a primeira posição de cada palavra , não só da primeira palavra\n",
        "B.title()"
      ],
      "execution_count": 107,
      "outputs": [
        {
          "output_type": "execute_result",
          "data": {
            "application/vnd.google.colaboratory.intrinsic": {
              "type": "string"
            },
            "text/plain": [
              "'Olá Amigos, Viemos Receber Notícias!'"
            ]
          },
          "metadata": {
            "tags": []
          },
          "execution_count": 107
        }
      ]
    },
    {
      "cell_type": "markdown",
      "metadata": {
        "id": "INWRhE2l_3hj",
        "colab_type": "text"
      },
      "source": [
        "\n",
        "\n",
        "---\n",
        "\n"
      ]
    },
    {
      "cell_type": "markdown",
      "metadata": {
        "id": "U0dY5NOG6I3q",
        "colab_type": "text"
      },
      "source": [
        "## Strings são imutáveis"
      ]
    },
    {
      "cell_type": "code",
      "metadata": {
        "id": "NSQWtAcp6MqV",
        "colab_type": "code",
        "colab": {
          "base_uri": "https://localhost:8080/",
          "height": 33
        },
        "outputId": "d9fae6d7-1886-4df0-fa8d-8424b31cf14d"
      },
      "source": [
        "x = 'Meu nome é Joana'\n",
        "x.title() , x"
      ],
      "execution_count": 108,
      "outputs": [
        {
          "output_type": "execute_result",
          "data": {
            "text/plain": [
              "('Meu Nome É Joana', 'Meu nome é Joana')"
            ]
          },
          "metadata": {
            "tags": []
          },
          "execution_count": 108
        }
      ]
    },
    {
      "cell_type": "markdown",
      "metadata": {
        "id": "Cb25HApx5a8G",
        "colab_type": "text"
      },
      "source": [
        "\n",
        "\n",
        "---\n",
        "\n"
      ]
    },
    {
      "cell_type": "markdown",
      "metadata": {
        "id": "E8aMWxeQ5a8H",
        "colab_type": "text"
      },
      "source": [
        "## Concatenar"
      ]
    },
    {
      "cell_type": "code",
      "metadata": {
        "id": "VSvZK7th5a8J",
        "colab_type": "code",
        "colab": {
          "base_uri": "https://localhost:8080/",
          "height": 35
        },
        "outputId": "1f9a41a1-bfcb-42cf-e4a9-2dde5f7f7c47"
      },
      "source": [
        "#É possível concater strings diretamente\n",
        "\"Olá\"+\"amigos\""
      ],
      "execution_count": 109,
      "outputs": [
        {
          "output_type": "execute_result",
          "data": {
            "application/vnd.google.colaboratory.intrinsic": {
              "type": "string"
            },
            "text/plain": [
              "'Oláamigos'"
            ]
          },
          "metadata": {
            "tags": []
          },
          "execution_count": 109
        }
      ]
    },
    {
      "cell_type": "code",
      "metadata": {
        "id": "ajnKcdJb79nI",
        "colab_type": "code",
        "colab": {
          "base_uri": "https://localhost:8080/",
          "height": 35
        },
        "outputId": "9d6cbec6-9664-4b4c-9b3d-954f480798d8"
      },
      "source": [
        "#É possível concatenar variaveis e strings diretamente\n",
        "\n",
        "label = \"Label\"\n",
        "valor = \"Valor detalhado\"\n",
        "\n",
        "label+ \": \"+valor"
      ],
      "execution_count": 110,
      "outputs": [
        {
          "output_type": "execute_result",
          "data": {
            "application/vnd.google.colaboratory.intrinsic": {
              "type": "string"
            },
            "text/plain": [
              "'Label: Valor detalhado'"
            ]
          },
          "metadata": {
            "tags": []
          },
          "execution_count": 110
        }
      ]
    },
    {
      "cell_type": "code",
      "metadata": {
        "id": "OxczYqZl83PG",
        "colab_type": "code",
        "colab": {
          "base_uri": "https://localhost:8080/",
          "height": 35
        },
        "outputId": "e029e857-729e-4ef8-ea4d-f3c5440f2853"
      },
      "source": [
        "#Mas note que não poderá concatenar tipo numérico com string diretamente \n",
        "\n",
        "nome = \"Franciele\"\n",
        "idade = 28\n",
        "#nome + idade --> TypeError\n",
        "\n",
        "#para corrigir isso, use o conversor para string\n",
        "nome +\" \"+ str(idade)"
      ],
      "execution_count": 166,
      "outputs": [
        {
          "output_type": "execute_result",
          "data": {
            "application/vnd.google.colaboratory.intrinsic": {
              "type": "string"
            },
            "text/plain": [
              "'Franciele 28'"
            ]
          },
          "metadata": {
            "tags": []
          },
          "execution_count": 166
        }
      ]
    },
    {
      "cell_type": "code",
      "metadata": {
        "id": "4LliK_tSlI3y",
        "colab_type": "code",
        "colab": {
          "base_uri": "https://localhost:8080/",
          "height": 33
        },
        "outputId": "163af83a-15e9-4d07-ab56-d48f821c2f5b"
      },
      "source": [
        "# Uma forma muito usada para concatenar strings e variaveis de qualquer tipo é usando o método .format()\n",
        "# {} significa um lugar reservado pra uma variavel informada no parametro do método\n",
        "\n",
        "cidade = \"Rio de janeiro\"\n",
        "\n",
        "frase = \"Meu nome é {}, moro no {} e tenho {} anos\".format(nome, cidade, idade)\n",
        "print(frase)"
      ],
      "execution_count": 167,
      "outputs": [
        {
          "output_type": "stream",
          "text": [
            "Meu nome é Franciele, moro no Rio de janeiro e tenho 28 anos\n"
          ],
          "name": "stdout"
        }
      ]
    },
    {
      "cell_type": "markdown",
      "metadata": {
        "id": "ycxANFLd9hCL",
        "colab_type": "text"
      },
      "source": [
        "\n",
        "\n",
        "---\n",
        "\n"
      ]
    },
    {
      "cell_type": "markdown",
      "metadata": {
        "id": "1RXp89UN5a8P",
        "colab_type": "text"
      },
      "source": [
        "## Operações com strings"
      ]
    },
    {
      "cell_type": "code",
      "metadata": {
        "id": "6Gd0o-1R5a8R",
        "colab_type": "code",
        "colab": {
          "base_uri": "https://localhost:8080/",
          "height": 35
        },
        "outputId": "f15a64e9-8c9d-4d53-a952-3b259bc840c9"
      },
      "source": [
        "\"123\"*3"
      ],
      "execution_count": 112,
      "outputs": [
        {
          "output_type": "execute_result",
          "data": {
            "application/vnd.google.colaboratory.intrinsic": {
              "type": "string"
            },
            "text/plain": [
              "'123123123'"
            ]
          },
          "metadata": {
            "tags": []
          },
          "execution_count": 112
        }
      ]
    },
    {
      "cell_type": "code",
      "metadata": {
        "id": "-Sqd0bLZ5a8Z",
        "colab_type": "code",
        "colab": {
          "base_uri": "https://localhost:8080/",
          "height": 35
        },
        "outputId": "4a80e063-3750-4a50-cbe6-8114884bc119"
      },
      "source": [
        "\"----//----\"*6"
      ],
      "execution_count": 113,
      "outputs": [
        {
          "output_type": "execute_result",
          "data": {
            "application/vnd.google.colaboratory.intrinsic": {
              "type": "string"
            },
            "text/plain": [
              "'----//--------//--------//--------//--------//--------//----'"
            ]
          },
          "metadata": {
            "tags": []
          },
          "execution_count": 113
        }
      ]
    },
    {
      "cell_type": "markdown",
      "metadata": {
        "id": "oEEiubD2mDNA",
        "colab_type": "text"
      },
      "source": [
        "\n",
        "\n",
        "---\n",
        "\n"
      ]
    },
    {
      "cell_type": "markdown",
      "metadata": {
        "id": "Gmg-6sLc-CfC",
        "colab_type": "text"
      },
      "source": [
        "## Remover caracteres"
      ]
    },
    {
      "cell_type": "markdown",
      "metadata": {
        "id": "4Qir6W5m5a8i",
        "colab_type": "text"
      },
      "source": [
        "<b> strip(s[, chars])</b> : Return a copy of the string with leading and trailing characters removed. If chars is omitted or None, whitespace characters are removed."
      ]
    },
    {
      "cell_type": "code",
      "metadata": {
        "id": "S4h2WgKF5a8j",
        "colab_type": "code",
        "colab": {
          "base_uri": "https://localhost:8080/",
          "height": 50
        },
        "outputId": "de3a11d8-9c22-453c-9055-4802610f8edf"
      },
      "source": [
        "C = \"       Extras\\n\"\n",
        "print(C)"
      ],
      "execution_count": 114,
      "outputs": [
        {
          "output_type": "stream",
          "text": [
            "       Extras\n",
            "\n"
          ],
          "name": "stdout"
        }
      ]
    },
    {
      "cell_type": "code",
      "metadata": {
        "id": "HhSSAg1P5a8w",
        "colab_type": "code",
        "colab": {
          "base_uri": "https://localhost:8080/",
          "height": 35
        },
        "outputId": "37801adb-cf47-4d53-b025-1efc3bbdb1a2"
      },
      "source": [
        "C.strip()"
      ],
      "execution_count": 115,
      "outputs": [
        {
          "output_type": "execute_result",
          "data": {
            "application/vnd.google.colaboratory.intrinsic": {
              "type": "string"
            },
            "text/plain": [
              "'Extras'"
            ]
          },
          "metadata": {
            "tags": []
          },
          "execution_count": 115
        }
      ]
    },
    {
      "cell_type": "code",
      "metadata": {
        "id": "4JGtZtzJ5a84",
        "colab_type": "code",
        "colab": {
          "base_uri": "https://localhost:8080/",
          "height": 33
        },
        "outputId": "2a7be2f8-2dc6-420f-9413-cc8627b14701"
      },
      "source": [
        "D = \"**    SHHSSHHHH\"\n",
        "print(D)"
      ],
      "execution_count": 116,
      "outputs": [
        {
          "output_type": "stream",
          "text": [
            "**    SHHSSHHHH\n"
          ],
          "name": "stdout"
        }
      ]
    },
    {
      "cell_type": "code",
      "metadata": {
        "id": "aR8-5p8Z5a9B",
        "colab_type": "code",
        "colab": {
          "base_uri": "https://localhost:8080/",
          "height": 35
        },
        "outputId": "00e86fdc-c57e-4471-bad7-7079553756dd"
      },
      "source": [
        "D.strip(\"*\").strip()"
      ],
      "execution_count": 117,
      "outputs": [
        {
          "output_type": "execute_result",
          "data": {
            "application/vnd.google.colaboratory.intrinsic": {
              "type": "string"
            },
            "text/plain": [
              "'SHHSSHHHH'"
            ]
          },
          "metadata": {
            "tags": []
          },
          "execution_count": 117
        }
      ]
    },
    {
      "cell_type": "code",
      "metadata": {
        "id": "dWJMCl_9gDrW",
        "colab_type": "code",
        "colab": {
          "base_uri": "https://localhost:8080/",
          "height": 35
        },
        "outputId": "8f4144fa-9ac9-4168-d387-3169bd9d5303"
      },
      "source": [
        "# Voce pode remover apenas de um lado ou dos dois lados com argumentos diferentes\n",
        "\n",
        "Dex = \"0000 aniversario----\"\n",
        "Dex.lstrip('0').lstrip().rstrip('-')"
      ],
      "execution_count": 157,
      "outputs": [
        {
          "output_type": "execute_result",
          "data": {
            "application/vnd.google.colaboratory.intrinsic": {
              "type": "string"
            },
            "text/plain": [
              "'aniversario'"
            ]
          },
          "metadata": {
            "tags": []
          },
          "execution_count": 157
        }
      ]
    },
    {
      "cell_type": "code",
      "metadata": {
        "id": "9FwgvKKthG-f",
        "colab_type": "code",
        "colab": {}
      },
      "source": [
        "input('Digite seu nome: ').strip()"
      ],
      "execution_count": null,
      "outputs": []
    },
    {
      "cell_type": "markdown",
      "metadata": {
        "id": "oS8DVIBq-l9_",
        "colab_type": "text"
      },
      "source": [
        "---"
      ]
    },
    {
      "cell_type": "markdown",
      "metadata": {
        "id": "O3mi3egZ5a9Q",
        "colab_type": "text"
      },
      "source": [
        "## Split\n",
        "\n",
        "Por default, utiliza espaço vazio para cortar a string caso nada seja informado no parâmetro"
      ]
    },
    {
      "cell_type": "code",
      "metadata": {
        "id": "7OYM4Ise5a9S",
        "colab_type": "code",
        "colab": {}
      },
      "source": [
        "E = \"Vamos cortar essa string em partes\""
      ],
      "execution_count": 118,
      "outputs": []
    },
    {
      "cell_type": "code",
      "metadata": {
        "id": "yAx_uf3O5a9Y",
        "colab_type": "code",
        "colab": {
          "base_uri": "https://localhost:8080/",
          "height": 33
        },
        "outputId": "26ac404a-fc06-44f4-c3b9-487c2d7d4046"
      },
      "source": [
        "E.split()"
      ],
      "execution_count": 119,
      "outputs": [
        {
          "output_type": "execute_result",
          "data": {
            "text/plain": [
              "['Vamos', 'cortar', 'essa', 'string', 'em', 'partes']"
            ]
          },
          "metadata": {
            "tags": []
          },
          "execution_count": 119
        }
      ]
    },
    {
      "cell_type": "code",
      "metadata": {
        "id": "HX4vGjQt5a9g",
        "colab_type": "code",
        "colab": {}
      },
      "source": [
        "F = \"Maça, Banana, Laranja, Pera\""
      ],
      "execution_count": 120,
      "outputs": []
    },
    {
      "cell_type": "code",
      "metadata": {
        "id": "gQ7iOonG5a9o",
        "colab_type": "code",
        "colab": {
          "base_uri": "https://localhost:8080/",
          "height": 33
        },
        "outputId": "41b6bd66-71d3-43cb-ea36-b691d68092ad"
      },
      "source": [
        "F.split(\",\")"
      ],
      "execution_count": 121,
      "outputs": [
        {
          "output_type": "execute_result",
          "data": {
            "text/plain": [
              "['Maça', ' Banana', ' Laranja', ' Pera']"
            ]
          },
          "metadata": {
            "tags": []
          },
          "execution_count": 121
        }
      ]
    },
    {
      "cell_type": "markdown",
      "metadata": {
        "id": "PSTLuMAp_khu",
        "colab_type": "text"
      },
      "source": [
        "\n",
        "---\n",
        "\n"
      ]
    },
    {
      "cell_type": "markdown",
      "metadata": {
        "id": "QKZiLhGFb7Xz",
        "colab_type": "text"
      },
      "source": [
        "## Condições\n",
        "\n",
        "10\tisalnum()\n",
        "Returns true if string has at least 1 character and all characters are alphanumeric and false otherwise.\n",
        "\n",
        "11\tisalpha()\n",
        "Returns true if string has at least 1 character and all characters are alphabetic and false otherwise.\n",
        "\n",
        "12\tisdigit()\n",
        "Returns true if string contains only digits and false otherwise.\n",
        "\n",
        "13\tislower()\n",
        "Returns true if string has at least 1 cased character and all cased characters are in lowercase and false otherwise.\n",
        "\n",
        "14\tisnumeric()\n",
        "Returns true if a unicode string contains only numeric characters and false otherwise.\n",
        "\n",
        "15\tisspace()\n",
        "Returns true if string contains only whitespace characters and false otherwise.\n",
        "\n",
        "16\tistitle()\n",
        "Returns true if string is properly \"titlecased\" and false otherwise.\n",
        "\n",
        "17\tisupper()\n",
        "Returns true if string has at least one cased character and all cased characters are in uppercase and false otherwise."
      ]
    },
    {
      "cell_type": "code",
      "metadata": {
        "id": "sw46GXnC5bBH",
        "colab_type": "code",
        "colab": {}
      },
      "source": [
        "A.isalpha()"
      ],
      "execution_count": null,
      "outputs": []
    },
    {
      "cell_type": "code",
      "metadata": {
        "id": "33eC_b_FcwLd",
        "colab_type": "code",
        "colab": {
          "base_uri": "https://localhost:8080/",
          "height": 33
        },
        "outputId": "70f9639e-b593-40dc-e1f9-0d6711dc4045"
      },
      "source": [
        "A.isnumeric()"
      ],
      "execution_count": 144,
      "outputs": [
        {
          "output_type": "execute_result",
          "data": {
            "text/plain": [
              "False"
            ]
          },
          "metadata": {
            "tags": []
          },
          "execution_count": 144
        }
      ]
    },
    {
      "cell_type": "code",
      "metadata": {
        "id": "r6-I1XBnc0MO",
        "colab_type": "code",
        "colab": {
          "base_uri": "https://localhost:8080/",
          "height": 33
        },
        "outputId": "b1f1b336-9d01-41eb-e073-8d7d172f675a"
      },
      "source": [
        ""
      ],
      "execution_count": 155,
      "outputs": [
        {
          "output_type": "execute_result",
          "data": {
            "text/plain": [
              "0"
            ]
          },
          "metadata": {
            "tags": []
          },
          "execution_count": 155
        }
      ]
    },
    {
      "cell_type": "markdown",
      "metadata": {
        "id": "BiqObfbCfI9E",
        "colab_type": "text"
      },
      "source": [
        "\n",
        "\n",
        "---\n",
        "\n"
      ]
    },
    {
      "cell_type": "markdown",
      "metadata": {
        "id": "cM2o9VNNfKsZ",
        "colab_type": "text"
      },
      "source": [
        "## Procurar valores"
      ]
    },
    {
      "cell_type": "code",
      "metadata": {
        "id": "9iZ3Z_JkeLrK",
        "colab_type": "code",
        "colab": {}
      },
      "source": [
        "alfabeto = 'abcdefghijlmnopqrs'"
      ],
      "execution_count": 151,
      "outputs": []
    },
    {
      "cell_type": "code",
      "metadata": {
        "id": "VmWgp36fdwrE",
        "colab_type": "code",
        "colab": {
          "base_uri": "https://localhost:8080/",
          "height": 158
        },
        "outputId": "1355f77a-139a-4a7a-a546-24783cb7b80e"
      },
      "source": [
        "# O metodo index() retorna o indice do valor procurado, \n",
        "#no entanto se esse valor nao existe, retorna um ValueError\n",
        "\n",
        "alfabeto.index('ç')\n",
        "\n",
        "# Para evitar isso, use o find() conforme abaixo"
      ],
      "execution_count": 153,
      "outputs": [
        {
          "output_type": "error",
          "ename": "ValueError",
          "evalue": "ignored",
          "traceback": [
            "\u001b[0;31m---------------------------------------------------------------------------\u001b[0m",
            "\u001b[0;31mValueError\u001b[0m                                Traceback (most recent call last)",
            "\u001b[0;32m<ipython-input-153-f0ea8acf5769>\u001b[0m in \u001b[0;36m<module>\u001b[0;34m()\u001b[0m\n\u001b[0;32m----> 1\u001b[0;31m \u001b[0malfabeto\u001b[0m\u001b[0;34m.\u001b[0m\u001b[0mindex\u001b[0m\u001b[0;34m(\u001b[0m\u001b[0;34m'ç'\u001b[0m\u001b[0;34m)\u001b[0m\u001b[0;34m\u001b[0m\u001b[0;34m\u001b[0m\u001b[0m\n\u001b[0m",
            "\u001b[0;31mValueError\u001b[0m: substring not found"
          ]
        }
      ]
    },
    {
      "cell_type": "code",
      "metadata": {
        "id": "LFTlodPiei1A",
        "colab_type": "code",
        "colab": {
          "base_uri": "https://localhost:8080/",
          "height": 33
        },
        "outputId": "e378b929-0428-4897-9c16-e98dcd80f50a"
      },
      "source": [
        "# Se o valor nao existe, apenes retorna -1\n",
        "\n",
        "alfabeto.find('ç')"
      ],
      "execution_count": 154,
      "outputs": [
        {
          "output_type": "execute_result",
          "data": {
            "text/plain": [
              "-1"
            ]
          },
          "metadata": {
            "tags": []
          },
          "execution_count": 154
        }
      ]
    },
    {
      "cell_type": "code",
      "metadata": {
        "id": "9TNec0oRmxot",
        "colab_type": "code",
        "colab": {
          "base_uri": "https://localhost:8080/",
          "height": 33
        },
        "outputId": "fb64842a-8bf4-495c-90e5-a8416ffa6c8e"
      },
      "source": [
        "# Outra forma é usar a palavra reservada in pra saber se algo esta na string\n",
        "# Note que existe diferença entre He e HE (se necessario use os metodos .upper ou .lower pra igualar as strings)\n",
        "\n",
        "word = \"Hello\"\n",
        "\n",
        "\"He\" in word , \"HE\" in word"
      ],
      "execution_count": 171,
      "outputs": [
        {
          "output_type": "execute_result",
          "data": {
            "text/plain": [
              "(True, False)"
            ]
          },
          "metadata": {
            "tags": []
          },
          "execution_count": 171
        }
      ]
    }
  ]
}